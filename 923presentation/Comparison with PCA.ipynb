{
 "cells": [
  {
   "cell_type": "markdown",
   "metadata": {},
   "source": [
    "# convolutional autoencoder with MNIST\n",
    "##  inspired by the [Swarbrick's blog](https://swarbrickjones.wordpress.com/2015/04/29/convolutional-autoencoders-in-pythontheanolasagne/) and Professor [G.E.Hinton's paper](http://science.sciencemag.org/content/313/5786/504)"
   ]
  },
  {
   "cell_type": "code",
   "execution_count": 1,
   "metadata": {
    "collapsed": true
   },
   "outputs": [],
   "source": [
    "import sklearn\n",
    "from sklearn import datasets\n",
    "from PIL import Image\n",
    "from IPython.display import Image as IPImage\n",
    "import numpy as np\n",
    "import gzip\n",
    "import pickle\n",
    "from sklearn.linear_model import LogisticRegression as LR\n",
    "from sklearn.decomposition import PCA\n",
    "import sklearn\n",
    "import pandas"
   ]
  },
  {
   "cell_type": "code",
   "execution_count": 2,
   "metadata": {
    "collapsed": false
   },
   "outputs": [],
   "source": [
    "f = gzip.open('/home/rui/Downloads/mnist.pkl.gz', 'rb')\n",
    "try:\n",
    "    train_set, valid_set, test_set = pickle.load(f, encoding='latin1')\n",
    "except:\n",
    "    train_set, valid_set, test_set = pickle.load(f)\n",
    "f.close()\n",
    "X, Y = train_set\n",
    "X = np.reshape(X, (-1, 1, 28, 28))\n",
    "X_out = X.reshape((X.shape[0], -1))"
   ]
  },
  {
   "cell_type": "code",
   "execution_count": 3,
   "metadata": {
    "collapsed": false
   },
   "outputs": [
    {
     "data": {
      "text/plain": [
       "(50000,)"
      ]
     },
     "execution_count": 3,
     "metadata": {},
     "output_type": "execute_result"
    }
   ],
   "source": [
    "Y.shape"
   ]
  },
  {
   "cell_type": "code",
   "execution_count": 4,
   "metadata": {
    "collapsed": true
   },
   "outputs": [],
   "source": [
    "arr = np.arange(50000)\n",
    "np.random.shuffle(arr)\n",
    "train_index = arr[0:30000]\n",
    "test_index = arr[30000:50000]"
   ]
  },
  {
   "cell_type": "code",
   "execution_count": 5,
   "metadata": {
    "collapsed": false
   },
   "outputs": [],
   "source": [
    "X_train,X_test = [X_out[train_index],X_out[test_index]]\n",
    "Y_train,Y_test = [Y[train_index],Y[test_index]]"
   ]
  },
  {
   "cell_type": "code",
   "execution_count": 6,
   "metadata": {
    "collapsed": true
   },
   "outputs": [],
   "source": [
    "def train_and_eval( model, train_x, train_y, test_x, test_y ):\n",
    "    model.fit( train_x, train_y )\n",
    "    p = model.predict( test_x )\n",
    "    OA = sum(test_y==p)/len(test_y)\n",
    "    return OA"
   ]
  },
  {
   "cell_type": "markdown",
   "metadata": {},
   "source": [
    "### Classification with original data"
   ]
  },
  {
   "cell_type": "code",
   "execution_count": 7,
   "metadata": {
    "collapsed": false
   },
   "outputs": [
    {
     "data": {
      "text/plain": [
       "0.91020000000000001"
      ]
     },
     "execution_count": 7,
     "metadata": {},
     "output_type": "execute_result"
    }
   ],
   "source": [
    "lr = LR(C=1)\n",
    "auc = train_and_eval( lr, X_train, Y_train, \\\n",
    "    X_test, Y_test )\n",
    "auc"
   ]
  },
  {
   "cell_type": "code",
   "execution_count": 8,
   "metadata": {
    "collapsed": false
   },
   "outputs": [
    {
     "data": {
      "text/plain": [
       "0.92669999999999997"
      ]
     },
     "execution_count": 8,
     "metadata": {},
     "output_type": "execute_result"
    }
   ],
   "source": [
    "svm=sklearn.svm.SVC(kernel='linear',C=1,shrinking=False)\n",
    "auc = train_and_eval( svm, X_train, Y_train, \\\n",
    "    X_test, Y_test )\n",
    "auc"
   ]
  },
  {
   "cell_type": "markdown",
   "metadata": {},
   "source": [
    "### Classification with the first 16 principle components."
   ]
  },
  {
   "cell_type": "code",
   "execution_count": 9,
   "metadata": {
    "collapsed": true
   },
   "outputs": [],
   "source": [
    "pca = PCA(n_components=16)\n",
    "pcomp = pca.fit_transform(X_out)\n",
    "X_pcomp_train,X_pcomp_test = [pcomp[train_index],pcomp[test_index]]"
   ]
  },
  {
   "cell_type": "code",
   "execution_count": 10,
   "metadata": {
    "collapsed": false
   },
   "outputs": [
    {
     "data": {
      "text/plain": [
       "0.82625000000000004"
      ]
     },
     "execution_count": 10,
     "metadata": {},
     "output_type": "execute_result"
    }
   ],
   "source": [
    "lr = LR(C=1)\n",
    "auc = train_and_eval( lr, X_pcomp_train, Y_train, \\\n",
    "    X_pcomp_test, Y_test )\n",
    "auc"
   ]
  },
  {
   "cell_type": "code",
   "execution_count": 11,
   "metadata": {
    "collapsed": false
   },
   "outputs": [
    {
     "data": {
      "text/plain": [
       "0.88285000000000002"
      ]
     },
     "execution_count": 11,
     "metadata": {},
     "output_type": "execute_result"
    }
   ],
   "source": [
    "svm=sklearn.svm.SVC(kernel='linear',C=1,shrinking=False)\n",
    "auc = train_and_eval( svm, X_pcomp_train, Y_train, \\\n",
    "    X_pcomp_test, Y_test )\n",
    "auc"
   ]
  },
  {
   "cell_type": "code",
   "execution_count": 13,
   "metadata": {
    "collapsed": true
   },
   "outputs": [],
   "source": [
    "pca_reconstruct = pca.inverse_transform(pcomp)"
   ]
  },
  {
   "cell_type": "code",
   "execution_count": 14,
   "metadata": {
    "collapsed": false
   },
   "outputs": [],
   "source": [
    "temp=np.load('CAE_MNIST_learned_feature.npz')\n",
    "X_pred = temp['arr_0']\n",
    "X_encode = temp['arr_1']"
   ]
  },
  {
   "cell_type": "code",
   "execution_count": 15,
   "metadata": {
    "collapsed": true
   },
   "outputs": [],
   "source": [
    "def get_picture_array(X, rescale=2):\n",
    "    array = X.reshape(28,28)\n",
    "    array = np.clip(array, a_min = 0, a_max = 255)\n",
    "    return  array.repeat(rescale, axis = 0).repeat(rescale, axis = 1).astype(np.uint8())\n",
    "\n",
    "def compare_images_array(index):\n",
    "    length = len(index)\n",
    "    original_image = Image.fromarray(get_picture_array(255 * X[index[0]]))\n",
    "    width,height = original_image.size\n",
    "    new_size = (width * length, height*3)\n",
    "    new_im = Image.new('L', new_size)\n",
    "    for i in range(length):\n",
    "        original_image = Image.fromarray(get_picture_array(255 * X[index[i]]))\n",
    "        CAE_image = Image.fromarray(get_picture_array(255 * X_pred[index[i]]))\n",
    "        pca_image = Image.fromarray(get_picture_array(255 * pca_reconstruct[index[i]]))\n",
    "        new_im.paste(original_image, (i*width,0))\n",
    "        new_im.paste(CAE_image, (i*width,height))\n",
    "        new_im.paste(pca_image, (i*width,height*2))\n",
    "    new_im.save('test.png', format=\"PNG\")\n",
    "    return IPImage('test.png')"
   ]
  },
  {
   "cell_type": "code",
   "execution_count": 16,
   "metadata": {
    "collapsed": false
   },
   "outputs": [
    {
     "data": {
      "image/png": "[encoded data removed]",
      "text/plain": [
       "<IPython.core.display.Image object>"
      ]
     },
     "execution_count": 16,
     "metadata": {},
     "output_type": "execute_result"
    }
   ],
   "source": [
    "index = np.random.random_integers(0, high=49999, size=20)\n",
    "compare_images_array(index)"
   ]
  },
  {
   "cell_type": "markdown",
   "metadata": {},
   "source": [
    "### Classification with the 16 dimension learned feature."
   ]
  },
  {
   "cell_type": "code",
   "execution_count": 17,
   "metadata": {
    "collapsed": false
   },
   "outputs": [
    {
     "data": {
      "text/plain": [
       "0.86019999999999996"
      ]
     },
     "execution_count": 17,
     "metadata": {},
     "output_type": "execute_result"
    }
   ],
   "source": [
    "lr = LR(C=1)\n",
    "auc = train_and_eval( lr, X_encode[train_index], Y[train_index], \\\n",
    "    X_encode[test_index], Y[test_index] )\n",
    "auc"
   ]
  },
  {
   "cell_type": "code",
   "execution_count": 18,
   "metadata": {
    "collapsed": false
   },
   "outputs": [
    {
     "data": {
      "text/plain": [
       "0.90634999999999999"
      ]
     },
     "execution_count": 18,
     "metadata": {},
     "output_type": "execute_result"
    }
   ],
   "source": [
    "svm=sklearn.svm.SVC(kernel='linear',C=1,shrinking=False)\n",
    "auc = train_and_eval( svm, X_encode[train_index], Y[train_index], \\\n",
    "    X_encode[test_index], Y[test_index] )\n",
    "auc"
   ]
  },
  {
   "cell_type": "code",
   "execution_count": null,
   "metadata": {
    "collapsed": true
   },
   "outputs": [],
   "source": []
  }
 ],
 "metadata": {
  "kernelspec": {
   "display_name": "Python 3",
   "language": "python",
   "name": "python3"
  },
  "language_info": {
   "codemirror_mode": {
    "name": "ipython",
    "version": 3
   },
   "file_extension": ".py",
   "mimetype": "text/x-python",
   "name": "python",
   "nbconvert_exporter": "python",
   "pygments_lexer": "ipython3",
   "version": "3.5.0"
  }
 },
 "nbformat": 4,
 "nbformat_minor": 0
}
