{
 "cells": [
  {
   "cell_type": "code",
   "execution_count": 1,
   "metadata": {
    "collapsed": false
   },
   "outputs": [
    {
     "name": "stderr",
     "output_type": "stream",
     "text": [
      "Using gpu device 0: GeForce GTX 750 Ti (CNMeM is disabled, cuDNN Version is too old. Update to v5, was 3007.)\n"
     ]
    },
    {
     "name": "stdout",
     "output_type": "stream",
     "text": [
      "Using cuda_convnet (faster)\n"
     ]
    }
   ],
   "source": [
    "import os, sys, urllib, gzip\n",
    "sys.path.append('/home/rui/pylearn2')\n",
    "from __future__ import print_function\n",
    "try:\n",
    "    import cPickle as pickle\n",
    "except:\n",
    "    import pickle\n",
    "sys.setrecursionlimit(10000)\n",
    "\n",
    "import numpy as np\n",
    "from lasagne.layers import get_output, InputLayer, DenseLayer, Upscale2DLayer, ReshapeLayer\n",
    "from lasagne.nonlinearities import rectify, leaky_rectify, tanh\n",
    "from lasagne.updates import nesterov_momentum\n",
    "from lasagne.objectives import categorical_crossentropy\n",
    "import pylearn2\n",
    "from lasagne.layers.cuda_convnet import Conv2DCCLayer as Conv2DLayerFast\n",
    "from lasagne.regularization import regularize_layer_params, l2, l1\n",
    "import theano\n",
    "import theano.tensor as T\n",
    "import time\n",
    "import lasagne\n",
    "from lasagne.layers import Conv2DLayer as Conv2DLayerSlow\n",
    "from lasagne.layers import MaxPool2DLayer as MaxPool2DLayerSlow\n",
    "try:\n",
    "    from lasagne.layers.cuda_convnet import Conv2DCCLayer as Conv2DLayerFast\n",
    "    from lasagne.layers.cuda_convnet import MaxPool2DCCLayer as MaxPool2DLayerFast\n",
    "    print('Using cuda_convnet (faster)')\n",
    "except ImportError:\n",
    "    from lasagne.layers import Conv2DLayer as Conv2DLayerFast\n",
    "    from lasagne.layers import MaxPool2DLayer as MaxPool2DLayerFast\n",
    "    print('Using lasagne.layers (slower)')\n",
    "import matplotlib\n",
    "matplotlib.use('Agg') # Change matplotlib backend, in case we have no X server running..\n",
    "import matplotlib.pyplot as plt\n",
    "%matplotlib inline\n",
    "import numpy as np\n",
    "from IPython.display import Image as IPImage\n",
    "from PIL import Image\n",
    "from lasagne.regularization import regularize_network_params, l2, l1"
   ]
  },
  {
   "cell_type": "markdown",
   "metadata": {},
   "source": [
    "## helper function"
   ]
  },
  {
   "cell_type": "code",
   "execution_count": 3,
   "metadata": {
    "collapsed": true
   },
   "outputs": [],
   "source": [
    "def get_layer_by_name(net, name):\n",
    "    for i, layer in enumerate(lasagne.layers.get_all_layers(net)):\n",
    "        if layer.name == name:\n",
    "            return layer, i\n",
    "    return None, None"
   ]
  },
  {
   "cell_type": "code",
   "execution_count": 4,
   "metadata": {
    "collapsed": true
   },
   "outputs": [],
   "source": [
    "data = np.load('output/straight_line_data.npz')\n",
    "data1 = data['arr_0']\n",
    "data_out1 = data['arr_1']\n",
    "data2 = data['arr_2']\n",
    "data_out2 = data['arr_3']"
   ]
  },
  {
   "cell_type": "code",
   "execution_count": 5,
   "metadata": {
    "collapsed": false
   },
   "outputs": [],
   "source": [
    "X = np.concatenate((data1,data2))\n",
    "X = np.asarray(X, dtype = np.float32)\n",
    "X = np.reshape(X, (60, 1, 72, 72))"
   ]
  },
  {
   "cell_type": "code",
   "execution_count": 6,
   "metadata": {
    "collapsed": false
   },
   "outputs": [
    {
     "data": {
      "text/plain": [
       "(40, 72, 72)"
      ]
     },
     "execution_count": 6,
     "metadata": {},
     "output_type": "execute_result"
    }
   ],
   "source": [
    "data_out1.shape"
   ]
  },
  {
   "cell_type": "code",
   "execution_count": 7,
   "metadata": {
    "collapsed": true
   },
   "outputs": [],
   "source": [
    "X = X / 255.0\n",
    "X_out = X.reshape((X.shape[0], -1))"
   ]
  },
  {
   "cell_type": "code",
   "execution_count": 8,
   "metadata": {
    "collapsed": true
   },
   "outputs": [],
   "source": [
    "X1 = data1/255.0\n",
    "X1_out = data_out1.reshape((data_out1.shape[0], -1))/255.0\n",
    "X2 = data2/255.0\n",
    "X2_out = data_out2.reshape((data_out2.shape[0], -1))/255.0\n",
    "X1 = np.asarray(X1, dtype = np.float32)\n",
    "X1_out = np.asarray(X1_out, dtype = np.float32)\n",
    "X2 = np.asarray(X2, dtype = np.float32)\n",
    "X2_out = np.asarray(X2_out, dtype = np.float32)\n",
    "X1 = np.reshape(X1, (40, 1, 72, 72))\n",
    "X2 = np.reshape(X2, (20, 1, 72, 72))"
   ]
  },
  {
   "cell_type": "code",
   "execution_count": 9,
   "metadata": {
    "collapsed": true
   },
   "outputs": [],
   "source": [
    "def get_picture_array(X, rescale=2):\n",
    "    array = X.reshape(72,72)\n",
    "    array = np.clip(array, a_min = 0, a_max = 255)\n",
    "    return  array.repeat(rescale, axis = 0).repeat(rescale, axis = 1).astype(np.uint8())"
   ]
  },
  {
   "cell_type": "code",
   "execution_count": 10,
   "metadata": {
    "collapsed": false
   },
   "outputs": [
    {
     "data": {
      "image/png": "[encoded data removed]",
      "text/plain": [
       "<IPython.core.display.Image object>"
      ]
     },
     "execution_count": 10,
     "metadata": {},
     "output_type": "execute_result"
    }
   ],
   "source": [
    "pic_array = get_picture_array(X[2]*255)\n",
    "image = Image.fromarray(pic_array)\n",
    "image.save('./output/temp.png', format=\"PNG\")  \n",
    "IPImage('./output/temp.png')"
   ]
  },
  {
   "cell_type": "code",
   "execution_count": 11,
   "metadata": {
    "collapsed": true
   },
   "outputs": [],
   "source": [
    "conv_num_filters = 16\n",
    "pool_size = 2\n",
    "encode_size = 64\n",
    "pad_in = 'valid'    \n",
    "pad_out = 'full'"
   ]
  },
  {
   "cell_type": "code",
   "execution_count": 12,
   "metadata": {
    "collapsed": true
   },
   "outputs": [],
   "source": [
    "def build_cnn(input_var=None):\n",
    "    \n",
    "    network = InputLayer(shape=(None,  X.shape[1], X.shape[2], X.shape[3]),input_var=input_var)\n",
    "    \n",
    "    network = Conv2DLayerFast(network, name= 'en_conv1_1', num_filters=conv_num_filters, W=lasagne.init.Orthogonal(1.0),\\\n",
    "                              nonlinearity=lasagne.nonlinearities.rectify, filter_size=5, pad=pad_in)\n",
    "\n",
    "    network = Conv2DLayerFast(network, name= 'en_conv1_2', num_filters=conv_num_filters, W=lasagne.init.Orthogonal(1.0),\\\n",
    "                              nonlinearity=lasagne.nonlinearities.rectify, filter_size=5, pad=pad_in)\n",
    "\n",
    "    network = MaxPool2DLayerFast(network, pool_size=pool_size)\n",
    "\n",
    "    network = Conv2DLayerFast(network, name= 'en_conv2_1', num_filters=2*conv_num_filters, W=lasagne.init.Orthogonal(1.0),\\\n",
    "                              nonlinearity=lasagne.nonlinearities.rectify, filter_size=5, pad=pad_in)\n",
    "    \n",
    "    network = Conv2DLayerFast(network, name= 'en_conv2_2', num_filters=2*conv_num_filters, W=lasagne.init.Orthogonal(1.0),\\\n",
    "                              nonlinearity=lasagne.nonlinearities.rectify, filter_size=5, pad=pad_in)\n",
    "\n",
    "    network = MaxPool2DLayerFast(network, pool_size=pool_size)\n",
    "    \n",
    "    network = Conv2DLayerFast(network, name= 'en_conv3_1', num_filters=2*conv_num_filters, W=lasagne.init.Orthogonal(1.0),\\\n",
    "                              nonlinearity=lasagne.nonlinearities.rectify, filter_size=3, pad=pad_in)\n",
    "    \n",
    "    network = Conv2DLayerFast(network, name= 'en_conv3_2', num_filters=2*conv_num_filters, W=lasagne.init.Orthogonal(1.0),\\\n",
    "                              nonlinearity=lasagne.nonlinearities.rectify, filter_size=3, pad=pad_in)\n",
    "    \n",
    "    network = ReshapeLayer(network, shape =(([0], -1)))\n",
    "    \n",
    "    \n",
    "    encode_layer = DenseLayer(network, name= 'encode', num_units= encode_size, W=lasagne.init.Orthogonal(1.0),\\\n",
    "                              nonlinearity=lasagne.nonlinearities.rectify)\n",
    "   \n",
    "    network = DenseLayer(encode_layer, num_units= 8*8*2*conv_num_filters, W=lasagne.init.Orthogonal(1.0),\\\n",
    "                              nonlinearity=lasagne.nonlinearities.rectify)\n",
    "    \n",
    "    network = ReshapeLayer(network, shape =(([0], 2*conv_num_filters, 8, 8)))\n",
    "    \n",
    "    network = Conv2DLayerFast(network, name= 'de_conv1_1', num_filters=2*conv_num_filters, W=lasagne.init.Orthogonal(1.0),\\\n",
    "                              nonlinearity=lasagne.nonlinearities.rectify, filter_size=3, pad=pad_out)\n",
    "    \n",
    "    network = Conv2DLayerFast(network, name= 'de_conv1_2', num_filters=2*conv_num_filters, W=lasagne.init.Orthogonal(1.0),\\\n",
    "                              nonlinearity=lasagne.nonlinearities.rectify, filter_size=3, pad=pad_out)\n",
    "    \n",
    "    network = Upscale2DLayer(network, scale_factor = pool_size)\n",
    "    \n",
    "    network = Conv2DLayerFast(network, name= 'de_conv2_1', num_filters=2*conv_num_filters, W=lasagne.init.Orthogonal(1.0),\\\n",
    "                              nonlinearity=lasagne.nonlinearities.rectify, filter_size=5, pad=pad_out)\n",
    "    \n",
    "    network = Conv2DLayerFast(network, name= 'de_conv2_2', num_filters=2*conv_num_filters, W=lasagne.init.Orthogonal(1.0),\\\n",
    "                              nonlinearity=lasagne.nonlinearities.rectify, filter_size=5, pad=pad_out)\n",
    "\n",
    "    network = Upscale2DLayer(network, scale_factor = pool_size)\n",
    "    \n",
    "    network = Conv2DLayerFast(network, name= 'de_conv3_1', num_filters=conv_num_filters, W=lasagne.init.Orthogonal(1.0),\\\n",
    "                              nonlinearity=lasagne.nonlinearities.rectify, filter_size=5, pad=pad_out)\n",
    "\n",
    "    network = Conv2DLayerSlow(network, name= 'de_conv3_2', num_filters=1, W=lasagne.init.Orthogonal(1.0),\\\n",
    "                              nonlinearity=lasagne.nonlinearities.sigmoid, filter_size=5, pad=pad_out)\n",
    "    \n",
    "    network = ReshapeLayer(network, shape =(([0], -1)))\n",
    "\n",
    "    return network"
   ]
  },
  {
   "cell_type": "code",
   "execution_count": 13,
   "metadata": {
    "collapsed": true
   },
   "outputs": [],
   "source": [
    "def build_ARE(input_var=None):\n",
    "    \n",
    "    network = InputLayer(shape=(None,  X.shape[1], X.shape[2], X.shape[3]),input_var=input_var)\n",
    "    \n",
    "    network = Conv2DLayerFast(network, name= 'en_conv1_1', num_filters=conv_num_filters, W=lasagne.init.Orthogonal(1.0),\\\n",
    "                              nonlinearity=lasagne.nonlinearities.rectify, filter_size=5, pad=pad_in)\n",
    "\n",
    "    network = Conv2DLayerFast(network, name= 'en_conv1_2', num_filters=conv_num_filters, W=lasagne.init.Orthogonal(1.0),\\\n",
    "                              nonlinearity=lasagne.nonlinearities.rectify, filter_size=5, pad=pad_in)\n",
    "\n",
    "    network = MaxPool2DLayerFast(network, pool_size=pool_size)\n",
    "\n",
    "    network = Conv2DLayerFast(network, name= 'en_conv2_1', num_filters=2*conv_num_filters, W=lasagne.init.Orthogonal(1.0),\\\n",
    "                              nonlinearity=lasagne.nonlinearities.rectify, filter_size=5, pad=pad_in)\n",
    "    \n",
    "    network = Conv2DLayerFast(network, name= 'en_conv2_2', num_filters=2*conv_num_filters, W=lasagne.init.Orthogonal(1.0),\\\n",
    "                              nonlinearity=lasagne.nonlinearities.rectify, filter_size=5, pad=pad_in)\n",
    "\n",
    "    network = MaxPool2DLayerFast(network, pool_size=pool_size)\n",
    "    \n",
    "    network = Conv2DLayerFast(network, name= 'en_conv3_1', num_filters=2*conv_num_filters, W=lasagne.init.Orthogonal(1.0),\\\n",
    "                              nonlinearity=lasagne.nonlinearities.rectify, filter_size=3, pad=pad_in)\n",
    "    \n",
    "    network = Conv2DLayerFast(network, name= 'en_conv3_2', num_filters=2*conv_num_filters, W=lasagne.init.Orthogonal(1.0),\\\n",
    "                              nonlinearity=lasagne.nonlinearities.rectify, filter_size=3, pad=pad_in)\n",
    "    \n",
    "    network = ReshapeLayer(network, shape =(([0], -1)))\n",
    "    \n",
    "    \n",
    "    encode_layer = DenseLayer(network, name= 'encode', num_units= encode_size, W=lasagne.init.Orthogonal(1.0),\\\n",
    "                              nonlinearity=lasagne.nonlinearities.rectify)\n",
    "    \n",
    "    action_layer = DenseLayer(encode_layer, name= 'action', num_units= encode_size, W=lasagne.init.Orthogonal(1.0),\\\n",
    "                              nonlinearity=lasagne.nonlinearities.rectify)\n",
    "   \n",
    "    network = DenseLayer(action_layer, num_units= 8*8*2*conv_num_filters, W=lasagne.init.Orthogonal(1.0),\\\n",
    "                              nonlinearity=lasagne.nonlinearities.rectify)\n",
    "    \n",
    "    network = ReshapeLayer(network, shape =(([0], 2*conv_num_filters, 8, 8)))\n",
    "    \n",
    "    network = Conv2DLayerFast(network, name= 'de_conv1_1', num_filters=2*conv_num_filters, W=lasagne.init.Orthogonal(1.0),\\\n",
    "                              nonlinearity=lasagne.nonlinearities.rectify, filter_size=3, pad=pad_out)\n",
    "    \n",
    "    network = Conv2DLayerFast(network, name= 'de_conv1_2', num_filters=2*conv_num_filters, W=lasagne.init.Orthogonal(1.0),\\\n",
    "                              nonlinearity=lasagne.nonlinearities.rectify, filter_size=3, pad=pad_out)\n",
    "    \n",
    "    network = Upscale2DLayer(network, scale_factor = pool_size)\n",
    "    \n",
    "    network = Conv2DLayerFast(network, name= 'de_conv2_1', num_filters=2*conv_num_filters, W=lasagne.init.Orthogonal(1.0),\\\n",
    "                              nonlinearity=lasagne.nonlinearities.rectify, filter_size=5, pad=pad_out)\n",
    "    \n",
    "    network = Conv2DLayerFast(network, name= 'de_conv2_2', num_filters=2*conv_num_filters, W=lasagne.init.Orthogonal(1.0),\\\n",
    "                              nonlinearity=lasagne.nonlinearities.rectify, filter_size=5, pad=pad_out)\n",
    "\n",
    "    network = Upscale2DLayer(network, scale_factor = pool_size)\n",
    "    \n",
    "    network = Conv2DLayerFast(network, name= 'de_conv3_1', num_filters=conv_num_filters, W=lasagne.init.Orthogonal(1.0),\\\n",
    "                              nonlinearity=lasagne.nonlinearities.rectify, filter_size=5, pad=pad_out)\n",
    "\n",
    "    network = Conv2DLayerSlow(network, name= 'de_conv3_2', num_filters=1, W=lasagne.init.Orthogonal(1.0),\\\n",
    "                              nonlinearity=lasagne.nonlinearities.sigmoid, filter_size=5, pad=pad_out)\n",
    "    \n",
    "    network = ReshapeLayer(network, shape =(([0], -1)))\n",
    "\n",
    "    return network"
   ]
  },
  {
   "cell_type": "code",
   "execution_count": 14,
   "metadata": {
    "collapsed": true
   },
   "outputs": [],
   "source": [
    "class ARE(object):\n",
    "    def __init__(self, lambda1 = 5e-6, lambda2 = 0.1):\n",
    "        self.input_var = T.tensor4('inputs')\n",
    "        self.target_var = T.matrix('targets')\n",
    "        self.are_net = build_ARE(self.input_var)\n",
    "        self.reconstructed = lasagne.layers.get_output(self.are_net)\n",
    "        self.encode_layer, _ = get_layer_by_name(self.are_net, 'encode')\n",
    "        self.action_layer, _ = get_layer_by_name(self.are_net, 'action')\n",
    "        self.encoded_feature = lasagne.layers.get_output(self.encode_layer)\n",
    "        self.l1_penalty = regularize_network_params(self.are_net, l1)\n",
    "        self.loss = lasagne.objectives.squared_error(self.reconstructed, self.target_var)\n",
    "        self.XXT = T.dot(self.encoded_feature, self.encoded_feature.transpose())\n",
    "        self.loss = self.loss.mean() + lambda1 * self.l1_penalty + lambda2 * self.XXT.trace()\n",
    "        self.loss = self.loss.mean() + lambda1 * self.l1_penalty\n",
    "        self.params = lasagne.layers.get_all_params(self.are_net, trainable=True)\n",
    "        self.best_err = 999\n",
    "        self.action1_w = np.eye(encode_size, dtype = np.float32)\n",
    "        self.action1_b = np.zeros(encode_size, dtype = np.float32)\n",
    "        self.action2_w = np.eye(encode_size, dtype = np.float32)\n",
    "        self.action2_b = np.zeros(encode_size, dtype = np.float32)\n",
    "        self.action3_w = np.eye(encode_size, dtype = np.float32)\n",
    "        self.action3_b = np.zeros(encode_size, dtype = np.float32)\n",
    "        self.action4_w = np.eye(encode_size, dtype = np.float32)\n",
    "        self.action4_b = np.zeros(encode_size, dtype = np.float32)\n",
    "    \n",
    "    def load_pretrained_model(self, file_name='./output/straight_line/ARE_best_err.npz'):\n",
    "        with np.load(file_name) as f:\n",
    "            param_values = [f['arr_%d' % i] for i in range(len(f.files))]\n",
    "        lasagne.layers.set_all_param_values(self.are_net, param_values)\n",
    "    \n",
    "    def set_action_layer(self, action_id):\n",
    "        if action_id == 1:\n",
    "            self.action_layer.W.set_value(self.action1_w)\n",
    "            self.action_layer.b.set_value(self.action1_b)\n",
    "        elif action_id == 2:\n",
    "            self.action_layer.W.set_value(self.action2_w)\n",
    "            self.action_layer.b.set_value(self.action2_b)\n",
    "        elif action_id == 3:\n",
    "            self.action_layer.W.set_value(self.action3_w)\n",
    "            self.action_layer.b.set_value(self.action3_b)\n",
    "        elif action_id == 4:\n",
    "            self.action_layer.W.set_value(self.action4_w)\n",
    "            self.action_layer.b.set_value(self.action4_b)\n",
    "        else:\n",
    "            raise Exception('not a valid action')\n",
    "    \n",
    "    def get_action_layer(self, action_id):\n",
    "        if action_id == 1:\n",
    "            self.action1_w = self.action_layer.W.get_value()\n",
    "            self.action1_b = self.action_layer.b.get_value()\n",
    "        elif action_id == 2:\n",
    "            self.action2_w = self.action_layer.W.get_value()\n",
    "            self.action2_b = self.action_layer.b.get_value()\n",
    "        elif action_id == 3:\n",
    "            self.action3_w = self.action_layer.W.get_value()\n",
    "            self.action3_b = self.action_layer.b.get_value()\n",
    "        elif action_id == 4:\n",
    "            self.action4_w = self.action_layer.W.get_value()\n",
    "            self.action4_b = self.action_layer.b.get_value()\n",
    "        else:\n",
    "            raise Exception('not a valid action')\n",
    "    \n",
    "    \n",
    "    def reset_loss(self, lambda1 = 5e-6, lambda2 = 0.1):\n",
    "        self.loss = lasagne.objectives.squared_error(self.reconstructed, self.target_var)\n",
    "        self.loss = self.loss.mean() + lambda1 * self.l1_penalty + lambda2 * self.XXT.trace()\n",
    "    \n",
    "    def train_network(self, learnrate=0.01,num_epochs=500, verbose = True, save_model = False):\n",
    "        updates = lasagne.updates.nesterov_momentum(\n",
    "            self.loss, self.params, learning_rate=learnrate, momentum=0.975)\n",
    "        train_fn = theano.function([self.input_var, self.target_var], self.loss, updates=updates,on_unused_input='warn')\n",
    "        if verbose:\n",
    "            print(\"Starting training...\")\n",
    "        for epoch in range(num_epochs):\n",
    "            start_time = time.time()\n",
    "            train_err = train_fn(X, X_out)\n",
    "            if verbose:\n",
    "                print(\"Epoch {} of {} took {:.3f}s\".format(\n",
    "                    epoch + 1, num_epochs, time.time() - start_time))\n",
    "                print(train_err)\n",
    "                print(\"training loss:\\t\\t{:.6f}\".format(float(train_err)))\n",
    "            if save_model:\n",
    "                if train_err < self.best_err:\n",
    "                    self.best_err = train_err\n",
    "                    np.savez('./output/straight_line/CAE.npz', *lasagne.layers.get_all_param_values(self.are_net))\n",
    "    \n",
    "    def train_ARE_network(self, learnrate=0.01, num_epochs=500, verbose = True, save_model = False):\n",
    "        updates = lasagne.updates.nesterov_momentum(\n",
    "            self.loss, self.params, learning_rate=learnrate, momentum=0.975)\n",
    "        train_fn = theano.function([self.input_var, self.target_var], self.loss, updates=updates,on_unused_input='warn')\n",
    "        if verbose:\n",
    "            print(\"Starting training...\")\n",
    "        for epoch in range(num_epochs):\n",
    "            start_time = time.time()\n",
    "            self.set_action_layer(1)\n",
    "            train_err1 = train_fn(X1, X1_out)\n",
    "            self.get_action_layer(1)\n",
    "            self.set_action_layer(2)\n",
    "            train_err2 = train_fn(X2, X2_out)\n",
    "            self.get_action_layer(2)\n",
    "            train_err = (train_err1 + train_err2)/2\n",
    "            if verbose:\n",
    "                print(\"Epoch {} of {} took {:.3f}s\".format(\n",
    "                    epoch + 1, num_epochs, time.time() - start_time))\n",
    "                print(train_err)\n",
    "                print(\"training loss:\\t\\t{:.6f}\".format(float(train_err)))\n",
    "            if save_model:\n",
    "                if train_err < self.best_err:\n",
    "                    self.best_err = train_err\n",
    "                    np.savez('./output/straight_line/ARE_best_err.npz', *lasagne.layers.get_all_param_values(self.are_net))"
   ]
  },
  {
   "cell_type": "code",
   "execution_count": 15,
   "metadata": {
    "collapsed": false
   },
   "outputs": [],
   "source": [
    "lena_are = ARE()"
   ]
  },
  {
   "cell_type": "code",
   "execution_count": 100,
   "metadata": {
    "collapsed": true
   },
   "outputs": [],
   "source": [
    "lena_are.reset_loss(0, 1e-4)"
   ]
  },
  {
   "cell_type": "code",
   "execution_count": 101,
   "metadata": {
    "collapsed": false
   },
   "outputs": [],
   "source": [
    "lena_are.train_ARE_network(learnrate=0.01,num_epochs=5000, verbose = False, save_model = True)\n",
    "lena_are.load_pretrained_model()\n",
    "lena_are.train_ARE_network(learnrate=0.005,num_epochs=5000, verbose = False, save_model = True)\n",
    "lena_are.load_pretrained_model()\n",
    "lena_are.train_ARE_network(learnrate=0.001,num_epochs=20000, verbose = False, save_model = True)\n",
    "lena_are.load_pretrained_model()\n",
    "lena_are.train_ARE_network(learnrate=0.0005,num_epochs=10000, verbose = False, save_model = True)"
   ]
  },
  {
   "cell_type": "code",
   "execution_count": 102,
   "metadata": {
    "collapsed": false
   },
   "outputs": [
    {
     "data": {
      "text/plain": [
       "0.0020628171041607857"
      ]
     },
     "execution_count": 102,
     "metadata": {},
     "output_type": "execute_result"
    }
   ],
   "source": [
    "lena_are.best_err"
   ]
  },
  {
   "cell_type": "code",
   "execution_count": 16,
   "metadata": {
    "collapsed": true
   },
   "outputs": [],
   "source": [
    "lena_are.load_pretrained_model()\n"
   ]
  },
  {
   "cell_type": "code",
   "execution_count": 17,
   "metadata": {
    "collapsed": true
   },
   "outputs": [],
   "source": [
    "output_func = theano.function([lena_are.input_var], [lasagne.layers.get_output(lena_are.are_net)])\n",
    "data_pred = np.zeros((40,72*72))\n",
    "data_pred = output_func(X1)[0]"
   ]
  },
  {
   "cell_type": "code",
   "execution_count": 18,
   "metadata": {
    "collapsed": false
   },
   "outputs": [
    {
     "data": {
      "text/plain": [
       "(40, 5184)"
      ]
     },
     "execution_count": 18,
     "metadata": {},
     "output_type": "execute_result"
    }
   ],
   "source": [
    "data_pred.shape"
   ]
  },
  {
   "cell_type": "code",
   "execution_count": 19,
   "metadata": {
    "collapsed": false
   },
   "outputs": [
    {
     "data": {
      "image/png": "[encoded data removed]",
      "text/plain": [
       "<IPython.core.display.Image object>"
      ]
     },
     "execution_count": 19,
     "metadata": {},
     "output_type": "execute_result"
    }
   ],
   "source": [
    "pic_array = get_picture_array(data_pred[19]*255)\n",
    "image = Image.fromarray(pic_array)\n",
    "image.save('temp.png', format=\"PNG\")  \n",
    "IPImage('temp.png')"
   ]
  },
  {
   "cell_type": "code",
   "execution_count": 20,
   "metadata": {
    "collapsed": false
   },
   "outputs": [
    {
     "data": {
      "image/png": "[encoded data removed]",
      "text/plain": [
       "<IPython.core.display.Image object>"
      ]
     },
     "execution_count": 20,
     "metadata": {},
     "output_type": "execute_result"
    }
   ],
   "source": [
    "pic_array = get_picture_array(X[19]*255)\n",
    "image = Image.fromarray(pic_array)\n",
    "image.save('temp.png', format=\"PNG\")  \n",
    "IPImage('temp.png')"
   ]
  },
  {
   "cell_type": "code",
   "execution_count": 21,
   "metadata": {
    "collapsed": true
   },
   "outputs": [],
   "source": [
    "output_func = theano.function([lena_are.input_var], [lasagne.layers.get_output(lena_are.encode_layer)])\n",
    "X_encode = output_func(X)[0]"
   ]
  },
  {
   "cell_type": "code",
   "execution_count": 32,
   "metadata": {
    "collapsed": true
   },
   "outputs": [],
   "source": [
    "from sklearn.decomposition import PCA\n",
    "pca = PCA(20)\n",
    "X_pcomp = pca.fit_transform(X_encode)"
   ]
  },
  {
   "cell_type": "code",
   "execution_count": 33,
   "metadata": {
    "collapsed": false
   },
   "outputs": [
    {
     "data": {
      "text/plain": [
       "(60, 20)"
      ]
     },
     "execution_count": 33,
     "metadata": {},
     "output_type": "execute_result"
    }
   ],
   "source": [
    "X_pcomp.shape"
   ]
  },
  {
   "cell_type": "markdown",
   "metadata": {},
   "source": [
    "## spectral plot of the learned hidden space"
   ]
  },
  {
   "cell_type": "code",
   "execution_count": 34,
   "metadata": {
    "collapsed": false
   },
   "outputs": [
    {
     "data": {
      "text/plain": [
       "[<matplotlib.lines.Line2D at 0x7fbd5afc4e80>]"
      ]
     },
     "execution_count": 34,
     "metadata": {},
     "output_type": "execute_result"
    },
    {
     "data": {
      "image/png": "[encoded data removed]",
      "text/plain": [
       "<matplotlib.figure.Figure at 0x7fbd57f20320>"
      ]
     },
     "metadata": {},
     "output_type": "display_data"
    }
   ],
   "source": [
    "plt.figure(figsize=(20,10))\n",
    "plt.plot(np.arange(1,21),pca.explained_variance_ratio_)"
   ]
  },
  {
   "cell_type": "markdown",
   "metadata": {},
   "source": [
    "# learned trajectory"
   ]
  },
  {
   "cell_type": "code",
   "execution_count": 38,
   "metadata": {
    "collapsed": false
   },
   "outputs": [
    {
     "data": {
      "text/plain": [
       "[<matplotlib.lines.Line2D at 0x7fbd5ee21e10>]"
      ]
     },
     "execution_count": 38,
     "metadata": {},
     "output_type": "execute_result"
    },
    {
     "data": {
      "image/png": "[encoded data removed]",
      "text/plain": [
       "<matplotlib.figure.Figure at 0x7fbd5c2bae80>"
      ]
     },
     "metadata": {},
     "output_type": "display_data"
    }
   ],
   "source": [
    "plt.figure(figsize=(20,10))\n",
    "plt.plot(np.arange(1,61),X_pcomp[:,0])"
   ]
  },
  {
   "cell_type": "code",
   "execution_count": 132,
   "metadata": {
    "collapsed": false
   },
   "outputs": [
    {
     "data": {
      "image/png": "[encoded data removed]",
      "text/plain": [
       "<IPython.core.display.Image object>"
      ]
     },
     "execution_count": 132,
     "metadata": {},
     "output_type": "execute_result"
    }
   ],
   "source": [
    "pic_array = get_picture_array(data_pred[20]*255)\n",
    "image = Image.fromarray(pic_array)\n",
    "image.save('temp.png', format=\"PNG\")  \n",
    "IPImage('temp.png')"
   ]
  },
  {
   "cell_type": "code",
   "execution_count": 133,
   "metadata": {
    "collapsed": false
   },
   "outputs": [
    {
     "data": {
      "image/png": "[encoded data removed]",
      "text/plain": [
       "<IPython.core.display.Image object>"
      ]
     },
     "execution_count": 133,
     "metadata": {},
     "output_type": "execute_result"
    }
   ],
   "source": [
    "pic_array = get_picture_array(data_pred[21]*255)\n",
    "image = Image.fromarray(pic_array)\n",
    "image.save('temp.png', format=\"PNG\")  \n",
    "IPImage('temp.png')"
   ]
  },
  {
   "cell_type": "code",
   "execution_count": 134,
   "metadata": {
    "collapsed": false
   },
   "outputs": [
    {
     "data": {
      "image/png": "[encoded data removed]",
      "text/plain": [
       "<IPython.core.display.Image object>"
      ]
     },
     "execution_count": 134,
     "metadata": {},
     "output_type": "execute_result"
    }
   ],
   "source": [
    "pic_array = get_picture_array(data_pred[22]*255)\n",
    "image = Image.fromarray(pic_array)\n",
    "image.save('temp.png', format=\"PNG\")  \n",
    "IPImage('temp.png')"
   ]
  },
  {
   "cell_type": "code",
   "execution_count": 135,
   "metadata": {
    "collapsed": false
   },
   "outputs": [
    {
     "data": {
      "image/png": "[encoded data removed]",
      "text/plain": [
       "<IPython.core.display.Image object>"
      ]
     },
     "execution_count": 135,
     "metadata": {},
     "output_type": "execute_result"
    }
   ],
   "source": [
    "pic_array = get_picture_array(data_pred[23]*255)\n",
    "image = Image.fromarray(pic_array)\n",
    "image.save('temp.png', format=\"PNG\")  \n",
    "IPImage('temp.png')"
   ]
  },
  {
   "cell_type": "code",
   "execution_count": 137,
   "metadata": {
    "collapsed": false
   },
   "outputs": [
    {
     "data": {
      "text/plain": [
       "0.0019948706030845642"
      ]
     },
     "execution_count": 137,
     "metadata": {},
     "output_type": "execute_result"
    }
   ],
   "source": [
    "lena_are.train_ARE_network(learnrate=0.001,num_epochs=5000, verbose = False, save_model = True)\n",
    "lena_are.best_err"
   ]
  },
  {
   "cell_type": "code",
   "execution_count": null,
   "metadata": {
    "collapsed": true
   },
   "outputs": [],
   "source": []
  }
 ],
 "metadata": {
  "kernelspec": {
   "display_name": "Python 3",
   "language": "python",
   "name": "python3"
  },
  "language_info": {
   "codemirror_mode": {
    "name": "ipython",
    "version": 3
   },
   "file_extension": ".py",
   "mimetype": "text/x-python",
   "name": "python",
   "nbconvert_exporter": "python",
   "pygments_lexer": "ipython3",
   "version": "3.5.0"
  }
 },
 "nbformat": 4,
 "nbformat_minor": 0
}
