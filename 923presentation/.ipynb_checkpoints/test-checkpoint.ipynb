{
 "cells": [
  {
   "cell_type": "code",
   "execution_count": 55,
   "metadata": {
    "collapsed": true
   },
   "outputs": [],
   "source": [
    "import sklearn\n",
    "from sklearn import datasets\n",
    "from PIL import Image\n",
    "from IPython.display import Image as IPImage\n",
    "import numpy as np\n",
    "from sklearn.linear_model import LogisticRegression as LR\n",
    "from sklearn.decomposition import PCA\n",
    "import sklearn\n",
    "import pandas"
   ]
  },
  {
   "cell_type": "code",
   "execution_count": 16,
   "metadata": {
    "collapsed": false
   },
   "outputs": [
    {
     "data": {
      "text/plain": [
       "0.66942149"
      ]
     },
     "execution_count": 16,
     "metadata": {},
     "output_type": "execute_result"
    }
   ],
   "source": [
    "face=sklearn.datasets.fetch_olivetti_faces(shuffle=True)\n",
    "X,Y = [face.data,face.target]\n",
    "X_out = X\n",
    "X = np.reshape(X, (-1, 1, 64, 64))\n",
    "X[0,0,0,0]"
   ]
  },
  {
   "cell_type": "code",
   "execution_count": 24,
   "metadata": {
    "collapsed": false
   },
   "outputs": [
    {
     "data": {
      "text/plain": [
       "(400,)"
      ]
     },
     "execution_count": 24,
     "metadata": {},
     "output_type": "execute_result"
    }
   ],
   "source": [
    "Y.shape"
   ]
  },
  {
   "cell_type": "code",
   "execution_count": 14,
   "metadata": {
    "collapsed": true
   },
   "outputs": [],
   "source": [
    "def get_picture_array(X, rescale=2):\n",
    "    array = X.reshape(64,64)\n",
    "    array = np.clip(array, a_min = 0, a_max = 255)\n",
    "    return  array.repeat(rescale, axis = 0).repeat(rescale, axis = 1).astype(np.uint8())\n",
    "\n",
    "def compare_images(index):\n",
    "    print(index)\n",
    "    original_image = Image.fromarray(get_picture_array(255 * X[index]))\n",
    "    new_size = (original_image.size[0] * 2, original_image.size[1])\n",
    "    new_im = Image.new('L', new_size)\n",
    "    new_im.paste(original_image, (0,0))\n",
    "    rec_image = Image.fromarray(get_picture_array(255 * X[index]))\n",
    "    new_im.paste(rec_image, (original_image.size[0],0))\n",
    "    new_im.save('test.png', format=\"PNG\")\n",
    "    return IPImage('test.png')"
   ]
  },
  {
   "cell_type": "code",
   "execution_count": 15,
   "metadata": {
    "collapsed": false
   },
   "outputs": [
    {
     "name": "stdout",
     "output_type": "stream",
     "text": [
      "1\n"
     ]
    },
    {
     "data": {
      "image/png": "[encoded data removed]",
      "text/plain": [
       "<IPython.core.display.Image object>"
      ]
     },
     "execution_count": 15,
     "metadata": {},
     "output_type": "execute_result"
    }
   ],
   "source": [
    "compare_images(1)"
   ]
  },
  {
   "cell_type": "code",
   "execution_count": 25,
   "metadata": {
    "collapsed": false
   },
   "outputs": [],
   "source": [
    "X_train,X_test = [X_out[0:200],X_out[200:400]]\n",
    "Y_train,Y_test = [Y[0:200],Y[200:400]]"
   ]
  },
  {
   "cell_type": "code",
   "execution_count": 26,
   "metadata": {
    "collapsed": true
   },
   "outputs": [],
   "source": [
    "def train_and_eval( model, train_x, train_y, test_x, test_y ):\n",
    "    model.fit( train_x, train_y )\n",
    "    p = model.predict( test_x )\n",
    "    OA = sum(test_y==p)/len(test_y)\n",
    "    return OA"
   ]
  },
  {
   "cell_type": "code",
   "execution_count": 28,
   "metadata": {
    "collapsed": false
   },
   "outputs": [
    {
     "data": {
      "text/plain": [
       "0.89000000000000001"
      ]
     },
     "execution_count": 28,
     "metadata": {},
     "output_type": "execute_result"
    }
   ],
   "source": [
    "lr = LR(C=1)\n",
    "auc = train_and_eval( lr, X_train, Y_train, \\\n",
    "    X_test, Y_test )\n",
    "auc"
   ]
  },
  {
   "cell_type": "code",
   "execution_count": 30,
   "metadata": {
    "collapsed": false
   },
   "outputs": [
    {
     "data": {
      "text/plain": [
       "0.89000000000000001"
      ]
     },
     "execution_count": 30,
     "metadata": {},
     "output_type": "execute_result"
    }
   ],
   "source": [
    "svm=sklearn.svm.SVC(kernel='linear',C=1,shrinking=False)\n",
    "auc = train_and_eval( lr, X_train, Y_train, \\\n",
    "    X_test, Y_test )\n",
    "auc"
   ]
  },
  {
   "cell_type": "code",
   "execution_count": 36,
   "metadata": {
    "collapsed": true
   },
   "outputs": [],
   "source": [
    "pca = PCA(n_components=30)\n",
    "pcomp = pca.fit_transform(X_out)"
   ]
  },
  {
   "cell_type": "code",
   "execution_count": 40,
   "metadata": {
    "collapsed": false
   },
   "outputs": [],
   "source": [
    "X_pcomp_train,X_pcomp_test = [pcomp[0:200],pcomp[200:400]]"
   ]
  },
  {
   "cell_type": "code",
   "execution_count": 41,
   "metadata": {
    "collapsed": false
   },
   "outputs": [
    {
     "data": {
      "text/plain": [
       "0.88"
      ]
     },
     "execution_count": 41,
     "metadata": {},
     "output_type": "execute_result"
    }
   ],
   "source": [
    "lr = LR(C=1)\n",
    "auc = train_and_eval( lr, X_pcomp_train, Y_train, \\\n",
    "    X_pcomp_test, Y_test )\n",
    "auc"
   ]
  },
  {
   "cell_type": "code",
   "execution_count": 43,
   "metadata": {
    "collapsed": false
   },
   "outputs": [
    {
     "data": {
      "text/plain": [
       "0.88"
      ]
     },
     "execution_count": 43,
     "metadata": {},
     "output_type": "execute_result"
    }
   ],
   "source": [
    "svm=sklearn.svm.SVC(kernel='linear',C=1,shrinking=False)\n",
    "auc = train_and_eval( lr, X_pcomp_train, Y_train, \\\n",
    "    X_pcomp_test, Y_test )\n",
    "auc"
   ]
  },
  {
   "cell_type": "code",
   "execution_count": 51,
   "metadata": {
    "collapsed": false
   },
   "outputs": [],
   "source": [
    "pc = pcomp[:,:2]"
   ]
  },
  {
   "cell_type": "code",
   "execution_count": 53,
   "metadata": {
    "collapsed": false
   },
   "outputs": [],
   "source": [
    "d = {'pc1': pc[:,0], 'pc2': pc[:,1], 'label':Y}"
   ]
  },
  {
   "cell_type": "code",
   "execution_count": 56,
   "metadata": {
    "collapsed": false
   },
   "outputs": [],
   "source": [
    "df = pandas.DataFrame(data=d)"
   ]
  },
  {
   "cell_type": "code",
   "execution_count": 57,
   "metadata": {
    "collapsed": false
   },
   "outputs": [
    {
     "data": {
      "text/html": [
       "<div>\n",
       "<table border=\"1\" class=\"dataframe\">\n",
       "  <thead>\n",
       "    <tr style=\"text-align: right;\">\n",
       "      <th></th>\n",
       "      <th>label</th>\n",
       "      <th>pc1</th>\n",
       "      <th>pc2</th>\n",
       "    </tr>\n",
       "  </thead>\n",
       "  <tbody>\n",
       "    <tr>\n",
       "      <th>0</th>\n",
       "      <td>13</td>\n",
       "      <td>-0.815794</td>\n",
       "      <td>4.144041</td>\n",
       "    </tr>\n",
       "    <tr>\n",
       "      <th>1</th>\n",
       "      <td>30</td>\n",
       "      <td>-3.863374</td>\n",
       "      <td>1.334571</td>\n",
       "    </tr>\n",
       "    <tr>\n",
       "      <th>2</th>\n",
       "      <td>34</td>\n",
       "      <td>-4.869930</td>\n",
       "      <td>0.558664</td>\n",
       "    </tr>\n",
       "    <tr>\n",
       "      <th>3</th>\n",
       "      <td>19</td>\n",
       "      <td>3.312180</td>\n",
       "      <td>-2.601747</td>\n",
       "    </tr>\n",
       "    <tr>\n",
       "      <th>4</th>\n",
       "      <td>24</td>\n",
       "      <td>1.941182</td>\n",
       "      <td>1.317607</td>\n",
       "    </tr>\n",
       "    <tr>\n",
       "      <th>5</th>\n",
       "      <td>6</td>\n",
       "      <td>5.095630</td>\n",
       "      <td>1.359509</td>\n",
       "    </tr>\n",
       "    <tr>\n",
       "      <th>6</th>\n",
       "      <td>15</td>\n",
       "      <td>0.795102</td>\n",
       "      <td>-0.113287</td>\n",
       "    </tr>\n",
       "    <tr>\n",
       "      <th>7</th>\n",
       "      <td>26</td>\n",
       "      <td>0.498783</td>\n",
       "      <td>3.932787</td>\n",
       "    </tr>\n",
       "    <tr>\n",
       "      <th>8</th>\n",
       "      <td>14</td>\n",
       "      <td>1.179250</td>\n",
       "      <td>-0.686191</td>\n",
       "    </tr>\n",
       "    <tr>\n",
       "      <th>9</th>\n",
       "      <td>21</td>\n",
       "      <td>-9.317702</td>\n",
       "      <td>-0.801708</td>\n",
       "    </tr>\n",
       "    <tr>\n",
       "      <th>10</th>\n",
       "      <td>3</td>\n",
       "      <td>0.550191</td>\n",
       "      <td>-1.494406</td>\n",
       "    </tr>\n",
       "    <tr>\n",
       "      <th>11</th>\n",
       "      <td>13</td>\n",
       "      <td>0.416044</td>\n",
       "      <td>0.919711</td>\n",
       "    </tr>\n",
       "    <tr>\n",
       "      <th>12</th>\n",
       "      <td>11</td>\n",
       "      <td>-1.770312</td>\n",
       "      <td>1.455201</td>\n",
       "    </tr>\n",
       "    <tr>\n",
       "      <th>13</th>\n",
       "      <td>34</td>\n",
       "      <td>1.620709</td>\n",
       "      <td>-7.074333</td>\n",
       "    </tr>\n",
       "    <tr>\n",
       "      <th>14</th>\n",
       "      <td>1</td>\n",
       "      <td>0.524120</td>\n",
       "      <td>2.574734</td>\n",
       "    </tr>\n",
       "    <tr>\n",
       "      <th>15</th>\n",
       "      <td>5</td>\n",
       "      <td>10.085659</td>\n",
       "      <td>-1.584028</td>\n",
       "    </tr>\n",
       "    <tr>\n",
       "      <th>16</th>\n",
       "      <td>29</td>\n",
       "      <td>-4.384500</td>\n",
       "      <td>-1.062124</td>\n",
       "    </tr>\n",
       "    <tr>\n",
       "      <th>17</th>\n",
       "      <td>14</td>\n",
       "      <td>0.937969</td>\n",
       "      <td>1.749204</td>\n",
       "    </tr>\n",
       "    <tr>\n",
       "      <th>18</th>\n",
       "      <td>20</td>\n",
       "      <td>-0.740209</td>\n",
       "      <td>-6.013628</td>\n",
       "    </tr>\n",
       "    <tr>\n",
       "      <th>19</th>\n",
       "      <td>19</td>\n",
       "      <td>-4.411085</td>\n",
       "      <td>2.061195</td>\n",
       "    </tr>\n",
       "    <tr>\n",
       "      <th>20</th>\n",
       "      <td>17</td>\n",
       "      <td>5.730083</td>\n",
       "      <td>1.653835</td>\n",
       "    </tr>\n",
       "    <tr>\n",
       "      <th>21</th>\n",
       "      <td>26</td>\n",
       "      <td>-0.425021</td>\n",
       "      <td>4.809280</td>\n",
       "    </tr>\n",
       "    <tr>\n",
       "      <th>22</th>\n",
       "      <td>12</td>\n",
       "      <td>2.361898</td>\n",
       "      <td>-1.042903</td>\n",
       "    </tr>\n",
       "    <tr>\n",
       "      <th>23</th>\n",
       "      <td>34</td>\n",
       "      <td>1.661219</td>\n",
       "      <td>-7.139774</td>\n",
       "    </tr>\n",
       "    <tr>\n",
       "      <th>24</th>\n",
       "      <td>17</td>\n",
       "      <td>5.747660</td>\n",
       "      <td>-1.360192</td>\n",
       "    </tr>\n",
       "    <tr>\n",
       "      <th>25</th>\n",
       "      <td>31</td>\n",
       "      <td>4.098613</td>\n",
       "      <td>3.988247</td>\n",
       "    </tr>\n",
       "    <tr>\n",
       "      <th>26</th>\n",
       "      <td>7</td>\n",
       "      <td>7.446715</td>\n",
       "      <td>-6.557558</td>\n",
       "    </tr>\n",
       "    <tr>\n",
       "      <th>27</th>\n",
       "      <td>1</td>\n",
       "      <td>0.072638</td>\n",
       "      <td>4.245053</td>\n",
       "    </tr>\n",
       "    <tr>\n",
       "      <th>28</th>\n",
       "      <td>28</td>\n",
       "      <td>-2.404108</td>\n",
       "      <td>-3.015224</td>\n",
       "    </tr>\n",
       "    <tr>\n",
       "      <th>29</th>\n",
       "      <td>10</td>\n",
       "      <td>3.405546</td>\n",
       "      <td>3.629158</td>\n",
       "    </tr>\n",
       "    <tr>\n",
       "      <th>...</th>\n",
       "      <td>...</td>\n",
       "      <td>...</td>\n",
       "      <td>...</td>\n",
       "    </tr>\n",
       "    <tr>\n",
       "      <th>370</th>\n",
       "      <td>24</td>\n",
       "      <td>0.084960</td>\n",
       "      <td>2.222331</td>\n",
       "    </tr>\n",
       "    <tr>\n",
       "      <th>371</th>\n",
       "      <td>11</td>\n",
       "      <td>5.170927</td>\n",
       "      <td>-4.084556</td>\n",
       "    </tr>\n",
       "    <tr>\n",
       "      <th>372</th>\n",
       "      <td>26</td>\n",
       "      <td>-0.310946</td>\n",
       "      <td>4.047103</td>\n",
       "    </tr>\n",
       "    <tr>\n",
       "      <th>373</th>\n",
       "      <td>7</td>\n",
       "      <td>5.682676</td>\n",
       "      <td>5.024226</td>\n",
       "    </tr>\n",
       "    <tr>\n",
       "      <th>374</th>\n",
       "      <td>33</td>\n",
       "      <td>-9.321359</td>\n",
       "      <td>-1.100295</td>\n",
       "    </tr>\n",
       "    <tr>\n",
       "      <th>375</th>\n",
       "      <td>2</td>\n",
       "      <td>0.446502</td>\n",
       "      <td>-1.385882</td>\n",
       "    </tr>\n",
       "    <tr>\n",
       "      <th>376</th>\n",
       "      <td>16</td>\n",
       "      <td>3.281810</td>\n",
       "      <td>-8.393914</td>\n",
       "    </tr>\n",
       "    <tr>\n",
       "      <th>377</th>\n",
       "      <td>33</td>\n",
       "      <td>-7.875077</td>\n",
       "      <td>0.756646</td>\n",
       "    </tr>\n",
       "    <tr>\n",
       "      <th>378</th>\n",
       "      <td>38</td>\n",
       "      <td>-9.062961</td>\n",
       "      <td>0.069653</td>\n",
       "    </tr>\n",
       "    <tr>\n",
       "      <th>379</th>\n",
       "      <td>17</td>\n",
       "      <td>3.680928</td>\n",
       "      <td>-0.404217</td>\n",
       "    </tr>\n",
       "    <tr>\n",
       "      <th>380</th>\n",
       "      <td>38</td>\n",
       "      <td>-9.057638</td>\n",
       "      <td>0.911910</td>\n",
       "    </tr>\n",
       "    <tr>\n",
       "      <th>381</th>\n",
       "      <td>3</td>\n",
       "      <td>1.655406</td>\n",
       "      <td>4.919836</td>\n",
       "    </tr>\n",
       "    <tr>\n",
       "      <th>382</th>\n",
       "      <td>19</td>\n",
       "      <td>-0.150987</td>\n",
       "      <td>-1.256687</td>\n",
       "    </tr>\n",
       "    <tr>\n",
       "      <th>383</th>\n",
       "      <td>31</td>\n",
       "      <td>0.908464</td>\n",
       "      <td>4.816950</td>\n",
       "    </tr>\n",
       "    <tr>\n",
       "      <th>384</th>\n",
       "      <td>8</td>\n",
       "      <td>0.222124</td>\n",
       "      <td>-0.485473</td>\n",
       "    </tr>\n",
       "    <tr>\n",
       "      <th>385</th>\n",
       "      <td>7</td>\n",
       "      <td>4.274425</td>\n",
       "      <td>4.928189</td>\n",
       "    </tr>\n",
       "    <tr>\n",
       "      <th>386</th>\n",
       "      <td>8</td>\n",
       "      <td>1.977259</td>\n",
       "      <td>-1.523591</td>\n",
       "    </tr>\n",
       "    <tr>\n",
       "      <th>387</th>\n",
       "      <td>29</td>\n",
       "      <td>-2.991198</td>\n",
       "      <td>2.727835</td>\n",
       "    </tr>\n",
       "    <tr>\n",
       "      <th>388</th>\n",
       "      <td>24</td>\n",
       "      <td>1.792451</td>\n",
       "      <td>2.166719</td>\n",
       "    </tr>\n",
       "    <tr>\n",
       "      <th>389</th>\n",
       "      <td>27</td>\n",
       "      <td>0.125020</td>\n",
       "      <td>3.584377</td>\n",
       "    </tr>\n",
       "    <tr>\n",
       "      <th>390</th>\n",
       "      <td>21</td>\n",
       "      <td>-9.570886</td>\n",
       "      <td>-1.603891</td>\n",
       "    </tr>\n",
       "    <tr>\n",
       "      <th>391</th>\n",
       "      <td>0</td>\n",
       "      <td>1.961542</td>\n",
       "      <td>2.094351</td>\n",
       "    </tr>\n",
       "    <tr>\n",
       "      <th>392</th>\n",
       "      <td>35</td>\n",
       "      <td>3.484269</td>\n",
       "      <td>-2.784696</td>\n",
       "    </tr>\n",
       "    <tr>\n",
       "      <th>393</th>\n",
       "      <td>19</td>\n",
       "      <td>-0.280165</td>\n",
       "      <td>-1.403415</td>\n",
       "    </tr>\n",
       "    <tr>\n",
       "      <th>394</th>\n",
       "      <td>25</td>\n",
       "      <td>-0.757065</td>\n",
       "      <td>-0.857303</td>\n",
       "    </tr>\n",
       "    <tr>\n",
       "      <th>395</th>\n",
       "      <td>32</td>\n",
       "      <td>-8.194264</td>\n",
       "      <td>-0.155997</td>\n",
       "    </tr>\n",
       "    <tr>\n",
       "      <th>396</th>\n",
       "      <td>19</td>\n",
       "      <td>-3.250704</td>\n",
       "      <td>1.149793</td>\n",
       "    </tr>\n",
       "    <tr>\n",
       "      <th>397</th>\n",
       "      <td>11</td>\n",
       "      <td>2.003471</td>\n",
       "      <td>1.844954</td>\n",
       "    </tr>\n",
       "    <tr>\n",
       "      <th>398</th>\n",
       "      <td>4</td>\n",
       "      <td>1.970527</td>\n",
       "      <td>-3.378712</td>\n",
       "    </tr>\n",
       "    <tr>\n",
       "      <th>399</th>\n",
       "      <td>17</td>\n",
       "      <td>4.105235</td>\n",
       "      <td>-1.991720</td>\n",
       "    </tr>\n",
       "  </tbody>\n",
       "</table>\n",
       "<p>400 rows × 3 columns</p>\n",
       "</div>"
      ],
      "text/plain": [
       "     label        pc1       pc2\n",
       "0       13  -0.815794  4.144041\n",
       "1       30  -3.863374  1.334571\n",
       "2       34  -4.869930  0.558664\n",
       "3       19   3.312180 -2.601747\n",
       "4       24   1.941182  1.317607\n",
       "5        6   5.095630  1.359509\n",
       "6       15   0.795102 -0.113287\n",
       "7       26   0.498783  3.932787\n",
       "8       14   1.179250 -0.686191\n",
       "9       21  -9.317702 -0.801708\n",
       "10       3   0.550191 -1.494406\n",
       "11      13   0.416044  0.919711\n",
       "12      11  -1.770312  1.455201\n",
       "13      34   1.620709 -7.074333\n",
       "14       1   0.524120  2.574734\n",
       "15       5  10.085659 -1.584028\n",
       "16      29  -4.384500 -1.062124\n",
       "17      14   0.937969  1.749204\n",
       "18      20  -0.740209 -6.013628\n",
       "19      19  -4.411085  2.061195\n",
       "20      17   5.730083  1.653835\n",
       "21      26  -0.425021  4.809280\n",
       "22      12   2.361898 -1.042903\n",
       "23      34   1.661219 -7.139774\n",
       "24      17   5.747660 -1.360192\n",
       "25      31   4.098613  3.988247\n",
       "26       7   7.446715 -6.557558\n",
       "27       1   0.072638  4.245053\n",
       "28      28  -2.404108 -3.015224\n",
       "29      10   3.405546  3.629158\n",
       "..     ...        ...       ...\n",
       "370     24   0.084960  2.222331\n",
       "371     11   5.170927 -4.084556\n",
       "372     26  -0.310946  4.047103\n",
       "373      7   5.682676  5.024226\n",
       "374     33  -9.321359 -1.100295\n",
       "375      2   0.446502 -1.385882\n",
       "376     16   3.281810 -8.393914\n",
       "377     33  -7.875077  0.756646\n",
       "378     38  -9.062961  0.069653\n",
       "379     17   3.680928 -0.404217\n",
       "380     38  -9.057638  0.911910\n",
       "381      3   1.655406  4.919836\n",
       "382     19  -0.150987 -1.256687\n",
       "383     31   0.908464  4.816950\n",
       "384      8   0.222124 -0.485473\n",
       "385      7   4.274425  4.928189\n",
       "386      8   1.977259 -1.523591\n",
       "387     29  -2.991198  2.727835\n",
       "388     24   1.792451  2.166719\n",
       "389     27   0.125020  3.584377\n",
       "390     21  -9.570886 -1.603891\n",
       "391      0   1.961542  2.094351\n",
       "392     35   3.484269 -2.784696\n",
       "393     19  -0.280165 -1.403415\n",
       "394     25  -0.757065 -0.857303\n",
       "395     32  -8.194264 -0.155997\n",
       "396     19  -3.250704  1.149793\n",
       "397     11   2.003471  1.844954\n",
       "398      4   1.970527 -3.378712\n",
       "399     17   4.105235 -1.991720\n",
       "\n",
       "[400 rows x 3 columns]"
      ]
     },
     "execution_count": 57,
     "metadata": {},
     "output_type": "execute_result"
    }
   ],
   "source": [
    "df"
   ]
  },
  {
   "cell_type": "code",
   "execution_count": 58,
   "metadata": {
    "collapsed": false
   },
   "outputs": [
    {
     "data": {
      "text/html": [
       "\n",
       "    <div class=\"bk-banner\">\n",
       "        <a href=\"http://bokeh.pydata.org\" target=\"_blank\" class=\"bk-logo bk-logo-small bk-logo-notebook\"></a>\n",
       "        <span id=\"63cf3be7-7f64-47ed-a0e5-f3534269d821\">Loading BokehJS ...</span>\n",
       "    </div>"
      ]
     },
     "metadata": {},
     "output_type": "display_data"
    },
    {
     "data": {
      "application/javascript": [
       "\n",
       "(function(global) {\n",
       "  function now() {\n",
       "    return new Date();\n",
       "  }\n",
       "\n",
       "  if (typeof (window._bokeh_onload_callbacks) === \"undefined\") {\n",
       "    window._bokeh_onload_callbacks = [];\n",
       "  }\n",
       "\n",
       "  function run_callbacks() {\n",
       "    window._bokeh_onload_callbacks.forEach(function(callback) { callback() });\n",
       "    delete window._bokeh_onload_callbacks\n",
       "    console.info(\"Bokeh: all callbacks have finished\");\n",
       "  }\n",
       "\n",
       "  function load_libs(js_urls, callback) {\n",
       "    window._bokeh_onload_callbacks.push(callback);\n",
       "    if (window._bokeh_is_loading > 0) {\n",
       "      console.log(\"Bokeh: BokehJS is being loaded, scheduling callback at\", now());\n",
       "      return null;\n",
       "    }\n",
       "    if (js_urls == null || js_urls.length === 0) {\n",
       "      run_callbacks();\n",
       "      return null;\n",
       "    }\n",
       "    console.log(\"Bokeh: BokehJS not loaded, scheduling load and callback at\", now());\n",
       "    window._bokeh_is_loading = js_urls.length;\n",
       "    for (var i = 0; i < js_urls.length; i++) {\n",
       "      var url = js_urls[i];\n",
       "      var s = document.createElement('script');\n",
       "      s.src = url;\n",
       "      s.async = false;\n",
       "      s.onreadystatechange = s.onload = function() {\n",
       "        window._bokeh_is_loading--;\n",
       "        if (window._bokeh_is_loading === 0) {\n",
       "          console.log(\"Bokeh: all BokehJS libraries loaded\");\n",
       "          run_callbacks()\n",
       "        }\n",
       "      };\n",
       "      s.onerror = function() {\n",
       "        console.warn(\"failed to load library \" + url);\n",
       "      };\n",
       "      console.log(\"Bokeh: injecting script tag for BokehJS library: \", url);\n",
       "      document.getElementsByTagName(\"head\")[0].appendChild(s);\n",
       "    }\n",
       "  };\n",
       "\n",
       "  var js_urls = ['https://cdn.pydata.org/bokeh/release/bokeh-0.11.1.min.js', 'https://cdn.pydata.org/bokeh/release/bokeh-widgets-0.11.1.min.js', 'https://cdn.pydata.org/bokeh/release/bokeh-compiler-0.11.1.min.js'];\n",
       "\n",
       "  var inline_js = [\n",
       "    function(Bokeh) {\n",
       "      Bokeh.set_log_level(\"info\");\n",
       "    },\n",
       "    \n",
       "    function(Bokeh) {\n",
       "      Bokeh.$(\"#63cf3be7-7f64-47ed-a0e5-f3534269d821\").text(\"BokehJS successfully loaded\");\n",
       "    },\n",
       "    function(Bokeh) {\n",
       "      console.log(\"Bokeh: injecting CSS: https://cdn.pydata.org/bokeh/release/bokeh-0.11.1.min.css\");\n",
       "      Bokeh.embed.inject_css(\"https://cdn.pydata.org/bokeh/release/bokeh-0.11.1.min.css\");\n",
       "      console.log(\"Bokeh: injecting CSS: https://cdn.pydata.org/bokeh/release/bokeh-widgets-0.11.1.min.css\");\n",
       "      Bokeh.embed.inject_css(\"https://cdn.pydata.org/bokeh/release/bokeh-widgets-0.11.1.min.css\");\n",
       "    }\n",
       "  ];\n",
       "\n",
       "  function run_inline_js() {\n",
       "    for (var i = 0; i < inline_js.length; i++) {\n",
       "      inline_js[i](window.Bokeh);\n",
       "    }\n",
       "  }\n",
       "\n",
       "  if (window._bokeh_is_loading === 0) {\n",
       "    console.log(\"Bokeh: BokehJS loaded, going straight to plotting\");\n",
       "    run_inline_js();\n",
       "  } else {\n",
       "    load_libs(js_urls, function() {\n",
       "      console.log(\"Bokeh: BokehJS plotting callback run at\", now());\n",
       "      run_inline_js();\n",
       "    });\n",
       "  }\n",
       "}(this));"
      ]
     },
     "metadata": {},
     "output_type": "display_data"
    },
    {
     "data": {
      "text/html": [
       "\n",
       "\n",
       "    <div class=\"plotdiv\" id=\"d3f33239-568c-4095-a18a-31b35bf2aa3f\"></div>\n",
       "<script type=\"text/javascript\">\n",
       "  \n",
       "  (function(global) {\n",
       "    function now() {\n",
       "      return new Date();\n",
       "    }\n",
       "  \n",
       "    if (typeof (window._bokeh_onload_callbacks) === \"undefined\") {\n",
       "      window._bokeh_onload_callbacks = [];\n",
       "    }\n",
       "  \n",
       "    function run_callbacks() {\n",
       "      window._bokeh_onload_callbacks.forEach(function(callback) { callback() });\n",
       "      delete window._bokeh_onload_callbacks\n",
       "      console.info(\"Bokeh: all callbacks have finished\");\n",
       "    }\n",
       "  \n",
       "    function load_libs(js_urls, callback) {\n",
       "      window._bokeh_onload_callbacks.push(callback);\n",
       "      if (window._bokeh_is_loading > 0) {\n",
       "        console.log(\"Bokeh: BokehJS is being loaded, scheduling callback at\", now());\n",
       "        return null;\n",
       "      }\n",
       "      if (js_urls == null || js_urls.length === 0) {\n",
       "        run_callbacks();\n",
       "        return null;\n",
       "      }\n",
       "      console.log(\"Bokeh: BokehJS not loaded, scheduling load and callback at\", now());\n",
       "      window._bokeh_is_loading = js_urls.length;\n",
       "      for (var i = 0; i < js_urls.length; i++) {\n",
       "        var url = js_urls[i];\n",
       "        var s = document.createElement('script');\n",
       "        s.src = url;\n",
       "        s.async = false;\n",
       "        s.onreadystatechange = s.onload = function() {\n",
       "          window._bokeh_is_loading--;\n",
       "          if (window._bokeh_is_loading === 0) {\n",
       "            console.log(\"Bokeh: all BokehJS libraries loaded\");\n",
       "            run_callbacks()\n",
       "          }\n",
       "        };\n",
       "        s.onerror = function() {\n",
       "          console.warn(\"failed to load library \" + url);\n",
       "        };\n",
       "        console.log(\"Bokeh: injecting script tag for BokehJS library: \", url);\n",
       "        document.getElementsByTagName(\"head\")[0].appendChild(s);\n",
       "      }\n",
       "    };var element = document.getElementById(\"d3f33239-568c-4095-a18a-31b35bf2aa3f\");\n",
       "    if (element == null) {\n",
       "      console.log(\"Bokeh: ERROR: autoload.js configured with elementid 'd3f33239-568c-4095-a18a-31b35bf2aa3f' but no matching script tag was found. \")\n",
       "      return false;\n",
       "    }\n",
       "  \n",
       "    var js_urls = [];\n",
       "  \n",
       "    var inline_js = [\n",
       "      function(Bokeh) {\n",
       "        Bokeh.$(function() {\n",
       "            var docs_json = {\"21bda359-1b29-468e-9fd1-610484c949c2\":{\"roots\":{\"references\":[{\"attributes\":{\"fill_alpha\":{\"value\":0.7},\"fill_color\":{\"value\":\"#f22c40\"},\"line_color\":{\"value\":\"#f22c40\"},\"size\":{\"units\":\"screen\",\"value\":8},\"x\":{\"field\":\"x_values\"},\"y\":{\"field\":\"y_values\"}},\"id\":\"8f00c097-5c14-4900-af57-4a859604e2ad\",\"type\":\"Circle\"},{\"attributes\":{\"callback\":null,\"column_names\":[\"y_values\",\"x_values\"],\"data\":{\"chart_index\":[{\"label\":36},{\"label\":36},{\"label\":36},{\"label\":36},{\"label\":36},{\"label\":36},{\"label\":36},{\"label\":36},{\"label\":36},{\"label\":36}],\"label\":[36,36,36,36,36,36,36,36,36,36],\"x_values\":[-6.989459991455078,-6.655467510223389,-6.832425117492676,-6.569398403167725,-3.3484251499176025,-8.26184368133545,-4.799197673797607,-4.055965900421143,-2.541370153427124,-2.7664201259613037],\"y_values\":[1.115751028060913,1.1544828414916992,1.6627312898635864,0.9664802551269531,-2.8072171211242676,0.9405279755592346,-3.408277988433838,-1.4422364234924316,-2.8299484252929688,-3.0188961029052734]}},\"id\":\"d6b1218d-83e5-41fe-b4a4-dc2414728587\",\"type\":\"ColumnDataSource\"},{\"attributes\":{\"fill_alpha\":{\"value\":0.7},\"fill_color\":{\"value\":\"#c33ff3\"},\"line_color\":{\"value\":\"#c33ff3\"},\"size\":{\"units\":\"screen\",\"value\":8},\"x\":{\"field\":\"x_values\"},\"y\":{\"field\":\"y_values\"}},\"id\":\"1e0261ae-60db-4c63-8cbd-f913674846f1\",\"type\":\"Circle\"},{\"attributes\":{\"data_source\":{\"id\":\"2f7abef3-bef1-43c7-9fa4-8c330b667a70\",\"type\":\"ColumnDataSource\"},\"glyph\":{\"id\":\"9affb3fe-2e0d-481d-9484-18b2ef0b05ad\",\"type\":\"Circle\"},\"hover_glyph\":null,\"nonselection_glyph\":null,\"selection_glyph\":null},\"id\":\"3c7aadcb-36e1-435c-995f-c09884ed575b\",\"type\":\"GlyphRenderer\"},{\"attributes\":{\"fill_alpha\":{\"value\":0.7},\"fill_color\":{\"value\":\"#c33ff3\"},\"line_color\":{\"value\":\"#c33ff3\"},\"size\":{\"units\":\"screen\",\"value\":8},\"x\":{\"field\":\"x_values\"},\"y\":{\"field\":\"y_values\"}},\"id\":\"3c55551f-239b-477a-8eda-bd9472405eed\",\"type\":\"Circle\"},{\"attributes\":{\"plot\":{\"id\":\"49a8aeb9-dd98-4b6a-bb6f-e26a13328153\",\"subtype\":\"Chart\",\"type\":\"Plot\"}},\"id\":\"a5017754-fad8-4ce9-86b1-aa6dec4b4d7f\",\"type\":\"WheelZoomTool\"},{\"attributes\":{\"callback\":null,\"end\":13.190491867065429,\"start\":-13.574357223510741},\"id\":\"68470990-8eba-4e4c-a2e2-f31aad031988\",\"type\":\"Range1d\"},{\"attributes\":{\"fill_alpha\":{\"value\":0.7},\"fill_color\":{\"value\":\"#407ee7\"},\"line_color\":{\"value\":\"#407ee7\"},\"size\":{\"units\":\"screen\",\"value\":8},\"x\":{\"field\":\"x_values\"},\"y\":{\"field\":\"y_values\"}},\"id\":\"1c76c187-0910-4be0-afee-ca8cf058004f\",\"type\":\"Circle\"},{\"attributes\":{\"data_source\":{\"id\":\"73f55666-2189-43b3-bb94-41d5e165ec20\",\"type\":\"ColumnDataSource\"},\"glyph\":{\"id\":\"f20bda27-339f-4740-8d45-73b389f7f435\",\"type\":\"Circle\"},\"hover_glyph\":null,\"nonselection_glyph\":null,\"selection_glyph\":null},\"id\":\"2e563e95-02f3-40b7-b1db-94ea499003f5\",\"type\":\"GlyphRenderer\"},{\"attributes\":{\"data_source\":{\"id\":\"724e4e87-fdd4-484a-90d2-90e07f58ecf7\",\"type\":\"ColumnDataSource\"},\"glyph\":{\"id\":\"6afd0f7e-5a0c-4f1f-a25c-0a13c7cdf688\",\"type\":\"Circle\"},\"hover_glyph\":null,\"nonselection_glyph\":null,\"selection_glyph\":null},\"id\":\"4d4c3fcf-adb8-4e83-bf9e-d2d3d9ac2c2b\",\"type\":\"GlyphRenderer\"},{\"attributes\":{\"bottom_units\":\"screen\",\"fill_alpha\":{\"value\":0.5},\"fill_color\":{\"value\":\"lightgrey\"},\"left_units\":\"screen\",\"level\":\"overlay\",\"line_alpha\":{\"value\":1.0},\"line_color\":{\"value\":\"black\"},\"line_dash\":[4,4],\"line_width\":{\"value\":2},\"plot\":null,\"render_mode\":\"css\",\"right_units\":\"screen\",\"top_units\":\"screen\"},\"id\":\"87bf339e-201f-421c-9f46-b0e40c5d3f16\",\"type\":\"BoxAnnotation\"},{\"attributes\":{\"callback\":null,\"column_names\":[\"y_values\",\"x_values\"],\"data\":{\"chart_index\":[{\"label\":8},{\"label\":8},{\"label\":8},{\"label\":8},{\"label\":8},{\"label\":8},{\"label\":8},{\"label\":8},{\"label\":8},{\"label\":8}],\"label\":[8,8,8,8,8,8,8,8,8,8],\"x_values\":[-3.1680541038513184,0.8302692770957947,0.7009539604187012,0.9566541314125061,-3.0100250244140625,1.8563021421432495,0.9772772789001465,-3.7080018520355225,0.2221243530511856,1.9772586822509766],\"y_values\":[1.8669191598892212,0.49285072088241577,-3.583251953125,-1.6304391622543335,0.14911150932312012,-3.498755931854248,-1.2931230068206787,0.33807575702667236,-0.4854734539985657,-1.523591160774231]}},\"id\":\"4c8b2c41-3c27-45dd-8a8a-fe785505d550\",\"type\":\"ColumnDataSource\"},{\"attributes\":{\"data_source\":{\"id\":\"dd2cfd70-ea7f-49a7-9034-8de83312debd\",\"type\":\"ColumnDataSource\"},\"glyph\":{\"id\":\"3c55551f-239b-477a-8eda-bd9472405eed\",\"type\":\"Circle\"},\"hover_glyph\":null,\"nonselection_glyph\":null,\"selection_glyph\":null},\"id\":\"e5364ce8-1a40-46a0-8760-27ae099860e8\",\"type\":\"GlyphRenderer\"},{\"attributes\":{\"callback\":null,\"column_names\":[\"y_values\",\"x_values\"],\"data\":{\"chart_index\":[{\"label\":20},{\"label\":20},{\"label\":20},{\"label\":20},{\"label\":20},{\"label\":20},{\"label\":20},{\"label\":20},{\"label\":20},{\"label\":20}],\"label\":[20,20,20,20,20,20,20,20,20,20],\"x_values\":[-0.7402089834213257,-5.4821038246154785,-1.7124887704849243,-2.252892255783081,-1.2186487913131714,-1.5915865898132324,-5.262489318847656,-2.274611711502075,-1.675713062286377,-4.9336090087890625],\"y_values\":[-6.013627529144287,-1.0232523679733276,-0.9931549429893494,-0.7718801498413086,-0.7797701954841614,-5.643030166625977,-3.4770119190216064,-5.954158782958984,-2.4489858150482178,-2.6191225051879883]}},\"id\":\"42bb3710-01be-49a4-aedc-11df16c8a98a\",\"type\":\"ColumnDataSource\"},{\"attributes\":{\"callback\":null,\"column_names\":[\"y_values\",\"x_values\"],\"data\":{\"chart_index\":[{\"label\":0},{\"label\":0},{\"label\":0},{\"label\":0},{\"label\":0},{\"label\":0},{\"label\":0},{\"label\":0},{\"label\":0},{\"label\":0}],\"label\":[0,0,0,0,0,0,0,0,0,0],\"x_values\":[6.131958961486816,1.0758894681930542,3.9620065689086914,5.204050540924072,5.623241424560547,7.0038933753967285,5.2929487228393555,4.253591537475586,6.432612419128418,1.9615416526794434],\"y_values\":[0.07340417057275772,6.697335720062256,3.293877124786377,-6.6474151611328125,-3.798434257507324,-1.672889232635498,1.5425140857696533,-11.327751159667969,0.7036680579185486,2.094350814819336]}},\"id\":\"595faf5f-f239-4ad9-af75-190e64789d85\",\"type\":\"ColumnDataSource\"},{\"attributes\":{\"data_source\":{\"id\":\"032b10bd-6ced-4a80-a06b-f13396e52bfa\",\"type\":\"ColumnDataSource\"},\"glyph\":{\"id\":\"5f2f2442-ec8b-4106-82f2-cd7df4cc317c\",\"type\":\"Circle\"},\"hover_glyph\":null,\"nonselection_glyph\":null,\"selection_glyph\":null},\"id\":\"456ef7b8-6c1d-4c92-9165-ec73d0bf2dea\",\"type\":\"GlyphRenderer\"},{\"attributes\":{\"callback\":null,\"column_names\":[\"y_values\",\"x_values\"],\"data\":{\"chart_index\":[{\"label\":21},{\"label\":21},{\"label\":21},{\"label\":21},{\"label\":21},{\"label\":21},{\"label\":21},{\"label\":21},{\"label\":21},{\"label\":21}],\"label\":[21,21,21,21,21,21,21,21,21,21],\"x_values\":[-9.317702293395996,-10.053250312805176,-10.032326698303223,-10.528931617736816,-10.307974815368652,-9.89018726348877,-10.036036491394043,-9.682336807250977,-9.090726852416992,-9.57088565826416],\"y_values\":[-0.8017078638076782,-0.19509091973304749,-0.3125213384628296,-2.606868267059326,-0.757532000541687,-0.008908836171030998,-0.07782155275344849,-0.8554514050483704,-0.9229307770729065,-1.6038910150527954]}},\"id\":\"f4aba841-caa0-44df-8008-33cd90eb42ea\",\"type\":\"ColumnDataSource\"},{\"attributes\":{\"callback\":null,\"column_names\":[\"y_values\",\"x_values\"],\"data\":{\"chart_index\":[{\"label\":4},{\"label\":4},{\"label\":4},{\"label\":4},{\"label\":4},{\"label\":4},{\"label\":4},{\"label\":4},{\"label\":4},{\"label\":4}],\"label\":[4,4,4,4,4,4,4,4,4,4],\"x_values\":[3.3549067974090576,5.834116458892822,1.3608593940734863,4.214545726776123,0.6597444415092468,-1.108500599861145,0.5870974659919739,3.922687292098999,-2.0512330532073975,1.9705266952514648],\"y_values\":[-5.279387950897217,-3.181342363357544,-1.2719426155090332,-6.049101829528809,-0.5056203007698059,2.581817388534546,-0.6373011469841003,-3.8465843200683594,3.077915668487549,-3.3787119388580322]}},\"id\":\"6476bea9-fd1b-4694-a5a8-9126c07ae562\",\"type\":\"ColumnDataSource\"},{\"attributes\":{\"fill_alpha\":{\"value\":0.7},\"fill_color\":{\"value\":\"#c33ff3\"},\"line_color\":{\"value\":\"#c33ff3\"},\"size\":{\"units\":\"screen\",\"value\":8},\"x\":{\"field\":\"x_values\"},\"y\":{\"field\":\"y_values\"}},\"id\":\"62de6ccb-a72f-4da1-b12e-63a58c8b2e4a\",\"type\":\"Circle\"},{\"attributes\":{\"data_source\":{\"id\":\"3c7461c9-c377-4f3f-bc72-1137528ad4b5\",\"type\":\"ColumnDataSource\"},\"glyph\":{\"id\":\"1e0261ae-60db-4c63-8cbd-f913674846f1\",\"type\":\"Circle\"},\"hover_glyph\":null,\"nonselection_glyph\":null,\"selection_glyph\":null},\"id\":\"2379ff42-95ef-4f0f-9a2e-dcf1269e1274\",\"type\":\"GlyphRenderer\"},{\"attributes\":{\"callback\":null,\"column_names\":[\"y_values\",\"x_values\"],\"data\":{\"chart_index\":[{\"label\":16},{\"label\":16},{\"label\":16},{\"label\":16},{\"label\":16},{\"label\":16},{\"label\":16},{\"label\":16},{\"label\":16},{\"label\":16}],\"label\":[16,16,16,16,16,16,16,16,16,16],\"x_values\":[2.9681222438812256,2.4675378799438477,-1.0777325630187988,3.3126161098480225,3.2728805541992188,1.5370863676071167,1.2174792289733887,1.2363206148147583,-1.459420919418335,3.2818095684051514],\"y_values\":[-7.168288707733154,-2.019458770751953,2.680067777633667,-1.9840811491012573,-9.016207695007324,-2.221712112426758,-1.4862136840820312,-10.463414192199707,3.484518051147461,-8.393914222717285]}},\"id\":\"fe5b680e-5a6f-4af4-b6b1-39e4b2c4228f\",\"type\":\"ColumnDataSource\"},{\"attributes\":{\"fill_alpha\":{\"value\":0.7},\"fill_color\":{\"value\":\"#5ab738\"},\"line_color\":{\"value\":\"#5ab738\"},\"size\":{\"units\":\"screen\",\"value\":8},\"x\":{\"field\":\"x_values\"},\"y\":{\"field\":\"y_values\"}},\"id\":\"b5b8ec98-1c3d-4ba2-a197-1d883c7e3036\",\"type\":\"Circle\"},{\"attributes\":{\"data_source\":{\"id\":\"f7b5d7b1-d5e5-4cc1-9bc0-e8c5fb4d2417\",\"type\":\"ColumnDataSource\"},\"glyph\":{\"id\":\"1b5f324f-9a23-433e-88e5-d17aae771cf6\",\"type\":\"Circle\"},\"hover_glyph\":null,\"nonselection_glyph\":null,\"selection_glyph\":null},\"id\":\"dc657481-e8ad-46f1-a3f8-8a8bc9c83760\",\"type\":\"GlyphRenderer\"},{\"attributes\":{\"data_source\":{\"id\":\"4c8b2c41-3c27-45dd-8a8a-fe785505d550\",\"type\":\"ColumnDataSource\"},\"glyph\":{\"id\":\"cf58eb11-e850-483d-8eb6-34647c246b62\",\"type\":\"Circle\"},\"hover_glyph\":null,\"nonselection_glyph\":null,\"selection_glyph\":null},\"id\":\"4e979fd8-455d-44a3-88f5-021a7c06e084\",\"type\":\"GlyphRenderer\"},{\"attributes\":{\"fill_alpha\":{\"value\":0.7},\"fill_color\":{\"value\":\"#5ab738\"},\"line_color\":{\"value\":\"#5ab738\"},\"size\":{\"units\":\"screen\",\"value\":8},\"x\":{\"field\":\"x_values\"},\"y\":{\"field\":\"y_values\"}},\"id\":\"5195c27f-3f53-441b-abdb-8730b39592f7\",\"type\":\"Circle\"},{\"attributes\":{\"fill_alpha\":{\"value\":0.7},\"fill_color\":{\"value\":\"#df5320\"},\"line_color\":{\"value\":\"#df5320\"},\"size\":{\"units\":\"screen\",\"value\":8},\"x\":{\"field\":\"x_values\"},\"y\":{\"field\":\"y_values\"}},\"id\":\"5f2f2442-ec8b-4106-82f2-cd7df4cc317c\",\"type\":\"Circle\"},{\"attributes\":{\"callback\":null,\"column_names\":[\"y_values\",\"x_values\"],\"data\":{\"chart_index\":[{\"label\":33},{\"label\":33},{\"label\":33},{\"label\":33},{\"label\":33},{\"label\":33},{\"label\":33},{\"label\":33},{\"label\":33},{\"label\":33}],\"label\":[33,33,33,33,33,33,33,33,33,33],\"x_values\":[-10.66677188873291,-11.343953132629395,-8.109343528747559,-7.880815029144287,-8.131261825561523,-8.047438621520996,-7.985140323638916,-7.995316028594971,-9.321358680725098,-7.875076770782471],\"y_values\":[-0.15428411960601807,-0.07967612892389297,0.8394981026649475,0.913516104221344,0.9264827370643616,0.6656221151351929,0.7953354716300964,0.8544130921363831,-1.1002953052520752,0.756645679473877]}},\"id\":\"abb1db05-5221-4aa8-bdf7-9482ff2298be\",\"type\":\"ColumnDataSource\"},{\"attributes\":{\"callback\":null,\"column_names\":[\"y_values\",\"x_values\"],\"data\":{\"chart_index\":[{\"label\":12},{\"label\":12},{\"label\":12},{\"label\":12},{\"label\":12},{\"label\":12},{\"label\":12},{\"label\":12},{\"label\":12},{\"label\":12}],\"label\":[12,12,12,12,12,12,12,12,12,12],\"x_values\":[2.3618977069854736,2.7274649143218994,-0.8970737457275391,1.7682862281799316,2.4151992797851562,1.2603402137756348,1.0786654949188232,-1.3341487646102905,2.0161917209625244,1.9159178733825684],\"y_values\":[-1.0429033041000366,-3.0310606956481934,-0.7990296483039856,-6.704297065734863,-1.8723713159561157,3.4831480979919434,-3.902869939804077,0.7121487855911255,0.08575096726417542,-4.8021321296691895]}},\"id\":\"d8ee32ba-222c-4d12-b169-631d88a89dce\",\"type\":\"ColumnDataSource\"},{\"attributes\":{\"data_source\":{\"id\":\"28921626-9016-4f33-bd13-5b49d0278df7\",\"type\":\"ColumnDataSource\"},\"glyph\":{\"id\":\"2e2e29c2-1891-4bd4-a968-a08c5a242988\",\"type\":\"Circle\"},\"hover_glyph\":null,\"nonselection_glyph\":null,\"selection_glyph\":null},\"id\":\"feb69df1-b954-44a4-9229-c79adf35b6d7\",\"type\":\"GlyphRenderer\"},{\"attributes\":{\"data_source\":{\"id\":\"38700245-9a26-4e05-a0ff-44adadaa4ba4\",\"type\":\"ColumnDataSource\"},\"glyph\":{\"id\":\"8f00c097-5c14-4900-af57-4a859604e2ad\",\"type\":\"Circle\"},\"hover_glyph\":null,\"nonselection_glyph\":null,\"selection_glyph\":null},\"id\":\"18f7a0b1-920f-43c0-a93c-2f16ee8ab09a\",\"type\":\"GlyphRenderer\"},{\"attributes\":{\"data_source\":{\"id\":\"abb1db05-5221-4aa8-bdf7-9482ff2298be\",\"type\":\"ColumnDataSource\"},\"glyph\":{\"id\":\"6180a122-601a-4ca7-93d6-70d531bfdad5\",\"type\":\"Circle\"},\"hover_glyph\":null,\"nonselection_glyph\":null,\"selection_glyph\":null},\"id\":\"ae704c44-401e-4aa9-9c00-411950cf1cbe\",\"type\":\"GlyphRenderer\"},{\"attributes\":{\"callback\":null,\"column_names\":[\"y_values\",\"x_values\"],\"data\":{\"chart_index\":[{\"label\":29},{\"label\":29},{\"label\":29},{\"label\":29},{\"label\":29},{\"label\":29},{\"label\":29},{\"label\":29},{\"label\":29},{\"label\":29}],\"label\":[29,29,29,29,29,29,29,29,29,29],\"x_values\":[-4.384499549865723,-4.536953449249268,-4.489211559295654,-1.6513503789901733,-4.511266708374023,-2.424175262451172,-1.5034382343292236,-4.5515313148498535,-2.47613263130188,-2.9911980628967285],\"y_values\":[-1.0621235370635986,-0.5762002468109131,-1.1596726179122925,-0.6643447279930115,-0.3324068784713745,0.6888715624809265,-2.002432107925415,1.284165382385254,1.4342741966247559,2.727834701538086]}},\"id\":\"7e9a14b3-2bed-4223-ae91-266dabca55aa\",\"type\":\"ColumnDataSource\"},{\"attributes\":{\"data_source\":{\"id\":\"4e0a311a-f6c0-49a0-90e4-e152b74c6597\",\"type\":\"ColumnDataSource\"},\"glyph\":{\"id\":\"f516228e-050a-43e0-9336-0a324b2b268e\",\"type\":\"Circle\"},\"hover_glyph\":null,\"nonselection_glyph\":null,\"selection_glyph\":null},\"id\":\"26f98e90-cf8a-4449-9557-7066f67ec026\",\"type\":\"GlyphRenderer\"},{\"attributes\":{\"data_source\":{\"id\":\"bf4c7285-503a-4976-82bb-f89840936734\",\"type\":\"ColumnDataSource\"},\"glyph\":{\"id\":\"1c76c187-0910-4be0-afee-ca8cf058004f\",\"type\":\"Circle\"},\"hover_glyph\":null,\"nonselection_glyph\":null,\"selection_glyph\":null},\"id\":\"40611941-fc9d-4535-85ff-8690b548d0e4\",\"type\":\"GlyphRenderer\"},{\"attributes\":{\"data_source\":{\"id\":\"4ecb3f8b-4256-4aed-a7d0-2672635adb2f\",\"type\":\"ColumnDataSource\"},\"glyph\":{\"id\":\"42af530e-1148-4c01-9ed8-2d98daacf71c\",\"type\":\"Circle\"},\"hover_glyph\":null,\"nonselection_glyph\":null,\"selection_glyph\":null},\"id\":\"cc0a12de-645f-4430-9f7d-a3802bb347e3\",\"type\":\"GlyphRenderer\"},{\"attributes\":{\"fill_alpha\":{\"value\":0.7},\"fill_color\":{\"value\":\"#5ab738\"},\"line_color\":{\"value\":\"#5ab738\"},\"size\":{\"units\":\"screen\",\"value\":8},\"x\":{\"field\":\"x_values\"},\"y\":{\"field\":\"y_values\"}},\"id\":\"1b5f324f-9a23-433e-88e5-d17aae771cf6\",\"type\":\"Circle\"},{\"attributes\":{\"fill_alpha\":{\"value\":0.7},\"fill_color\":{\"value\":\"#407ee7\"},\"line_color\":{\"value\":\"#407ee7\"},\"size\":{\"units\":\"screen\",\"value\":8},\"x\":{\"field\":\"x_values\"},\"y\":{\"field\":\"y_values\"}},\"id\":\"59733e4f-1e14-4478-8ffc-5448bf773135\",\"type\":\"Circle\"},{\"attributes\":{\"fill_alpha\":{\"value\":0.7},\"fill_color\":{\"value\":\"#df5320\"},\"line_color\":{\"value\":\"#df5320\"},\"size\":{\"units\":\"screen\",\"value\":8},\"x\":{\"field\":\"x_values\"},\"y\":{\"field\":\"y_values\"}},\"id\":\"ffaf7493-aa99-4b74-b517-e3941af42ca2\",\"type\":\"Circle\"},{\"attributes\":{\"data_source\":{\"id\":\"0eb742fc-739d-42f1-b736-ae673f8d73ce\",\"type\":\"ColumnDataSource\"},\"glyph\":{\"id\":\"5eac93c7-94ba-4d5a-8118-557fbefec39b\",\"type\":\"Circle\"},\"hover_glyph\":null,\"nonselection_glyph\":null,\"selection_glyph\":null},\"id\":\"a67e19ab-34c3-4cb1-9783-73c5d2f2ec4a\",\"type\":\"GlyphRenderer\"},{\"attributes\":{\"callback\":null,\"column_names\":[\"y_values\",\"x_values\"],\"data\":{\"chart_index\":[{\"label\":38},{\"label\":38},{\"label\":38},{\"label\":38},{\"label\":38},{\"label\":38},{\"label\":38},{\"label\":38},{\"label\":38},{\"label\":38}],\"label\":[38,38,38,38,38,38,38,38,38,38],\"x_values\":[-8.031673431396484,-10.135991096496582,-8.788522720336914,-9.170944213867188,-8.981925964355469,-8.870979309082031,-8.636225700378418,-8.258504867553711,-9.062960624694824,-9.057638168334961],\"y_values\":[-0.06335293501615524,1.2992637157440186,-2.5886662006378174,-2.8165247440338135,-1.8873599767684937,0.07187870889902115,-5.1180596351623535,0.8694221377372742,0.06965285539627075,0.911909818649292]}},\"id\":\"bf4c7285-503a-4976-82bb-f89840936734\",\"type\":\"ColumnDataSource\"},{\"attributes\":{\"fill_alpha\":{\"value\":0.7},\"fill_color\":{\"value\":\"#f22c40\"},\"line_color\":{\"value\":\"#f22c40\"},\"size\":{\"units\":\"screen\",\"value\":8},\"x\":{\"field\":\"x_values\"},\"y\":{\"field\":\"y_values\"}},\"id\":\"3eddfbbb-93d4-49fd-ab76-2d90c25ff29d\",\"type\":\"Circle\"},{\"attributes\":{\"data_source\":{\"id\":\"fb198485-966f-4d25-b1e2-97712635fb4e\",\"type\":\"ColumnDataSource\"},\"glyph\":{\"id\":\"724583e8-22a9-4608-bec3-41f4b662aaa8\",\"type\":\"Circle\"},\"hover_glyph\":null,\"nonselection_glyph\":null,\"selection_glyph\":null},\"id\":\"2ad07de6-8e0e-47a8-bb7f-9d21009c7459\",\"type\":\"GlyphRenderer\"},{\"attributes\":{\"data_source\":{\"id\":\"02b6a9fb-6c13-4444-adb1-a56f6ddfb9b5\",\"type\":\"ColumnDataSource\"},\"glyph\":{\"id\":\"adb4fc47-6a2a-40a4-a946-486e61a3f9fd\",\"type\":\"Circle\"},\"hover_glyph\":null,\"nonselection_glyph\":null,\"selection_glyph\":null},\"id\":\"03813122-cda4-4f18-992d-2ffc7d00e577\",\"type\":\"GlyphRenderer\"},{\"attributes\":{\"callback\":null,\"column_names\":[\"y_values\",\"x_values\"],\"data\":{\"chart_index\":[{\"label\":27},{\"label\":27},{\"label\":27},{\"label\":27},{\"label\":27},{\"label\":27},{\"label\":27},{\"label\":27},{\"label\":27},{\"label\":27}],\"label\":[27,27,27,27,27,27,27,27,27,27],\"x_values\":[1.9589567184448242,0.6441624760627747,-0.7670769691467285,0.3738592863082886,-1.7110780477523804,0.2752208113670349,0.8484626412391663,2.1587233543395996,1.846455454826355,0.12502028048038483],\"y_values\":[-0.4179646670818329,1.4426671266555786,2.615582227706909,2.2197484970092773,2.338566541671753,2.284802198410034,1.1803570985794067,-2.4169998168945312,1.7986565828323364,3.5843772888183594]}},\"id\":\"b00a0100-3d8b-4783-883a-f80d7c4e95a3\",\"type\":\"ColumnDataSource\"},{\"attributes\":{\"callback\":null,\"column_names\":[\"y_values\",\"x_values\"],\"data\":{\"chart_index\":[{\"label\":3},{\"label\":3},{\"label\":3},{\"label\":3},{\"label\":3},{\"label\":3},{\"label\":3},{\"label\":3},{\"label\":3},{\"label\":3}],\"label\":[3,3,3,3,3,3,3,3,3,3],\"x_values\":[0.5501906275749207,0.2659575939178467,3.964059829711914,2.73624587059021,3.920142412185669,4.552584171295166,-1.2057194709777832,-0.6030253171920776,-0.3407958447933197,1.6554059982299805],\"y_values\":[-1.4944058656692505,-0.5907354950904846,1.1617932319641113,3.3720951080322266,-5.987783908843994,-0.5749412775039673,1.6692382097244263,2.5235228538513184,-1.8616520166397095,4.919836044311523]}},\"id\":\"6de9ff24-af90-47b8-878b-6f118d4dd627\",\"type\":\"ColumnDataSource\"},{\"attributes\":{\"data_source\":{\"id\":\"9d909e20-6807-42ff-8c44-7028b93fec68\",\"type\":\"ColumnDataSource\"},\"glyph\":{\"id\":\"88393b11-f70d-4782-ae9f-626a5fd63bb0\",\"type\":\"Circle\"},\"hover_glyph\":null,\"nonselection_glyph\":null,\"selection_glyph\":null},\"id\":\"3aba472f-8256-4960-bff2-df5219dabba2\",\"type\":\"GlyphRenderer\"},{\"attributes\":{\"callback\":null,\"column_names\":[\"y_values\",\"x_values\"],\"data\":{\"chart_index\":[{\"label\":19},{\"label\":19},{\"label\":19},{\"label\":19},{\"label\":19},{\"label\":19},{\"label\":19},{\"label\":19},{\"label\":19},{\"label\":19}],\"label\":[19,19,19,19,19,19,19,19,19,19],\"x_values\":[3.3121800422668457,-4.4110846519470215,-3.333822250366211,-3.419267416000366,3.252434015274048,3.8129985332489014,2.0553832054138184,-0.1509871482849121,-0.28016549348831177,-3.250704288482666],\"y_values\":[-2.6017472743988037,2.061194658279419,2.143458843231201,2.625540256500244,-2.0252254009246826,-3.5363104343414307,-3.503899335861206,-1.2566869258880615,-1.4034149646759033,1.1497926712036133]}},\"id\":\"f183dd6b-b676-4a5c-ba74-dc4ea0b6b2b0\",\"type\":\"ColumnDataSource\"},{\"attributes\":{\"callback\":null,\"column_names\":[\"y_values\",\"x_values\"],\"data\":{\"chart_index\":[{\"label\":17},{\"label\":17},{\"label\":17},{\"label\":17},{\"label\":17},{\"label\":17},{\"label\":17},{\"label\":17},{\"label\":17},{\"label\":17}],\"label\":[17,17,17,17,17,17,17,17,17,17],\"x_values\":[5.730083465576172,5.747660160064697,5.484682559967041,1.819553256034851,6.728872299194336,3.2163569927215576,6.040311813354492,4.187580108642578,3.6809279918670654,4.1052350997924805],\"y_values\":[1.653835415840149,-1.360191822052002,3.180426597595215,1.5294053554534912,-2.51960825920105,2.020524740219116,0.9213395118713379,-0.6191313862800598,-0.4042169153690338,-1.9917203187942505]}},\"id\":\"dd2cfd70-ea7f-49a7-9034-8de83312debd\",\"type\":\"ColumnDataSource\"},{\"attributes\":{\"data_source\":{\"id\":\"6de9ff24-af90-47b8-878b-6f118d4dd627\",\"type\":\"ColumnDataSource\"},\"glyph\":{\"id\":\"fade42ff-13fc-45e6-8921-0cada635def1\",\"type\":\"Circle\"},\"hover_glyph\":null,\"nonselection_glyph\":null,\"selection_glyph\":null},\"id\":\"5745dae9-efac-4ec4-9911-3b04bcd7c0a0\",\"type\":\"GlyphRenderer\"},{\"attributes\":{\"fill_alpha\":{\"value\":0.7},\"fill_color\":{\"value\":\"#df5320\"},\"line_color\":{\"value\":\"#df5320\"},\"size\":{\"units\":\"screen\",\"value\":8},\"x\":{\"field\":\"x_values\"},\"y\":{\"field\":\"y_values\"}},\"id\":\"13544038-21a8-411e-acdb-eebc15360d25\",\"type\":\"Circle\"},{\"attributes\":{\"callback\":null,\"column_names\":[\"y_values\",\"x_values\"],\"data\":{\"chart_index\":[{\"label\":37},{\"label\":37},{\"label\":37},{\"label\":37},{\"label\":37},{\"label\":37},{\"label\":37},{\"label\":37},{\"label\":37},{\"label\":37}],\"label\":[37,37,37,37,37,37,37,37,37,37],\"x_values\":[-1.513728380203247,-1.199013352394104,2.027881622314453,0.4068095088005066,2.366240978240967,-0.4553266167640686,1.6133921146392822,-0.9922347068786621,-1.1848722696304321,2.5635571479797363],\"y_values\":[1.6339417695999146,1.8441368341445923,1.3411438465118408,3.2994461059570312,-3.8998119831085205,1.966468334197998,-1.7083145380020142,-0.12953272461891174,2.4509942531585693,-4.140124320983887]}},\"id\":\"02b6a9fb-6c13-4444-adb1-a56f6ddfb9b5\",\"type\":\"ColumnDataSource\"},{\"attributes\":{\"data_source\":{\"id\":\"448672ca-87db-4dfc-b240-15641140ec4e\",\"type\":\"ColumnDataSource\"},\"glyph\":{\"id\":\"5195c27f-3f53-441b-abdb-8730b39592f7\",\"type\":\"Circle\"},\"hover_glyph\":null,\"nonselection_glyph\":null,\"selection_glyph\":null},\"id\":\"3a673fff-df9e-48b9-a9c8-aaa59a2786cb\",\"type\":\"GlyphRenderer\"},{\"attributes\":{\"fill_alpha\":{\"value\":0.7},\"fill_color\":{\"value\":\"#f22c40\"},\"line_color\":{\"value\":\"#f22c40\"},\"size\":{\"units\":\"screen\",\"value\":8},\"x\":{\"field\":\"x_values\"},\"y\":{\"field\":\"y_values\"}},\"id\":\"f516228e-050a-43e0-9336-0a324b2b268e\",\"type\":\"Circle\"},{\"attributes\":{\"data_source\":{\"id\":\"f4aba841-caa0-44df-8008-33cd90eb42ea\",\"type\":\"ColumnDataSource\"},\"glyph\":{\"id\":\"13544038-21a8-411e-acdb-eebc15360d25\",\"type\":\"Circle\"},\"hover_glyph\":null,\"nonselection_glyph\":null,\"selection_glyph\":null},\"id\":\"c5132aad-de9d-4054-b77a-f60f5f32cd02\",\"type\":\"GlyphRenderer\"},{\"attributes\":{\"fill_alpha\":{\"value\":0.7},\"fill_color\":{\"value\":\"#df5320\"},\"line_color\":{\"value\":\"#df5320\"},\"size\":{\"units\":\"screen\",\"value\":8},\"x\":{\"field\":\"x_values\"},\"y\":{\"field\":\"y_values\"}},\"id\":\"42af530e-1148-4c01-9ed8-2d98daacf71c\",\"type\":\"Circle\"},{\"attributes\":{\"fill_alpha\":{\"value\":0.7},\"fill_color\":{\"value\":\"#00ad9c\"},\"line_color\":{\"value\":\"#00ad9c\"},\"size\":{\"units\":\"screen\",\"value\":8},\"x\":{\"field\":\"x_values\"},\"y\":{\"field\":\"y_values\"}},\"id\":\"c84f5594-1df1-465d-897e-671b2592e186\",\"type\":\"Circle\"},{\"attributes\":{\"plot\":{\"id\":\"49a8aeb9-dd98-4b6a-bb6f-e26a13328153\",\"subtype\":\"Chart\",\"type\":\"Plot\"}},\"id\":\"842a00ee-ff6f-439e-8d1f-d3b51f021a27\",\"type\":\"ResizeTool\"},{\"attributes\":{\"data_source\":{\"id\":\"595faf5f-f239-4ad9-af75-190e64789d85\",\"type\":\"ColumnDataSource\"},\"glyph\":{\"id\":\"739986e7-9714-4710-8710-e54126a1425c\",\"type\":\"Circle\"},\"hover_glyph\":null,\"nonselection_glyph\":null,\"selection_glyph\":null},\"id\":\"8b85704c-7f06-4193-adb5-919142dd8f16\",\"type\":\"GlyphRenderer\"},{\"attributes\":{\"fill_alpha\":{\"value\":0.7},\"fill_color\":{\"value\":\"#f22c40\"},\"line_color\":{\"value\":\"#f22c40\"},\"size\":{\"units\":\"screen\",\"value\":8},\"x\":{\"field\":\"x_values\"},\"y\":{\"field\":\"y_values\"}},\"id\":\"ee73135c-016a-4cf0-8eaa-df0bfec0a7dc\",\"type\":\"Circle\"},{\"attributes\":{\"callback\":null,\"column_names\":[\"y_values\",\"x_values\"],\"data\":{\"chart_index\":[{\"label\":23},{\"label\":23},{\"label\":23},{\"label\":23},{\"label\":23},{\"label\":23},{\"label\":23},{\"label\":23},{\"label\":23},{\"label\":23}],\"label\":[23,23,23,23,23,23,23,23,23,23],\"x_values\":[-0.9717932939529419,-1.5501610040664673,-2.509714365005493,-2.572338342666626,0.3468303680419922,0.36316606402397156,0.5671628713607788,0.5813804268836975,-1.7600430250167847,1.0007234811782837],\"y_values\":[-7.392938613891602,-7.764472007751465,3.7258660793304443,-10.020020484924316,-3.594623327255249,-0.9592249989509583,-0.7285982966423035,-2.3312149047851562,-8.087265014648438,-2.205955982208252]}},\"id\":\"4ce705ff-f68e-4f20-b08d-09bedff86a1c\",\"type\":\"ColumnDataSource\"},{\"attributes\":{\"fill_alpha\":{\"value\":0.7},\"fill_color\":{\"value\":\"#00ad9c\"},\"line_color\":{\"value\":\"#00ad9c\"},\"size\":{\"units\":\"screen\",\"value\":8},\"x\":{\"field\":\"x_values\"},\"y\":{\"field\":\"y_values\"}},\"id\":\"19fe5777-377d-4577-b6ee-6e3864629c53\",\"type\":\"Circle\"},{\"attributes\":{\"dimension\":1,\"plot\":{\"id\":\"49a8aeb9-dd98-4b6a-bb6f-e26a13328153\",\"subtype\":\"Chart\",\"type\":\"Plot\"},\"ticker\":{\"id\":\"60acc05c-661b-42d8-9b02-03b8c8479a7d\",\"type\":\"BasicTicker\"}},\"id\":\"ae51ac78-485c-4c60-8211-2555a66b7259\",\"type\":\"Grid\"},{\"attributes\":{\"callback\":null,\"column_names\":[\"y_values\",\"x_values\"],\"data\":{\"chart_index\":[{\"label\":11},{\"label\":11},{\"label\":11},{\"label\":11},{\"label\":11},{\"label\":11},{\"label\":11},{\"label\":11},{\"label\":11},{\"label\":11}],\"label\":[11,11,11,11,11,11,11,11,11,11],\"x_values\":[-1.7703121900558472,-2.168843984603882,-2.249934196472168,-1.524844765663147,-2.226313829421997,3.15582275390625,4.048519611358643,2.9709842205047607,5.170927047729492,2.0034713745117188],\"y_values\":[1.4552009105682373,-0.5703325867652893,0.13601112365722656,-3.541107416152954,-1.573051929473877,1.2513521909713745,-1.5075476169586182,-0.5555868148803711,-4.0845561027526855,1.8449536561965942]}},\"id\":\"3c7461c9-c377-4f3f-bc72-1137528ad4b5\",\"type\":\"ColumnDataSource\"},{\"attributes\":{\"fill_alpha\":{\"value\":0.7},\"fill_color\":{\"value\":\"#407ee7\"},\"line_color\":{\"value\":\"#407ee7\"},\"size\":{\"units\":\"screen\",\"value\":8},\"x\":{\"field\":\"x_values\"},\"y\":{\"field\":\"y_values\"}},\"id\":\"cf58eb11-e850-483d-8eb6-34647c246b62\",\"type\":\"Circle\"},{\"attributes\":{\"data_source\":{\"id\":\"95b9d457-55dd-47ff-8ff2-2341034b0c06\",\"type\":\"ColumnDataSource\"},\"glyph\":{\"id\":\"c84f5594-1df1-465d-897e-671b2592e186\",\"type\":\"Circle\"},\"hover_glyph\":null,\"nonselection_glyph\":null,\"selection_glyph\":null},\"id\":\"a3cb4cbe-7ecb-4169-a116-192e5deabc29\",\"type\":\"GlyphRenderer\"},{\"attributes\":{\"callback\":null,\"column_names\":[\"y_values\",\"x_values\"],\"data\":{\"chart_index\":[{\"label\":28},{\"label\":28},{\"label\":28},{\"label\":28},{\"label\":28},{\"label\":28},{\"label\":28},{\"label\":28},{\"label\":28},{\"label\":28}],\"label\":[28,28,28,28,28,28,28,28,28,28],\"x_values\":[-2.4041080474853516,-7.786228179931641,-3.972261428833008,-7.305089950561523,-8.55016040802002,-7.486443042755127,-2.323145627975464,-1.7148107290267944,-7.645221710205078,-1.58768630027771],\"y_values\":[-3.015223503112793,-1.907949686050415,-2.827430486679077,-1.805637240409851,0.04614369571208954,-3.5838043689727783,-7.423166751861572,-4.885194301605225,-3.3495748043060303,-2.9748294353485107]}},\"id\":\"2f7abef3-bef1-43c7-9fa4-8c330b667a70\",\"type\":\"ColumnDataSource\"},{\"attributes\":{\"fill_alpha\":{\"value\":0.7},\"fill_color\":{\"value\":\"#5ab738\"},\"line_color\":{\"value\":\"#5ab738\"},\"size\":{\"units\":\"screen\",\"value\":8},\"x\":{\"field\":\"x_values\"},\"y\":{\"field\":\"y_values\"}},\"id\":\"59af4318-47d2-4265-b182-2d88bfa29019\",\"type\":\"Circle\"},{\"attributes\":{},\"id\":\"e788e528-2cae-47e3-8fab-6d1e23931ec4\",\"type\":\"BasicTicker\"},{\"attributes\":{\"fill_alpha\":{\"value\":0.7},\"fill_color\":{\"value\":\"#f22c40\"},\"line_color\":{\"value\":\"#f22c40\"},\"size\":{\"units\":\"screen\",\"value\":8},\"x\":{\"field\":\"x_values\"},\"y\":{\"field\":\"y_values\"}},\"id\":\"2fc3a08e-70ba-49db-9a85-b9f7a592acec\",\"type\":\"Circle\"},{\"attributes\":{\"plot\":{\"id\":\"49a8aeb9-dd98-4b6a-bb6f-e26a13328153\",\"subtype\":\"Chart\",\"type\":\"Plot\"}},\"id\":\"16d673df-5a2e-4123-970d-814425d690c3\",\"type\":\"ResetTool\"},{\"attributes\":{},\"id\":\"60acc05c-661b-42d8-9b02-03b8c8479a7d\",\"type\":\"BasicTicker\"},{\"attributes\":{\"callback\":null,\"column_names\":[\"y_values\",\"x_values\"],\"data\":{\"chart_index\":[{\"label\":9},{\"label\":9},{\"label\":9},{\"label\":9},{\"label\":9},{\"label\":9},{\"label\":9},{\"label\":9},{\"label\":9},{\"label\":9}],\"label\":[9,9,9,9,9,9,9,9,9,9],\"x_values\":[0.9030385613441467,2.477736473083496,-3.2596242427825928,4.072602272033691,-3.47786808013916,4.083736419677734,3.672966241836548,2.1640360355377197,-0.16874314844608307,6.8656086921691895],\"y_values\":[0.9736447930335999,4.628424167633057,6.31470251083374,0.6386836767196655,6.282946586608887,-7.041254997253418,0.7862452268600464,3.432119369506836,3.0066771507263184,1.9790469408035278]}},\"id\":\"032b10bd-6ced-4a80-a06b-f13396e52bfa\",\"type\":\"ColumnDataSource\"},{\"attributes\":{\"data_source\":{\"id\":\"d00cbb4a-047a-49bd-a88d-0a1f5fbd30c5\",\"type\":\"ColumnDataSource\"},\"glyph\":{\"id\":\"2fc3a08e-70ba-49db-9a85-b9f7a592acec\",\"type\":\"Circle\"},\"hover_glyph\":null,\"nonselection_glyph\":null,\"selection_glyph\":null},\"id\":\"03a42891-620b-4d61-a075-5ab58b861e92\",\"type\":\"GlyphRenderer\"},{\"attributes\":{\"callback\":null,\"column_names\":[\"y_values\",\"x_values\"],\"data\":{\"chart_index\":[{\"label\":35},{\"label\":35},{\"label\":35},{\"label\":35},{\"label\":35},{\"label\":35},{\"label\":35},{\"label\":35},{\"label\":35},{\"label\":35}],\"label\":[35,35,35,35,35,35,35,35,35,35],\"x_values\":[6.448578834533691,7.743756294250488,3.3792765140533447,1.6120926141738892,1.9110682010650635,1.8946410417556763,2.0309407711029053,1.9247467517852783,2.2504723072052,3.484269142150879],\"y_values\":[-1.079744815826416,-0.6562932729721069,-1.7001240253448486,-4.893566131591797,-4.832358360290527,-4.805163383483887,-3.144172191619873,-4.291697978973389,-4.254171848297119,-2.784695625305176]}},\"id\":\"0eb742fc-739d-42f1-b736-ae673f8d73ce\",\"type\":\"ColumnDataSource\"},{\"attributes\":{\"callback\":null,\"column_names\":[\"y_values\",\"x_values\"],\"data\":{\"chart_index\":[{\"label\":22},{\"label\":22},{\"label\":22},{\"label\":22},{\"label\":22},{\"label\":22},{\"label\":22},{\"label\":22},{\"label\":22},{\"label\":22}],\"label\":[22,22,22,22,22,22,22,22,22,22],\"x_values\":[2.29020357131958,5.272836685180664,2.4153013229370117,-0.5546103715896606,4.938863277435303,3.463876485824585,5.598765850067139,0.6463837623596191,-0.2357594519853592,3.3760485649108887],\"y_values\":[-1.6483538150787354,-3.398324966430664,-1.0804061889648438,2.0020883083343506,0.9933987259864807,3.729163408279419,-4.250290393829346,0.43428748846054077,1.502372145652771,2.837601661682129]}},\"id\":\"579323c1-c3d1-4a68-93a5-47e307e8369e\",\"type\":\"ColumnDataSource\"},{\"attributes\":{\"fill_alpha\":{\"value\":0.7},\"fill_color\":{\"value\":\"#5ab738\"},\"line_color\":{\"value\":\"#5ab738\"},\"size\":{\"units\":\"screen\",\"value\":8},\"x\":{\"field\":\"x_values\"},\"y\":{\"field\":\"y_values\"}},\"id\":\"a1a8e26b-2fd5-44d9-b266-7d9ec69012a5\",\"type\":\"Circle\"},{\"attributes\":{\"fill_alpha\":{\"value\":0.7},\"fill_color\":{\"value\":\"#c33ff3\"},\"line_color\":{\"value\":\"#c33ff3\"},\"size\":{\"units\":\"screen\",\"value\":8},\"x\":{\"field\":\"x_values\"},\"y\":{\"field\":\"y_values\"}},\"id\":\"03ef93aa-7a90-4968-a6dc-e0a16cae3c16\",\"type\":\"Circle\"},{\"attributes\":{\"plot\":{\"id\":\"49a8aeb9-dd98-4b6a-bb6f-e26a13328153\",\"subtype\":\"Chart\",\"type\":\"Plot\"}},\"id\":\"3aa7cd8d-b2c3-4363-98fa-c4d549c05856\",\"type\":\"PreviewSaveTool\"},{\"attributes\":{\"fill_alpha\":{\"value\":0.7},\"fill_color\":{\"value\":\"#00ad9c\"},\"line_color\":{\"value\":\"#00ad9c\"},\"size\":{\"units\":\"screen\",\"value\":8},\"x\":{\"field\":\"x_values\"},\"y\":{\"field\":\"y_values\"}},\"id\":\"22842f74-cb89-49de-af45-8ca7d86aea1b\",\"type\":\"Circle\"},{\"attributes\":{\"callback\":null,\"column_names\":[\"y_values\",\"x_values\"],\"data\":{\"chart_index\":[{\"label\":14},{\"label\":14},{\"label\":14},{\"label\":14},{\"label\":14},{\"label\":14},{\"label\":14},{\"label\":14},{\"label\":14},{\"label\":14}],\"label\":[14,14,14,14,14,14,14,14,14,14],\"x_values\":[1.1792503595352173,0.9379686713218689,0.14388878643512726,1.1665575504302979,-0.07333797961473465,1.4038931131362915,-0.011463984847068787,-0.19145263731479645,1.0656520128250122,0.1966545730829239],\"y_values\":[-0.686190664768219,1.749204158782959,-0.8750749230384827,1.5295737981796265,0.5956300497055054,1.4045195579528809,0.04363071173429489,-0.3415062725543976,1.7035950422286987,0.4567536413669586]}},\"id\":\"724e4e87-fdd4-484a-90d2-90e07f58ecf7\",\"type\":\"ColumnDataSource\"},{\"attributes\":{\"callback\":null,\"column_names\":[\"y_values\",\"x_values\"],\"data\":{\"chart_index\":[{\"label\":15},{\"label\":15},{\"label\":15},{\"label\":15},{\"label\":15},{\"label\":15},{\"label\":15},{\"label\":15},{\"label\":15},{\"label\":15}],\"label\":[15,15,15,15,15,15,15,15,15,15],\"x_values\":[0.7951021790504456,3.699911117553711,6.438278675079346,4.275143146514893,6.441373825073242,-0.663335919380188,2.4893298149108887,4.302022457122803,4.216341495513916,4.475008964538574],\"y_values\":[-0.1132873073220253,-0.5099385976791382,1.401667594909668,-0.02366144023835659,1.2384287118911743,-0.0751325860619545,3.789027452468872,-4.365649700164795,-0.28821292519569397,-0.24060703814029694]}},\"id\":\"4ecb3f8b-4256-4aed-a7d0-2672635adb2f\",\"type\":\"ColumnDataSource\"},{\"attributes\":{\"fill_alpha\":{\"value\":0.7},\"fill_color\":{\"value\":\"#f22c40\"},\"line_color\":{\"value\":\"#f22c40\"},\"size\":{\"units\":\"screen\",\"value\":8},\"x\":{\"field\":\"x_values\"},\"y\":{\"field\":\"y_values\"}},\"id\":\"739986e7-9714-4710-8710-e54126a1425c\",\"type\":\"Circle\"},{\"attributes\":{\"fill_alpha\":{\"value\":0.7},\"fill_color\":{\"value\":\"#00ad9c\"},\"line_color\":{\"value\":\"#00ad9c\"},\"size\":{\"units\":\"screen\",\"value\":8},\"x\":{\"field\":\"x_values\"},\"y\":{\"field\":\"y_values\"}},\"id\":\"9affb3fe-2e0d-481d-9484-18b2ef0b05ad\",\"type\":\"Circle\"},{\"attributes\":{\"data_source\":{\"id\":\"beb31e06-1eb1-45a6-a08f-d9454edc7fdd\",\"type\":\"ColumnDataSource\"},\"glyph\":{\"id\":\"a1a8e26b-2fd5-44d9-b266-7d9ec69012a5\",\"type\":\"Circle\"},\"hover_glyph\":null,\"nonselection_glyph\":null,\"selection_glyph\":null},\"id\":\"b0af3e87-8d01-41da-b779-ed5cdc8a2743\",\"type\":\"GlyphRenderer\"},{\"attributes\":{\"data_source\":{\"id\":\"7c984dc7-ecb2-45fd-acbf-b493e30ede06\",\"type\":\"ColumnDataSource\"},\"glyph\":{\"id\":\"2330fb73-3b36-4d11-aeee-abcd4c2aefdd\",\"type\":\"Circle\"},\"hover_glyph\":null,\"nonselection_glyph\":null,\"selection_glyph\":null},\"id\":\"5f32df58-a14d-4b7f-b2c9-f026d4e08c8f\",\"type\":\"GlyphRenderer\"},{\"attributes\":{\"data_source\":{\"id\":\"d6b1218d-83e5-41fe-b4a4-dc2414728587\",\"type\":\"ColumnDataSource\"},\"glyph\":{\"id\":\"3eddfbbb-93d4-49fd-ab76-2d90c25ff29d\",\"type\":\"Circle\"},\"hover_glyph\":null,\"nonselection_glyph\":null,\"selection_glyph\":null},\"id\":\"d13d4524-a4b0-4377-98f4-956e671452c3\",\"type\":\"GlyphRenderer\"},{\"attributes\":{},\"id\":\"f99f3a8e-9211-46af-966b-8ff035c8a837\",\"type\":\"BasicTickFormatter\"},{\"attributes\":{\"callback\":null,\"column_names\":[\"y_values\",\"x_values\"],\"data\":{\"chart_index\":[{\"label\":2},{\"label\":2},{\"label\":2},{\"label\":2},{\"label\":2},{\"label\":2},{\"label\":2},{\"label\":2},{\"label\":2},{\"label\":2}],\"label\":[2,2,2,2,2,2,2,2,2,2],\"x_values\":[2.569138765335083,-2.6554694175720215,-2.5879056453704834,-2.3186049461364746,2.5630130767822266,1.7918658256530762,-1.7825937271118164,-2.3454549312591553,3.0080134868621826,0.44650164246559143],\"y_values\":[-3.461289882659912,2.2871241569519043,3.1529524326324463,3.2544641494750977,1.369117021560669,-5.221371650695801,-4.011659145355225,-2.5749940872192383,0.5332541465759277,-1.3858823776245117]}},\"id\":\"73f55666-2189-43b3-bb94-41d5e165ec20\",\"type\":\"ColumnDataSource\"},{\"attributes\":{\"fill_alpha\":{\"value\":0.7},\"fill_color\":{\"value\":\"#407ee7\"},\"line_color\":{\"value\":\"#407ee7\"},\"size\":{\"units\":\"screen\",\"value\":8},\"x\":{\"field\":\"x_values\"},\"y\":{\"field\":\"y_values\"}},\"id\":\"f20bda27-339f-4740-8d45-73b389f7f435\",\"type\":\"Circle\"},{\"attributes\":{\"data_source\":{\"id\":\"b00a0100-3d8b-4783-883a-f80d7c4e95a3\",\"type\":\"ColumnDataSource\"},\"glyph\":{\"id\":\"ffaf7493-aa99-4b74-b517-e3941af42ca2\",\"type\":\"Circle\"},\"hover_glyph\":null,\"nonselection_glyph\":null,\"selection_glyph\":null},\"id\":\"87b026ca-61fa-45ec-8f2b-4db10ae7472a\",\"type\":\"GlyphRenderer\"},{\"attributes\":{\"fill_alpha\":{\"value\":0.7},\"fill_color\":{\"value\":\"#c33ff3\"},\"line_color\":{\"value\":\"#c33ff3\"},\"size\":{\"units\":\"screen\",\"value\":8},\"x\":{\"field\":\"x_values\"},\"y\":{\"field\":\"y_values\"}},\"id\":\"bd36a521-e1a4-4864-82a0-2038383db1ff\",\"type\":\"Circle\"},{\"attributes\":{\"callback\":null,\"column_names\":[\"y_values\",\"x_values\"],\"data\":{\"chart_index\":[{\"label\":5},{\"label\":5},{\"label\":5},{\"label\":5},{\"label\":5},{\"label\":5},{\"label\":5},{\"label\":5},{\"label\":5},{\"label\":5}],\"label\":[5,5,5,5,5,5,5,5,5,5],\"x_values\":[10.08565902709961,10.115407943725586,5.0195159912109375,10.960087776184082,10.445859909057617,4.373446464538574,10.024085998535156,4.4246368408203125,10.316659927368164,9.790045738220215],\"y_values\":[-1.5840280055999756,-2.7517552375793457,2.270437002182007,-0.5151304006576538,-3.552506685256958,2.22044038772583,-4.91502571105957,2.778714656829834,1.3172580003738403,-0.9147647619247437]}},\"id\":\"845c30b3-8472-49b5-988b-b0dec7706973\",\"type\":\"ColumnDataSource\"},{\"attributes\":{\"data_source\":{\"id\":\"6476bea9-fd1b-4694-a5a8-9126c07ae562\",\"type\":\"ColumnDataSource\"},\"glyph\":{\"id\":\"f530c710-41d5-42a5-accd-272b55257fd2\",\"type\":\"Circle\"},\"hover_glyph\":null,\"nonselection_glyph\":null,\"selection_glyph\":null},\"id\":\"b98e359f-06d3-44b0-91ea-c088bd195a91\",\"type\":\"GlyphRenderer\"},{\"attributes\":{\"callback\":null,\"column_names\":[\"y_values\",\"x_values\"],\"data\":{\"chart_index\":[{\"label\":30},{\"label\":30},{\"label\":30},{\"label\":30},{\"label\":30},{\"label\":30},{\"label\":30},{\"label\":30},{\"label\":30},{\"label\":30}],\"label\":[30,30,30,30,30,30,30,30,30,30],\"x_values\":[-3.8633739948272705,-3.9942588806152344,-3.7660863399505615,-3.3552193641662598,-3.108837127685547,-3.8306260108947754,-4.958186149597168,-3.8004024028778076,-3.398367166519165,-4.295428276062012],\"y_values\":[1.334571361541748,1.3772073984146118,1.5888800621032715,-3.396768808364868,-3.2987403869628906,-1.6274631023406982,-0.5954475998878479,1.0624951124191284,1.4957221746444702,-2.352417230606079]}},\"id\":\"38700245-9a26-4e05-a0ff-44adadaa4ba4\",\"type\":\"ColumnDataSource\"},{\"attributes\":{\"data_source\":{\"id\":\"fe5b680e-5a6f-4af4-b6b1-39e4b2c4228f\",\"type\":\"ColumnDataSource\"},\"glyph\":{\"id\":\"22842f74-cb89-49de-af45-8ca7d86aea1b\",\"type\":\"Circle\"},\"hover_glyph\":null,\"nonselection_glyph\":null,\"selection_glyph\":null},\"id\":\"e3a7813f-4706-4a54-bea2-11e200c9813c\",\"type\":\"GlyphRenderer\"},{\"attributes\":{\"callback\":null,\"column_names\":[\"y_values\",\"x_values\"],\"data\":{\"chart_index\":[{\"label\":10},{\"label\":10},{\"label\":10},{\"label\":10},{\"label\":10},{\"label\":10},{\"label\":10},{\"label\":10},{\"label\":10},{\"label\":10}],\"label\":[10,10,10,10,10,10,10,10,10,10],\"x_values\":[3.4055464267730713,2.6738121509552,2.287917137145996,2.3975515365600586,3.175699472427368,2.354872703552246,2.311455249786377,2.729602813720703,2.2016544342041016,3.2622101306915283],\"y_values\":[3.629157781600952,4.4072370529174805,6.0823445320129395,6.228285789489746,3.224362373352051,4.995418548583984,5.260951042175293,5.315678119659424,5.350796699523926,4.388768196105957]}},\"id\":\"5cb26657-23e5-4ac8-86fe-0462f4cce4f2\",\"type\":\"ColumnDataSource\"},{\"attributes\":{\"fill_alpha\":{\"value\":0.7},\"fill_color\":{\"value\":\"#00ad9c\"},\"line_color\":{\"value\":\"#00ad9c\"},\"size\":{\"units\":\"screen\",\"value\":8},\"x\":{\"field\":\"x_values\"},\"y\":{\"field\":\"y_values\"}},\"id\":\"f530c710-41d5-42a5-accd-272b55257fd2\",\"type\":\"Circle\"},{\"attributes\":{\"callback\":null,\"column_names\":[\"y_values\",\"x_values\"],\"data\":{\"chart_index\":[{\"label\":1},{\"label\":1},{\"label\":1},{\"label\":1},{\"label\":1},{\"label\":1},{\"label\":1},{\"label\":1},{\"label\":1},{\"label\":1}],\"label\":[1,1,1,1,1,1,1,1,1,1],\"x_values\":[0.5241196751594543,0.07263775914907455,1.1188304424285889,0.7148512005805969,-0.30994081497192383,-0.5794985294342041,-0.45678451657295227,-0.9517238140106201,0.26286202669143677,0.8253287076950073],\"y_values\":[2.5747344493865967,4.245053291320801,1.0128567218780518,2.0237083435058594,2.4402637481689453,4.626735687255859,3.823636054992676,1.359154224395752,1.5716750621795654,3.136654853820801]}},\"id\":\"8515f8b9-26b1-479f-a1e5-4253ab6fa7a2\",\"type\":\"ColumnDataSource\"},{\"attributes\":{\"callback\":null,\"column_names\":[\"y_values\",\"x_values\"],\"data\":{\"chart_index\":[{\"label\":7},{\"label\":7},{\"label\":7},{\"label\":7},{\"label\":7},{\"label\":7},{\"label\":7},{\"label\":7},{\"label\":7},{\"label\":7}],\"label\":[7,7,7,7,7,7,7,7,7,7],\"x_values\":[7.446714878082275,-0.3593907058238983,6.831791400909424,-2.3762454986572266,1.8550710678100586,2.3707432746887207,7.60521936416626,6.391336917877197,5.682675838470459,4.2744245529174805],\"y_values\":[-6.557558059692383,9.941801071166992,4.827301025390625,10.810470581054688,9.064497947692871,6.675821781158447,4.725943565368652,3.8126373291015625,5.024226188659668,4.928189277648926]}},\"id\":\"fb198485-966f-4d25-b1e2-97712635fb4e\",\"type\":\"ColumnDataSource\"},{\"attributes\":{\"plot\":{\"id\":\"49a8aeb9-dd98-4b6a-bb6f-e26a13328153\",\"subtype\":\"Chart\",\"type\":\"Plot\"},\"ticker\":{\"id\":\"e788e528-2cae-47e3-8fab-6d1e23931ec4\",\"type\":\"BasicTicker\"}},\"id\":\"36542cdd-77fb-4eda-a674-58a92a3578c9\",\"type\":\"Grid\"},{\"attributes\":{\"fill_alpha\":{\"value\":0.7},\"fill_color\":{\"value\":\"#df5320\"},\"line_color\":{\"value\":\"#df5320\"},\"size\":{\"units\":\"screen\",\"value\":8},\"x\":{\"field\":\"x_values\"},\"y\":{\"field\":\"y_values\"}},\"id\":\"1c360bb3-4607-4204-b149-b1cc59b7543e\",\"type\":\"Circle\"},{\"attributes\":{\"fill_alpha\":{\"value\":0.7},\"fill_color\":{\"value\":\"#407ee7\"},\"line_color\":{\"value\":\"#407ee7\"},\"size\":{\"units\":\"screen\",\"value\":8},\"x\":{\"field\":\"x_values\"},\"y\":{\"field\":\"y_values\"}},\"id\":\"2e2e29c2-1891-4bd4-a968-a08c5a242988\",\"type\":\"Circle\"},{\"attributes\":{\"data_source\":{\"id\":\"f183dd6b-b676-4a5c-ba74-dc4ea0b6b2b0\",\"type\":\"ColumnDataSource\"},\"glyph\":{\"id\":\"b5b8ec98-1c3d-4ba2-a197-1d883c7e3036\",\"type\":\"Circle\"},\"hover_glyph\":null,\"nonselection_glyph\":null,\"selection_glyph\":null},\"id\":\"0ce5007c-27ca-41c6-8864-af2bc662853e\",\"type\":\"GlyphRenderer\"},{\"attributes\":{\"plot\":{\"id\":\"49a8aeb9-dd98-4b6a-bb6f-e26a13328153\",\"subtype\":\"Chart\",\"type\":\"Plot\"}},\"id\":\"6f6c7f20-8b51-4e6d-a330-bf2d2d65919e\",\"type\":\"PanTool\"},{\"attributes\":{\"below\":[{\"id\":\"be482eb8-dd48-49fe-8649-79d1478d3f30\",\"type\":\"LinearAxis\"}],\"left\":[{\"id\":\"795d4a47-f6e1-40cc-9223-0fa72fba41c7\",\"type\":\"LinearAxis\"}],\"legend\":null,\"renderers\":[{\"id\":\"87bf339e-201f-421c-9f46-b0e40c5d3f16\",\"type\":\"BoxAnnotation\"},{\"id\":\"dc657481-e8ad-46f1-a3f8-8a8bc9c83760\",\"type\":\"GlyphRenderer\"},{\"id\":\"18f7a0b1-920f-43c0-a93c-2f16ee8ab09a\",\"type\":\"GlyphRenderer\"},{\"id\":\"a3cb4cbe-7ecb-4169-a116-192e5deabc29\",\"type\":\"GlyphRenderer\"},{\"id\":\"0ce5007c-27ca-41c6-8864-af2bc662853e\",\"type\":\"GlyphRenderer\"},{\"id\":\"03a42891-620b-4d61-a075-5ab58b861e92\",\"type\":\"GlyphRenderer\"},{\"id\":\"26f98e90-cf8a-4449-9557-7066f67ec026\",\"type\":\"GlyphRenderer\"},{\"id\":\"cc0a12de-645f-4430-9f7d-a3802bb347e3\",\"type\":\"GlyphRenderer\"},{\"id\":\"feb69df1-b954-44a4-9229-c79adf35b6d7\",\"type\":\"GlyphRenderer\"},{\"id\":\"4d4c3fcf-adb8-4e83-bf9e-d2d3d9ac2c2b\",\"type\":\"GlyphRenderer\"},{\"id\":\"c5132aad-de9d-4054-b77a-f60f5f32cd02\",\"type\":\"GlyphRenderer\"},{\"id\":\"5745dae9-efac-4ec4-9911-3b04bcd7c0a0\",\"type\":\"GlyphRenderer\"},{\"id\":\"2379ff42-95ef-4f0f-9a2e-dcf1269e1274\",\"type\":\"GlyphRenderer\"},{\"id\":\"09868abc-b846-4d99-b265-74c458c55d20\",\"type\":\"GlyphRenderer\"},{\"id\":\"4243cb6a-d723-4e59-b178-35086a3e80d2\",\"type\":\"GlyphRenderer\"},{\"id\":\"60804bb7-a8a7-4e25-b981-63a31393d7a2\",\"type\":\"GlyphRenderer\"},{\"id\":\"1875ef12-b8e3-477e-b675-6090caaf700b\",\"type\":\"GlyphRenderer\"},{\"id\":\"e5364ce8-1a40-46a0-8760-27ae099860e8\",\"type\":\"GlyphRenderer\"},{\"id\":\"6a0f76ef-4667-4cb9-ae61-fe1bb9494355\",\"type\":\"GlyphRenderer\"},{\"id\":\"b0af3e87-8d01-41da-b779-ed5cdc8a2743\",\"type\":\"GlyphRenderer\"},{\"id\":\"2ad07de6-8e0e-47a8-bb7f-9d21009c7459\",\"type\":\"GlyphRenderer\"},{\"id\":\"3c7aadcb-36e1-435c-995f-c09884ed575b\",\"type\":\"GlyphRenderer\"},{\"id\":\"4636d95e-da3f-400b-8e80-f3b7122ef33b\",\"type\":\"GlyphRenderer\"},{\"id\":\"ae704c44-401e-4aa9-9c00-411950cf1cbe\",\"type\":\"GlyphRenderer\"},{\"id\":\"e762beae-e56e-440a-96d1-ddb5c66325ed\",\"type\":\"GlyphRenderer\"},{\"id\":\"456ef7b8-6c1d-4c92-9165-ec73d0bf2dea\",\"type\":\"GlyphRenderer\"},{\"id\":\"096e505f-37d6-413f-b900-b46718831005\",\"type\":\"GlyphRenderer\"},{\"id\":\"3aba472f-8256-4960-bff2-df5219dabba2\",\"type\":\"GlyphRenderer\"},{\"id\":\"8b85704c-7f06-4193-adb5-919142dd8f16\",\"type\":\"GlyphRenderer\"},{\"id\":\"03813122-cda4-4f18-992d-2ffc7d00e577\",\"type\":\"GlyphRenderer\"},{\"id\":\"3a673fff-df9e-48b9-a9c8-aaa59a2786cb\",\"type\":\"GlyphRenderer\"},{\"id\":\"63454076-4c6b-480e-91af-f2ecc98ac737\",\"type\":\"GlyphRenderer\"},{\"id\":\"2e563e95-02f3-40b7-b1db-94ea499003f5\",\"type\":\"GlyphRenderer\"},{\"id\":\"b98e359f-06d3-44b0-91ea-c088bd195a91\",\"type\":\"GlyphRenderer\"},{\"id\":\"87b026ca-61fa-45ec-8f2b-4db10ae7472a\",\"type\":\"GlyphRenderer\"},{\"id\":\"a67e19ab-34c3-4cb1-9783-73c5d2f2ec4a\",\"type\":\"GlyphRenderer\"},{\"id\":\"d13d4524-a4b0-4377-98f4-956e671452c3\",\"type\":\"GlyphRenderer\"},{\"id\":\"40611941-fc9d-4535-85ff-8690b548d0e4\",\"type\":\"GlyphRenderer\"},{\"id\":\"4e979fd8-455d-44a3-88f5-021a7c06e084\",\"type\":\"GlyphRenderer\"},{\"id\":\"e3a7813f-4706-4a54-bea2-11e200c9813c\",\"type\":\"GlyphRenderer\"},{\"id\":\"5f32df58-a14d-4b7f-b2c9-f026d4e08c8f\",\"type\":\"GlyphRenderer\"},{\"id\":\"be482eb8-dd48-49fe-8649-79d1478d3f30\",\"type\":\"LinearAxis\"},{\"id\":\"795d4a47-f6e1-40cc-9223-0fa72fba41c7\",\"type\":\"LinearAxis\"},{\"id\":\"36542cdd-77fb-4eda-a674-58a92a3578c9\",\"type\":\"Grid\"},{\"id\":\"ae51ac78-485c-4c60-8211-2555a66b7259\",\"type\":\"Grid\"}],\"title\":\"PC1 vs PC2\",\"title_text_font_size\":{\"value\":\"14pt\"},\"tool_events\":{\"id\":\"c4cb858c-460b-4528-b119-a977a186b07a\",\"type\":\"ToolEvents\"},\"tools\":[{\"id\":\"6f6c7f20-8b51-4e6d-a330-bf2d2d65919e\",\"type\":\"PanTool\"},{\"id\":\"a5017754-fad8-4ce9-86b1-aa6dec4b4d7f\",\"type\":\"WheelZoomTool\"},{\"id\":\"4b3ca476-2475-4865-8345-95b8015a6122\",\"type\":\"BoxZoomTool\"},{\"id\":\"3aa7cd8d-b2c3-4363-98fa-c4d549c05856\",\"type\":\"PreviewSaveTool\"},{\"id\":\"842a00ee-ff6f-439e-8d1f-d3b51f021a27\",\"type\":\"ResizeTool\"},{\"id\":\"16d673df-5a2e-4123-970d-814425d690c3\",\"type\":\"ResetTool\"},{\"id\":\"f5e1e6af-1fa4-4420-9f98-4c05e21c7b30\",\"type\":\"HelpTool\"}],\"x_mapper_type\":\"auto\",\"x_range\":{\"id\":\"68470990-8eba-4e4c-a2e2-f31aad031988\",\"type\":\"Range1d\"},\"xscale\":\"auto\",\"y_mapper_type\":\"auto\",\"y_range\":{\"id\":\"a15e52d7-9a40-4037-83aa-aa89b9a26fb8\",\"type\":\"Range1d\"},\"yscale\":\"auto\"},\"id\":\"49a8aeb9-dd98-4b6a-bb6f-e26a13328153\",\"subtype\":\"Chart\",\"type\":\"Plot\"},{\"attributes\":{\"callback\":null,\"column_names\":[\"y_values\",\"x_values\"],\"data\":{\"chart_index\":[{\"label\":31},{\"label\":31},{\"label\":31},{\"label\":31},{\"label\":31},{\"label\":31},{\"label\":31},{\"label\":31},{\"label\":31},{\"label\":31}],\"label\":[31,31,31,31,31,31,31,31,31,31],\"x_values\":[4.098613262176514,2.9269590377807617,2.5376431941986084,0.47625279426574707,1.4223568439483643,3.037686347961426,2.7992334365844727,3.193589210510254,0.9384956359863281,0.908464252948761],\"y_values\":[3.9882466793060303,4.410178184509277,4.8985161781311035,4.206087112426758,3.3642427921295166,4.951871871948242,4.087009429931641,2.676722764968872,3.0526340007781982,4.81695032119751]}},\"id\":\"beb31e06-1eb1-45a6-a08f-d9454edc7fdd\",\"type\":\"ColumnDataSource\"},{\"attributes\":{\"fill_alpha\":{\"value\":0.7},\"fill_color\":{\"value\":\"#df5320\"},\"line_color\":{\"value\":\"#df5320\"},\"size\":{\"units\":\"screen\",\"value\":8},\"x\":{\"field\":\"x_values\"},\"y\":{\"field\":\"y_values\"}},\"id\":\"6180a122-601a-4ca7-93d6-70d531bfdad5\",\"type\":\"Circle\"},{\"attributes\":{\"fill_alpha\":{\"value\":0.7},\"fill_color\":{\"value\":\"#c33ff3\"},\"line_color\":{\"value\":\"#c33ff3\"},\"size\":{\"units\":\"screen\",\"value\":8},\"x\":{\"field\":\"x_values\"},\"y\":{\"field\":\"y_values\"}},\"id\":\"5eac93c7-94ba-4d5a-8118-557fbefec39b\",\"type\":\"Circle\"},{\"attributes\":{\"data_source\":{\"id\":\"7e9a14b3-2bed-4223-ae91-266dabca55aa\",\"type\":\"ColumnDataSource\"},\"glyph\":{\"id\":\"bd36a521-e1a4-4864-82a0-2038383db1ff\",\"type\":\"Circle\"},\"hover_glyph\":null,\"nonselection_glyph\":null,\"selection_glyph\":null},\"id\":\"60804bb7-a8a7-4e25-b981-63a31393d7a2\",\"type\":\"GlyphRenderer\"},{\"attributes\":{\"data_source\":{\"id\":\"42bb3710-01be-49a4-aedc-11df16c8a98a\",\"type\":\"ColumnDataSource\"},\"glyph\":{\"id\":\"59733e4f-1e14-4478-8ffc-5448bf773135\",\"type\":\"Circle\"},\"hover_glyph\":null,\"nonselection_glyph\":null,\"selection_glyph\":null},\"id\":\"1875ef12-b8e3-477e-b675-6090caaf700b\",\"type\":\"GlyphRenderer\"},{\"attributes\":{\"callback\":null,\"column_names\":[\"y_values\",\"x_values\"],\"data\":{\"chart_index\":[{\"label\":32},{\"label\":32},{\"label\":32},{\"label\":32},{\"label\":32},{\"label\":32},{\"label\":32},{\"label\":32},{\"label\":32},{\"label\":32}],\"label\":[32,32,32,32,32,32,32,32,32,32],\"x_values\":[-7.690403461456299,-7.8903889656066895,-4.857945442199707,-4.178678035736084,-7.400118827819824,-4.238139629364014,-4.691532135009766,-4.312597751617432,-8.206053733825684,-8.19426441192627],\"y_values\":[-1.0245823860168457,-0.6830053925514221,-5.488572597503662,-3.3029375076293945,-3.278762102127075,-4.174069881439209,-1.2987053394317627,-2.670417070388794,-0.7867975831031799,-0.15599672496318817]}},\"id\":\"9d909e20-6807-42ff-8c44-7028b93fec68\",\"type\":\"ColumnDataSource\"},{\"attributes\":{},\"id\":\"c4cb858c-460b-4528-b119-a977a186b07a\",\"type\":\"ToolEvents\"},{\"attributes\":{},\"id\":\"4ca77a63-3bfa-4bae-bbb1-fec85c96fe23\",\"type\":\"BasicTickFormatter\"},{\"attributes\":{\"callback\":null,\"column_names\":[\"y_values\",\"x_values\"],\"data\":{\"chart_index\":[{\"label\":25},{\"label\":25},{\"label\":25},{\"label\":25},{\"label\":25},{\"label\":25},{\"label\":25},{\"label\":25},{\"label\":25},{\"label\":25}],\"label\":[25,25,25,25,25,25,25,25,25,25],\"x_values\":[-0.45180758833885193,-4.6869282722473145,-2.46506929397583,-0.701301634311676,-1.2053278684616089,-4.3136091232299805,-0.04505200684070587,5.131316661834717,-1.3021841049194336,-0.7570647597312927],\"y_values\":[-0.9854497313499451,3.5551199913024902,1.1693291664123535,3.7247962951660156,1.929128646850586,4.412771701812744,0.4498763978481293,0.7671244740486145,3.5001208782196045,-0.8573034405708313]}},\"id\":\"448672ca-87db-4dfc-b240-15641140ec4e\",\"type\":\"ColumnDataSource\"},{\"attributes\":{\"data_source\":{\"id\":\"d8ee32ba-222c-4d12-b169-631d88a89dce\",\"type\":\"ColumnDataSource\"},\"glyph\":{\"id\":\"ee73135c-016a-4cf0-8eaa-df0bfec0a7dc\",\"type\":\"Circle\"},\"hover_glyph\":null,\"nonselection_glyph\":null,\"selection_glyph\":null},\"id\":\"6a0f76ef-4667-4cb9-ae61-fe1bb9494355\",\"type\":\"GlyphRenderer\"},{\"attributes\":{\"overlay\":{\"id\":\"87bf339e-201f-421c-9f46-b0e40c5d3f16\",\"type\":\"BoxAnnotation\"},\"plot\":{\"id\":\"49a8aeb9-dd98-4b6a-bb6f-e26a13328153\",\"subtype\":\"Chart\",\"type\":\"Plot\"}},\"id\":\"4b3ca476-2475-4865-8345-95b8015a6122\",\"type\":\"BoxZoomTool\"},{\"attributes\":{\"callback\":null,\"column_names\":[\"y_values\",\"x_values\"],\"data\":{\"chart_index\":[{\"label\":39},{\"label\":39},{\"label\":39},{\"label\":39},{\"label\":39},{\"label\":39},{\"label\":39},{\"label\":39},{\"label\":39},{\"label\":39}],\"label\":[39,39,39,39,39,39,39,39,39,39],\"x_values\":[1.1505056619644165,-1.200210690498352,-1.3030173778533936,0.7395964860916138,3.9397802352905273,5.17674446105957,3.509493827819824,4.433150291442871,-2.0407674312591553,5.165241241455078],\"y_values\":[-2.4350311756134033,0.7534218430519104,1.6297552585601807,-2.607468366622925,-2.6000025272369385,-5.82551908493042,-1.116646647453308,-2.04345703125,1.5096180438995361,-8.096757888793945]}},\"id\":\"98803bbd-afd9-4ae3-905f-3261ca5933ce\",\"type\":\"ColumnDataSource\"},{\"attributes\":{\"callback\":null,\"column_names\":[\"y_values\",\"x_values\"],\"data\":{\"chart_index\":[{\"label\":24},{\"label\":24},{\"label\":24},{\"label\":24},{\"label\":24},{\"label\":24},{\"label\":24},{\"label\":24},{\"label\":24},{\"label\":24}],\"label\":[24,24,24,24,24,24,24,24,24,24],\"x_values\":[1.9411821365356445,2.581686496734619,1.5660656690597534,-0.6728255152702332,-2.1276695728302,0.8575477004051208,-0.9304330945014954,0.052538201212882996,0.08496042340993881,1.7924506664276123],\"y_values\":[1.317607045173645,-3.374619483947754,2.661142587661743,4.214669227600098,4.604315280914307,3.7425639629364014,3.2967116832733154,-0.07127336412668228,2.2223308086395264,2.1667189598083496]}},\"id\":\"d00cbb4a-047a-49bd-a88d-0a1f5fbd30c5\",\"type\":\"ColumnDataSource\"},{\"attributes\":{\"fill_alpha\":{\"value\":0.7},\"fill_color\":{\"value\":\"#407ee7\"},\"line_color\":{\"value\":\"#407ee7\"},\"size\":{\"units\":\"screen\",\"value\":8},\"x\":{\"field\":\"x_values\"},\"y\":{\"field\":\"y_values\"}},\"id\":\"6afd0f7e-5a0c-4f1f-a25c-0a13c7cdf688\",\"type\":\"Circle\"},{\"attributes\":{\"callback\":null,\"column_names\":[\"y_values\",\"x_values\"],\"data\":{\"chart_index\":[{\"label\":34},{\"label\":34},{\"label\":34},{\"label\":34},{\"label\":34},{\"label\":34},{\"label\":34},{\"label\":34},{\"label\":34},{\"label\":34}],\"label\":[34,34,34,34,34,34,34,34,34,34],\"x_values\":[-4.869929790496826,1.620708703994751,1.6612193584442139,-4.497891426086426,1.0113328695297241,-4.48448371887207,-3.3777027130126953,-0.9052825570106506,-0.4456721544265747,-0.45809608697891235],\"y_values\":[0.5586644411087036,-7.074333190917969,-7.139773845672607,-0.9614993333816528,-6.37092399597168,0.8576385974884033,-3.0887327194213867,1.9460861682891846,0.6857091784477234,-0.48262640833854675]}},\"id\":\"95b9d457-55dd-47ff-8ff2-2341034b0c06\",\"type\":\"ColumnDataSource\"},{\"attributes\":{\"callback\":null,\"column_names\":[\"y_values\",\"x_values\"],\"data\":{\"chart_index\":[{\"label\":18},{\"label\":18},{\"label\":18},{\"label\":18},{\"label\":18},{\"label\":18},{\"label\":18},{\"label\":18},{\"label\":18},{\"label\":18}],\"label\":[18,18,18,18,18,18,18,18,18,18],\"x_values\":[3.3766682147979736,0.7223004698753357,1.9913079738616943,3.536349296569824,3.4088010787963867,1.5844128131866455,3.8387515544891357,0.5206632018089294,3.4799344539642334,0.8039847612380981],\"y_values\":[3.8122546672821045,0.6496353149414062,1.7206906080245972,4.426830291748047,4.139745712280273,1.2610118389129639,4.113379001617432,-0.3101089894771576,4.072370529174805,1.2086750268936157]}},\"id\":\"7c984dc7-ecb2-45fd-acbf-b493e30ede06\",\"type\":\"ColumnDataSource\"},{\"attributes\":{\"data_source\":{\"id\":\"98803bbd-afd9-4ae3-905f-3261ca5933ce\",\"type\":\"ColumnDataSource\"},\"glyph\":{\"id\":\"1c360bb3-4607-4204-b149-b1cc59b7543e\",\"type\":\"Circle\"},\"hover_glyph\":null,\"nonselection_glyph\":null,\"selection_glyph\":null},\"id\":\"096e505f-37d6-413f-b900-b46718831005\",\"type\":\"GlyphRenderer\"},{\"attributes\":{\"axis_label\":\"PC1\",\"formatter\":{\"id\":\"f99f3a8e-9211-46af-966b-8ff035c8a837\",\"type\":\"BasicTickFormatter\"},\"plot\":{\"id\":\"49a8aeb9-dd98-4b6a-bb6f-e26a13328153\",\"subtype\":\"Chart\",\"type\":\"Plot\"},\"ticker\":{\"id\":\"e788e528-2cae-47e3-8fab-6d1e23931ec4\",\"type\":\"BasicTicker\"}},\"id\":\"be482eb8-dd48-49fe-8649-79d1478d3f30\",\"type\":\"LinearAxis\"},{\"attributes\":{\"data_source\":{\"id\":\"845c30b3-8472-49b5-988b-b0dec7706973\",\"type\":\"ColumnDataSource\"},\"glyph\":{\"id\":\"03ef93aa-7a90-4968-a6dc-e0a16cae3c16\",\"type\":\"Circle\"},\"hover_glyph\":null,\"nonselection_glyph\":null,\"selection_glyph\":null},\"id\":\"4243cb6a-d723-4e59-b178-35086a3e80d2\",\"type\":\"GlyphRenderer\"},{\"attributes\":{\"plot\":{\"id\":\"49a8aeb9-dd98-4b6a-bb6f-e26a13328153\",\"subtype\":\"Chart\",\"type\":\"Plot\"}},\"id\":\"f5e1e6af-1fa4-4420-9f98-4c05e21c7b30\",\"type\":\"HelpTool\"},{\"attributes\":{\"fill_alpha\":{\"value\":0.7},\"fill_color\":{\"value\":\"#00ad9c\"},\"line_color\":{\"value\":\"#00ad9c\"},\"size\":{\"units\":\"screen\",\"value\":8},\"x\":{\"field\":\"x_values\"},\"y\":{\"field\":\"y_values\"}},\"id\":\"448feafd-e539-4d69-9702-7c75ec34a63c\",\"type\":\"Circle\"},{\"attributes\":{\"data_source\":{\"id\":\"8515f8b9-26b1-479f-a1e5-4253ab6fa7a2\",\"type\":\"ColumnDataSource\"},\"glyph\":{\"id\":\"59af4318-47d2-4265-b182-2d88bfa29019\",\"type\":\"Circle\"},\"hover_glyph\":null,\"nonselection_glyph\":null,\"selection_glyph\":null},\"id\":\"09868abc-b846-4d99-b265-74c458c55d20\",\"type\":\"GlyphRenderer\"},{\"attributes\":{\"fill_alpha\":{\"value\":0.7},\"fill_color\":{\"value\":\"#407ee7\"},\"line_color\":{\"value\":\"#407ee7\"},\"size\":{\"units\":\"screen\",\"value\":8},\"x\":{\"field\":\"x_values\"},\"y\":{\"field\":\"y_values\"}},\"id\":\"88393b11-f70d-4782-ae9f-626a5fd63bb0\",\"type\":\"Circle\"},{\"attributes\":{\"data_source\":{\"id\":\"5cb26657-23e5-4ac8-86fe-0462f4cce4f2\",\"type\":\"ColumnDataSource\"},\"glyph\":{\"id\":\"448feafd-e539-4d69-9702-7c75ec34a63c\",\"type\":\"Circle\"},\"hover_glyph\":null,\"nonselection_glyph\":null,\"selection_glyph\":null},\"id\":\"4636d95e-da3f-400b-8e80-f3b7122ef33b\",\"type\":\"GlyphRenderer\"},{\"attributes\":{\"data_source\":{\"id\":\"4ce705ff-f68e-4f20-b08d-09bedff86a1c\",\"type\":\"ColumnDataSource\"},\"glyph\":{\"id\":\"62de6ccb-a72f-4da1-b12e-63a58c8b2e4a\",\"type\":\"Circle\"},\"hover_glyph\":null,\"nonselection_glyph\":null,\"selection_glyph\":null},\"id\":\"63454076-4c6b-480e-91af-f2ecc98ac737\",\"type\":\"GlyphRenderer\"},{\"attributes\":{\"callback\":null,\"column_names\":[\"y_values\",\"x_values\"],\"data\":{\"chart_index\":[{\"label\":13},{\"label\":13},{\"label\":13},{\"label\":13},{\"label\":13},{\"label\":13},{\"label\":13},{\"label\":13},{\"label\":13},{\"label\":13}],\"label\":[13,13,13,13,13,13,13,13,13,13],\"x_values\":[-0.8157939910888672,0.4160442054271698,-0.8981574773788452,0.4090080261230469,1.8916747570037842,0.17362359166145325,-1.3511037826538086,-0.07411927729845047,0.5734155178070068,-0.9796628952026367],\"y_values\":[4.144041061401367,0.9197108149528503,4.430136203765869,0.19281278550624847,0.9245865345001221,0.7702341675758362,4.9248552322387695,1.9558125734329224,2.1276111602783203,3.889040470123291]}},\"id\":\"f7b5d7b1-d5e5-4cc1-9bc0-e8c5fb4d2417\",\"type\":\"ColumnDataSource\"},{\"attributes\":{\"fill_alpha\":{\"value\":0.7},\"fill_color\":{\"value\":\"#f22c40\"},\"line_color\":{\"value\":\"#f22c40\"},\"size\":{\"units\":\"screen\",\"value\":8},\"x\":{\"field\":\"x_values\"},\"y\":{\"field\":\"y_values\"}},\"id\":\"2330fb73-3b36-4d11-aeee-abcd4c2aefdd\",\"type\":\"Circle\"},{\"attributes\":{\"callback\":null,\"column_names\":[\"y_values\",\"x_values\"],\"data\":{\"chart_index\":[{\"label\":26},{\"label\":26},{\"label\":26},{\"label\":26},{\"label\":26},{\"label\":26},{\"label\":26},{\"label\":26},{\"label\":26},{\"label\":26}],\"label\":[26,26,26,26,26,26,26,26,26,26],\"x_values\":[0.49878326058387756,-0.42502108216285706,1.0630797147750854,0.8874430060386658,1.1016578674316406,1.6309210062026978,1.0843291282653809,1.6399359703063965,1.2599611282348633,-0.3109462559223175],\"y_values\":[3.9327874183654785,4.8092803955078125,3.1082262992858887,4.447976112365723,3.562115430831909,3.1257870197296143,3.205815315246582,3.584294557571411,3.54192852973938,4.047102928161621]}},\"id\":\"28921626-9016-4f33-bd13-5b49d0278df7\",\"type\":\"ColumnDataSource\"},{\"attributes\":{\"callback\":null,\"column_names\":[\"y_values\",\"x_values\"],\"data\":{\"chart_index\":[{\"label\":6},{\"label\":6},{\"label\":6},{\"label\":6},{\"label\":6},{\"label\":6},{\"label\":6},{\"label\":6},{\"label\":6},{\"label\":6}],\"label\":[6,6,6,6,6,6,6,6,6,6],\"x_values\":[5.095630168914795,5.629715919494629,6.532680988311768,5.654549598693848,3.551076889038086,5.996042728424072,2.1820664405822754,6.543004035949707,5.699498176574707,4.714056015014648],\"y_values\":[1.3595093488693237,-1.142878770828247,-2.90498423576355,-1.7220903635025024,-2.4236903190612793,2.6171975135803223,1.2600882053375244,0.6436758041381836,-2.3641889095306396,-2.168513059616089]}},\"id\":\"4e0a311a-f6c0-49a0-90e4-e152b74c6597\",\"type\":\"ColumnDataSource\"},{\"attributes\":{\"fill_alpha\":{\"value\":0.7},\"fill_color\":{\"value\":\"#5ab738\"},\"line_color\":{\"value\":\"#5ab738\"},\"size\":{\"units\":\"screen\",\"value\":8},\"x\":{\"field\":\"x_values\"},\"y\":{\"field\":\"y_values\"}},\"id\":\"724583e8-22a9-4608-bec3-41f4b662aaa8\",\"type\":\"Circle\"},{\"attributes\":{\"fill_alpha\":{\"value\":0.7},\"fill_color\":{\"value\":\"#5ab738\"},\"line_color\":{\"value\":\"#5ab738\"},\"size\":{\"units\":\"screen\",\"value\":8},\"x\":{\"field\":\"x_values\"},\"y\":{\"field\":\"y_values\"}},\"id\":\"adb4fc47-6a2a-40a4-a946-486e61a3f9fd\",\"type\":\"Circle\"},{\"attributes\":{\"callback\":null,\"end\":13.024292755126954,\"start\":-13.541573333740235},\"id\":\"a15e52d7-9a40-4037-83aa-aa89b9a26fb8\",\"type\":\"Range1d\"},{\"attributes\":{\"data_source\":{\"id\":\"579323c1-c3d1-4a68-93a5-47e307e8369e\",\"type\":\"ColumnDataSource\"},\"glyph\":{\"id\":\"19fe5777-377d-4577-b6ee-6e3864629c53\",\"type\":\"Circle\"},\"hover_glyph\":null,\"nonselection_glyph\":null,\"selection_glyph\":null},\"id\":\"e762beae-e56e-440a-96d1-ddb5c66325ed\",\"type\":\"GlyphRenderer\"},{\"attributes\":{\"fill_alpha\":{\"value\":0.7},\"fill_color\":{\"value\":\"#df5320\"},\"line_color\":{\"value\":\"#df5320\"},\"size\":{\"units\":\"screen\",\"value\":8},\"x\":{\"field\":\"x_values\"},\"y\":{\"field\":\"y_values\"}},\"id\":\"fade42ff-13fc-45e6-8921-0cada635def1\",\"type\":\"Circle\"},{\"attributes\":{\"axis_label\":\"PC2\",\"formatter\":{\"id\":\"4ca77a63-3bfa-4bae-bbb1-fec85c96fe23\",\"type\":\"BasicTickFormatter\"},\"plot\":{\"id\":\"49a8aeb9-dd98-4b6a-bb6f-e26a13328153\",\"subtype\":\"Chart\",\"type\":\"Plot\"},\"ticker\":{\"id\":\"60acc05c-661b-42d8-9b02-03b8c8479a7d\",\"type\":\"BasicTicker\"}},\"id\":\"795d4a47-f6e1-40cc-9223-0fa72fba41c7\",\"type\":\"LinearAxis\"}],\"root_ids\":[\"49a8aeb9-dd98-4b6a-bb6f-e26a13328153\"]},\"title\":\"Bokeh Application\",\"version\":\"0.11.1\"}};\n",
       "            var render_items = [{\"docid\":\"21bda359-1b29-468e-9fd1-610484c949c2\",\"elementid\":\"d3f33239-568c-4095-a18a-31b35bf2aa3f\",\"modelid\":\"49a8aeb9-dd98-4b6a-bb6f-e26a13328153\",\"notebook_comms_target\":\"033bdcd4-6c1e-4f28-8054-43e89ba846e8\"}];\n",
       "            \n",
       "            Bokeh.embed.embed_items(docs_json, render_items);\n",
       "        });\n",
       "      },\n",
       "      function(Bokeh) {\n",
       "      }\n",
       "    ];\n",
       "  \n",
       "    function run_inline_js() {\n",
       "      for (var i = 0; i < inline_js.length; i++) {\n",
       "        inline_js[i](window.Bokeh);\n",
       "      }\n",
       "    }\n",
       "  \n",
       "    if (window._bokeh_is_loading === 0) {\n",
       "      console.log(\"Bokeh: BokehJS loaded, going straight to plotting\");\n",
       "      run_inline_js();\n",
       "    } else {\n",
       "      load_libs(js_urls, function() {\n",
       "        console.log(\"Bokeh: BokehJS plotting callback run at\", now());\n",
       "        run_inline_js();\n",
       "      });\n",
       "    }\n",
       "  }(this));\n",
       "</script>"
      ]
     },
     "metadata": {},
     "output_type": "display_data"
    },
    {
     "data": {
      "text/html": [
       "<p><code>&lt;Bokeh Notebook handle for <strong>In[58]</strong>&gt;</code></p>"
      ],
      "text/plain": [
       "<bokeh.io._CommsHandle at 0x110f617b8>"
      ]
     },
     "execution_count": 58,
     "metadata": {},
     "output_type": "execute_result"
    }
   ],
   "source": [
    "from bokeh.charts import Scatter, output_notebook, show\n",
    "\n",
    "p = Scatter(df, x='pc1', y='pc2', color='label', title=\"PC1 vs PC2\",\n",
    "            xlabel=\"PC1\", ylabel=\"PC2\")\n",
    "\n",
    "output_notebook()\n",
    "\n",
    "show(p)"
   ]
  },
  {
   "cell_type": "code",
   "execution_count": null,
   "metadata": {
    "collapsed": true
   },
   "outputs": [],
   "source": []
  }
 ],
 "metadata": {
  "kernelspec": {
   "display_name": "Python 3",
   "language": "python",
   "name": "python3"
  },
  "language_info": {
   "codemirror_mode": {
    "name": "ipython",
    "version": 3
   },
   "file_extension": ".py",
   "mimetype": "text/x-python",
   "name": "python",
   "nbconvert_exporter": "python",
   "pygments_lexer": "ipython3",
   "version": "3.4.4"
  }
 },
 "nbformat": 4,
 "nbformat_minor": 0
}
