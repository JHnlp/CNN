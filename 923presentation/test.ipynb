{
 "cells": [
  {
   "cell_type": "code",
   "execution_count": 1,
   "metadata": {
    "collapsed": true
   },
   "outputs": [],
   "source": [
    "import sklearn\n",
    "from sklearn import datasets\n",
    "from PIL import Image\n",
    "from IPython.display import Image as IPImage\n",
    "import numpy as np\n",
    "from sklearn.linear_model import LogisticRegression as LR\n",
    "from sklearn.decomposition import PCA\n",
    "import sklearn\n",
    "import pandas"
   ]
  },
  {
   "cell_type": "code",
   "execution_count": 2,
   "metadata": {
    "collapsed": false
   },
   "outputs": [
    {
     "data": {
      "text/plain": [
       "0.66942149"
      ]
     },
     "execution_count": 2,
     "metadata": {},
     "output_type": "execute_result"
    }
   ],
   "source": [
    "face=sklearn.datasets.fetch_olivetti_faces(shuffle=True)\n",
    "X,Y = [face.data,face.target]\n",
    "X_out = X\n",
    "X = np.reshape(X, (-1, 1, 64, 64))\n",
    "X[0,0,0,0]"
   ]
  },
  {
   "cell_type": "code",
   "execution_count": 3,
   "metadata": {
    "collapsed": false
   },
   "outputs": [
    {
     "data": {
      "text/plain": [
       "(400,)"
      ]
     },
     "execution_count": 3,
     "metadata": {},
     "output_type": "execute_result"
    }
   ],
   "source": [
    "Y.shape"
   ]
  },
  {
   "cell_type": "code",
   "execution_count": 6,
   "metadata": {
    "collapsed": false
   },
   "outputs": [],
   "source": [
    "X_train,X_test = [X_out[0:200],X_out[200:400]]\n",
    "Y_train,Y_test = [Y[0:200],Y[200:400]]"
   ]
  },
  {
   "cell_type": "code",
   "execution_count": 7,
   "metadata": {
    "collapsed": true
   },
   "outputs": [],
   "source": [
    "def train_and_eval( model, train_x, train_y, test_x, test_y ):\n",
    "    model.fit( train_x, train_y )\n",
    "    p = model.predict( test_x )\n",
    "    OA = sum(test_y==p)/len(test_y)\n",
    "    return OA"
   ]
  },
  {
   "cell_type": "code",
   "execution_count": 8,
   "metadata": {
    "collapsed": false
   },
   "outputs": [
    {
     "data": {
      "text/plain": [
       "0.89000000000000001"
      ]
     },
     "execution_count": 8,
     "metadata": {},
     "output_type": "execute_result"
    }
   ],
   "source": [
    "lr = LR(C=1)\n",
    "auc = train_and_eval( lr, X_train, Y_train, \\\n",
    "    X_test, Y_test )\n",
    "auc"
   ]
  },
  {
   "cell_type": "code",
   "execution_count": 30,
   "metadata": {
    "collapsed": false
   },
   "outputs": [
    {
     "data": {
      "text/plain": [
       "0.89000000000000001"
      ]
     },
     "execution_count": 30,
     "metadata": {},
     "output_type": "execute_result"
    }
   ],
   "source": [
    "svm=sklearn.svm.SVC(kernel='linear',C=1,shrinking=False)\n",
    "auc = train_and_eval( lr, X_train, Y_train, \\\n",
    "    X_test, Y_test )\n",
    "auc"
   ]
  },
  {
   "cell_type": "code",
   "execution_count": 9,
   "metadata": {
    "collapsed": true
   },
   "outputs": [],
   "source": [
    "pca = PCA(n_components=30)\n",
    "pcomp = pca.fit_transform(X_out)"
   ]
  },
  {
   "cell_type": "code",
   "execution_count": 10,
   "metadata": {
    "collapsed": false
   },
   "outputs": [],
   "source": [
    "X_pcomp_train,X_pcomp_test = [pcomp[0:200],pcomp[200:400]]"
   ]
  },
  {
   "cell_type": "code",
   "execution_count": 11,
   "metadata": {
    "collapsed": false
   },
   "outputs": [
    {
     "data": {
      "text/plain": [
       "0.88"
      ]
     },
     "execution_count": 11,
     "metadata": {},
     "output_type": "execute_result"
    }
   ],
   "source": [
    "lr = LR(C=1)\n",
    "auc = train_and_eval( lr, X_pcomp_train, Y_train, \\\n",
    "    X_pcomp_test, Y_test )\n",
    "auc"
   ]
  },
  {
   "cell_type": "code",
   "execution_count": 12,
   "metadata": {
    "collapsed": false
   },
   "outputs": [
    {
     "data": {
      "text/plain": [
       "0.88"
      ]
     },
     "execution_count": 12,
     "metadata": {},
     "output_type": "execute_result"
    }
   ],
   "source": [
    "svm=sklearn.svm.SVC(kernel='linear',C=1,shrinking=False)\n",
    "auc = train_and_eval( lr, X_pcomp_train, Y_train, \\\n",
    "    X_pcomp_test, Y_test )\n",
    "auc"
   ]
  },
  {
   "cell_type": "code",
   "execution_count": 13,
   "metadata": {
    "collapsed": false
   },
   "outputs": [],
   "source": [
    "pc = pcomp[:,:2]"
   ]
  },
  {
   "cell_type": "code",
   "execution_count": 14,
   "metadata": {
    "collapsed": false
   },
   "outputs": [],
   "source": [
    "d = {'pc1': pc[:,0], 'pc2': pc[:,1], 'label':Y}"
   ]
  },
  {
   "cell_type": "code",
   "execution_count": 15,
   "metadata": {
    "collapsed": false
   },
   "outputs": [],
   "source": [
    "df = pandas.DataFrame(data=d)"
   ]
  },
  {
   "cell_type": "code",
   "execution_count": 17,
   "metadata": {
    "collapsed": false
   },
   "outputs": [
    {
     "data": {
      "text/html": [
       "\n",
       "    <div class=\"bk-banner\">\n",
       "        <a href=\"http://bokeh.pydata.org\" target=\"_blank\" class=\"bk-logo bk-logo-small bk-logo-notebook\"></a>\n",
       "        <span id=\"a78c9b4a-daaa-4e26-b0f0-b5930b28174d\">Loading BokehJS ...</span>\n",
       "    </div>"
      ]
     },
     "metadata": {},
     "output_type": "display_data"
    },
    {
     "data": {
      "application/javascript": [
       "\n",
       "(function(global) {\n",
       "  function now() {\n",
       "    return new Date();\n",
       "  }\n",
       "\n",
       "  if (typeof (window._bokeh_onload_callbacks) === \"undefined\") {\n",
       "    window._bokeh_onload_callbacks = [];\n",
       "  }\n",
       "\n",
       "  function run_callbacks() {\n",
       "    window._bokeh_onload_callbacks.forEach(function(callback) { callback() });\n",
       "    delete window._bokeh_onload_callbacks\n",
       "    console.info(\"Bokeh: all callbacks have finished\");\n",
       "  }\n",
       "\n",
       "  function load_libs(js_urls, callback) {\n",
       "    window._bokeh_onload_callbacks.push(callback);\n",
       "    if (window._bokeh_is_loading > 0) {\n",
       "      console.log(\"Bokeh: BokehJS is being loaded, scheduling callback at\", now());\n",
       "      return null;\n",
       "    }\n",
       "    if (js_urls == null || js_urls.length === 0) {\n",
       "      run_callbacks();\n",
       "      return null;\n",
       "    }\n",
       "    console.log(\"Bokeh: BokehJS not loaded, scheduling load and callback at\", now());\n",
       "    window._bokeh_is_loading = js_urls.length;\n",
       "    for (var i = 0; i < js_urls.length; i++) {\n",
       "      var url = js_urls[i];\n",
       "      var s = document.createElement('script');\n",
       "      s.src = url;\n",
       "      s.async = false;\n",
       "      s.onreadystatechange = s.onload = function() {\n",
       "        window._bokeh_is_loading--;\n",
       "        if (window._bokeh_is_loading === 0) {\n",
       "          console.log(\"Bokeh: all BokehJS libraries loaded\");\n",
       "          run_callbacks()\n",
       "        }\n",
       "      };\n",
       "      s.onerror = function() {\n",
       "        console.warn(\"failed to load library \" + url);\n",
       "      };\n",
       "      console.log(\"Bokeh: injecting script tag for BokehJS library: \", url);\n",
       "      document.getElementsByTagName(\"head\")[0].appendChild(s);\n",
       "    }\n",
       "  };\n",
       "\n",
       "  var js_urls = ['https://cdn.pydata.org/bokeh/release/bokeh-0.11.1.min.js', 'https://cdn.pydata.org/bokeh/release/bokeh-widgets-0.11.1.min.js', 'https://cdn.pydata.org/bokeh/release/bokeh-compiler-0.11.1.min.js'];\n",
       "\n",
       "  var inline_js = [\n",
       "    function(Bokeh) {\n",
       "      Bokeh.set_log_level(\"info\");\n",
       "    },\n",
       "    \n",
       "    function(Bokeh) {\n",
       "      Bokeh.$(\"#a78c9b4a-daaa-4e26-b0f0-b5930b28174d\").text(\"BokehJS successfully loaded\");\n",
       "    },\n",
       "    function(Bokeh) {\n",
       "      console.log(\"Bokeh: injecting CSS: https://cdn.pydata.org/bokeh/release/bokeh-0.11.1.min.css\");\n",
       "      Bokeh.embed.inject_css(\"https://cdn.pydata.org/bokeh/release/bokeh-0.11.1.min.css\");\n",
       "      console.log(\"Bokeh: injecting CSS: https://cdn.pydata.org/bokeh/release/bokeh-widgets-0.11.1.min.css\");\n",
       "      Bokeh.embed.inject_css(\"https://cdn.pydata.org/bokeh/release/bokeh-widgets-0.11.1.min.css\");\n",
       "    }\n",
       "  ];\n",
       "\n",
       "  function run_inline_js() {\n",
       "    for (var i = 0; i < inline_js.length; i++) {\n",
       "      inline_js[i](window.Bokeh);\n",
       "    }\n",
       "  }\n",
       "\n",
       "  if (window._bokeh_is_loading === 0) {\n",
       "    console.log(\"Bokeh: BokehJS loaded, going straight to plotting\");\n",
       "    run_inline_js();\n",
       "  } else {\n",
       "    load_libs(js_urls, function() {\n",
       "      console.log(\"Bokeh: BokehJS plotting callback run at\", now());\n",
       "      run_inline_js();\n",
       "    });\n",
       "  }\n",
       "}(this));"
      ]
     },
     "metadata": {},
     "output_type": "display_data"
    },
    {
     "data": {
      "text/html": [
       "\n",
       "\n",
       "    <div class=\"plotdiv\" id=\"f953d91a-4233-4fe0-99f9-45bb85d602c8\"></div>\n",
       "<script type=\"text/javascript\">\n",
       "  \n",
       "  (function(global) {\n",
       "    function now() {\n",
       "      return new Date();\n",
       "    }\n",
       "  \n",
       "    if (typeof (window._bokeh_onload_callbacks) === \"undefined\") {\n",
       "      window._bokeh_onload_callbacks = [];\n",
       "    }\n",
       "  \n",
       "    function run_callbacks() {\n",
       "      window._bokeh_onload_callbacks.forEach(function(callback) { callback() });\n",
       "      delete window._bokeh_onload_callbacks\n",
       "      console.info(\"Bokeh: all callbacks have finished\");\n",
       "    }\n",
       "  \n",
       "    function load_libs(js_urls, callback) {\n",
       "      window._bokeh_onload_callbacks.push(callback);\n",
       "      if (window._bokeh_is_loading > 0) {\n",
       "        console.log(\"Bokeh: BokehJS is being loaded, scheduling callback at\", now());\n",
       "        return null;\n",
       "      }\n",
       "      if (js_urls == null || js_urls.length === 0) {\n",
       "        run_callbacks();\n",
       "        return null;\n",
       "      }\n",
       "      console.log(\"Bokeh: BokehJS not loaded, scheduling load and callback at\", now());\n",
       "      window._bokeh_is_loading = js_urls.length;\n",
       "      for (var i = 0; i < js_urls.length; i++) {\n",
       "        var url = js_urls[i];\n",
       "        var s = document.createElement('script');\n",
       "        s.src = url;\n",
       "        s.async = false;\n",
       "        s.onreadystatechange = s.onload = function() {\n",
       "          window._bokeh_is_loading--;\n",
       "          if (window._bokeh_is_loading === 0) {\n",
       "            console.log(\"Bokeh: all BokehJS libraries loaded\");\n",
       "            run_callbacks()\n",
       "          }\n",
       "        };\n",
       "        s.onerror = function() {\n",
       "          console.warn(\"failed to load library \" + url);\n",
       "        };\n",
       "        console.log(\"Bokeh: injecting script tag for BokehJS library: \", url);\n",
       "        document.getElementsByTagName(\"head\")[0].appendChild(s);\n",
       "      }\n",
       "    };var element = document.getElementById(\"f953d91a-4233-4fe0-99f9-45bb85d602c8\");\n",
       "    if (element == null) {\n",
       "      console.log(\"Bokeh: ERROR: autoload.js configured with elementid 'f953d91a-4233-4fe0-99f9-45bb85d602c8' but no matching script tag was found. \")\n",
       "      return false;\n",
       "    }\n",
       "  \n",
       "    var js_urls = [];\n",
       "  \n",
       "    var inline_js = [\n",
       "      function(Bokeh) {\n",
       "        Bokeh.$(function() {\n",
       "            var docs_json = {\"15e3a38e-a86e-4458-88ea-77ba25d24ddc\":{\"roots\":{\"references\":[{\"attributes\":{\"fill_alpha\":{\"value\":0.7},\"fill_color\":{\"value\":\"#00ad9c\"},\"line_color\":{\"value\":\"#00ad9c\"},\"size\":{\"units\":\"screen\",\"value\":8},\"x\":{\"field\":\"x_values\"},\"y\":{\"field\":\"y_values\"}},\"id\":\"d439a385-0a1f-4d13-b351-5fc876f19697\",\"type\":\"Circle\"},{\"attributes\":{\"data_source\":{\"id\":\"8c2cc81f-d2ad-482b-8151-8b707b9c92b3\",\"type\":\"ColumnDataSource\"},\"glyph\":{\"id\":\"c59a6dd4-091f-4d64-a11d-b58a419a0e46\",\"type\":\"Circle\"},\"hover_glyph\":null,\"nonselection_glyph\":null,\"selection_glyph\":null},\"id\":\"9842117f-0b85-4e40-9696-4484d93f3057\",\"type\":\"GlyphRenderer\"},{\"attributes\":{\"callback\":null,\"column_names\":[\"x_values\",\"y_values\"],\"data\":{\"chart_index\":[{\"label\":2},{\"label\":2},{\"label\":2},{\"label\":2},{\"label\":2},{\"label\":2},{\"label\":2},{\"label\":2},{\"label\":2},{\"label\":2}],\"label\":[2,2,2,2,2,2,2,2,2,2],\"x_values\":[2.569138765335083,-2.6554694175720215,-2.5879056453704834,-2.3186049461364746,2.5630130767822266,1.7918658256530762,-1.7825937271118164,-2.3454549312591553,3.0080134868621826,0.44650164246559143],\"y_values\":[-3.461289882659912,2.2871241569519043,3.1529524326324463,3.2544641494750977,1.369117021560669,-5.221371650695801,-4.011659145355225,-2.5749940872192383,0.5332541465759277,-1.3858823776245117]}},\"id\":\"b6284554-2be6-48e5-8dfd-6122295f86c2\",\"type\":\"ColumnDataSource\"},{\"attributes\":{\"callback\":null,\"column_names\":[\"x_values\",\"y_values\"],\"data\":{\"chart_index\":[{\"label\":6},{\"label\":6},{\"label\":6},{\"label\":6},{\"label\":6},{\"label\":6},{\"label\":6},{\"label\":6},{\"label\":6},{\"label\":6}],\"label\":[6,6,6,6,6,6,6,6,6,6],\"x_values\":[5.095630168914795,5.629715919494629,6.532680988311768,5.654549598693848,3.551076889038086,5.996042728424072,2.1820664405822754,6.543004035949707,5.699498176574707,4.714056015014648],\"y_values\":[1.3595093488693237,-1.142878770828247,-2.90498423576355,-1.7220903635025024,-2.4236903190612793,2.6171975135803223,1.2600882053375244,0.6436758041381836,-2.3641889095306396,-2.168513059616089]}},\"id\":\"36c7f9bd-1c3b-4b9f-b32e-0091ac6a8fa0\",\"type\":\"ColumnDataSource\"},{\"attributes\":{\"callback\":null,\"column_names\":[\"x_values\",\"y_values\"],\"data\":{\"chart_index\":[{\"label\":15},{\"label\":15},{\"label\":15},{\"label\":15},{\"label\":15},{\"label\":15},{\"label\":15},{\"label\":15},{\"label\":15},{\"label\":15}],\"label\":[15,15,15,15,15,15,15,15,15,15],\"x_values\":[0.7951021790504456,3.699911117553711,6.438278675079346,4.275143146514893,6.441373825073242,-0.663335919380188,2.4893298149108887,4.302022457122803,4.216341495513916,4.475008964538574],\"y_values\":[-0.1132873073220253,-0.5099385976791382,1.401667594909668,-0.02366144023835659,1.2384287118911743,-0.0751325860619545,3.789027452468872,-4.365649700164795,-0.28821292519569397,-0.24060703814029694]}},\"id\":\"cd3ca772-0e1d-42e8-95f0-1cf84fe316dd\",\"type\":\"ColumnDataSource\"},{\"attributes\":{\"data_source\":{\"id\":\"907a6cac-1165-4b4e-80c9-58a94a85e1f9\",\"type\":\"ColumnDataSource\"},\"glyph\":{\"id\":\"f72eaa8b-90c1-46cc-a98b-b31f03452af6\",\"type\":\"Circle\"},\"hover_glyph\":null,\"nonselection_glyph\":null,\"selection_glyph\":null},\"id\":\"30a843dd-c4c4-47ab-af8b-134a8bd2b276\",\"type\":\"GlyphRenderer\"},{\"attributes\":{\"plot\":{\"id\":\"81a87778-c681-4b0b-9c30-910cb82ed909\",\"subtype\":\"Chart\",\"type\":\"Plot\"}},\"id\":\"ee7c709e-0581-437a-8551-20e6c7de8946\",\"type\":\"PreviewSaveTool\"},{\"attributes\":{\"callback\":null,\"column_names\":[\"x_values\",\"y_values\"],\"data\":{\"chart_index\":[{\"label\":18},{\"label\":18},{\"label\":18},{\"label\":18},{\"label\":18},{\"label\":18},{\"label\":18},{\"label\":18},{\"label\":18},{\"label\":18}],\"label\":[18,18,18,18,18,18,18,18,18,18],\"x_values\":[3.3766682147979736,0.7223004698753357,1.9913079738616943,3.536349296569824,3.4088010787963867,1.5844128131866455,3.8387515544891357,0.5206632018089294,3.4799344539642334,0.8039847612380981],\"y_values\":[3.8122546672821045,0.6496353149414062,1.7206906080245972,4.426830291748047,4.139745712280273,1.2610118389129639,4.113379001617432,-0.3101089894771576,4.072370529174805,1.2086750268936157]}},\"id\":\"4f667ccd-92d1-40ab-9a2a-111ecd177f24\",\"type\":\"ColumnDataSource\"},{\"attributes\":{\"fill_alpha\":{\"value\":0.7},\"fill_color\":{\"value\":\"#5ab738\"},\"line_color\":{\"value\":\"#5ab738\"},\"size\":{\"units\":\"screen\",\"value\":8},\"x\":{\"field\":\"x_values\"},\"y\":{\"field\":\"y_values\"}},\"id\":\"72ffad15-0838-4279-a638-09dfe62d3515\",\"type\":\"Circle\"},{\"attributes\":{\"callback\":null,\"column_names\":[\"x_values\",\"y_values\"],\"data\":{\"chart_index\":[{\"label\":33},{\"label\":33},{\"label\":33},{\"label\":33},{\"label\":33},{\"label\":33},{\"label\":33},{\"label\":33},{\"label\":33},{\"label\":33}],\"label\":[33,33,33,33,33,33,33,33,33,33],\"x_values\":[-10.66677188873291,-11.343953132629395,-8.109343528747559,-7.880815029144287,-8.131261825561523,-8.047438621520996,-7.985140323638916,-7.995316028594971,-9.321358680725098,-7.875076770782471],\"y_values\":[-0.15428411960601807,-0.07967612892389297,0.8394981026649475,0.913516104221344,0.9264827370643616,0.6656221151351929,0.7953354716300964,0.8544130921363831,-1.1002953052520752,0.756645679473877]}},\"id\":\"144c188c-579d-491a-a4cb-c2100e850760\",\"type\":\"ColumnDataSource\"},{\"attributes\":{\"fill_alpha\":{\"value\":0.7},\"fill_color\":{\"value\":\"#5ab738\"},\"line_color\":{\"value\":\"#5ab738\"},\"size\":{\"units\":\"screen\",\"value\":8},\"x\":{\"field\":\"x_values\"},\"y\":{\"field\":\"y_values\"}},\"id\":\"055eaae6-9009-4bac-bc6a-51d2cd23bd9f\",\"type\":\"Circle\"},{\"attributes\":{\"fill_alpha\":{\"value\":0.7},\"fill_color\":{\"value\":\"#df5320\"},\"line_color\":{\"value\":\"#df5320\"},\"size\":{\"units\":\"screen\",\"value\":8},\"x\":{\"field\":\"x_values\"},\"y\":{\"field\":\"y_values\"}},\"id\":\"1c3e65d3-2371-46ab-b84d-23eaea87d80e\",\"type\":\"Circle\"},{\"attributes\":{\"plot\":{\"id\":\"81a87778-c681-4b0b-9c30-910cb82ed909\",\"subtype\":\"Chart\",\"type\":\"Plot\"}},\"id\":\"f981d52e-ff5b-48e0-b468-6a8c9b497bf9\",\"type\":\"HelpTool\"},{\"attributes\":{\"callback\":null,\"column_names\":[\"x_values\",\"y_values\"],\"data\":{\"chart_index\":[{\"label\":11},{\"label\":11},{\"label\":11},{\"label\":11},{\"label\":11},{\"label\":11},{\"label\":11},{\"label\":11},{\"label\":11},{\"label\":11}],\"label\":[11,11,11,11,11,11,11,11,11,11],\"x_values\":[-1.7703121900558472,-2.168843984603882,-2.249934196472168,-1.524844765663147,-2.226313829421997,3.15582275390625,4.048519611358643,2.9709842205047607,5.170927047729492,2.0034713745117188],\"y_values\":[1.4552009105682373,-0.5703325867652893,0.13601112365722656,-3.541107416152954,-1.573051929473877,1.2513521909713745,-1.5075476169586182,-0.5555868148803711,-4.0845561027526855,1.8449536561965942]}},\"id\":\"7e3bcc5f-092b-4a8c-a6be-362e77e4fe28\",\"type\":\"ColumnDataSource\"},{\"attributes\":{\"callback\":null,\"column_names\":[\"x_values\",\"y_values\"],\"data\":{\"chart_index\":[{\"label\":28},{\"label\":28},{\"label\":28},{\"label\":28},{\"label\":28},{\"label\":28},{\"label\":28},{\"label\":28},{\"label\":28},{\"label\":28}],\"label\":[28,28,28,28,28,28,28,28,28,28],\"x_values\":[-2.4041080474853516,-7.786228179931641,-3.972261428833008,-7.305089950561523,-8.55016040802002,-7.486443042755127,-2.323145627975464,-1.7148107290267944,-7.645221710205078,-1.58768630027771],\"y_values\":[-3.015223503112793,-1.907949686050415,-2.827430486679077,-1.805637240409851,0.04614369571208954,-3.5838043689727783,-7.423166751861572,-4.885194301605225,-3.3495748043060303,-2.9748294353485107]}},\"id\":\"91ff59da-fce4-4507-946c-6fdf860cc35f\",\"type\":\"ColumnDataSource\"},{\"attributes\":{\"fill_alpha\":{\"value\":0.7},\"fill_color\":{\"value\":\"#f22c40\"},\"line_color\":{\"value\":\"#f22c40\"},\"size\":{\"units\":\"screen\",\"value\":8},\"x\":{\"field\":\"x_values\"},\"y\":{\"field\":\"y_values\"}},\"id\":\"7a7bbf55-2b53-4619-a2a2-1feecdfbc333\",\"type\":\"Circle\"},{\"attributes\":{\"callback\":null,\"column_names\":[\"x_values\",\"y_values\"],\"data\":{\"chart_index\":[{\"label\":10},{\"label\":10},{\"label\":10},{\"label\":10},{\"label\":10},{\"label\":10},{\"label\":10},{\"label\":10},{\"label\":10},{\"label\":10}],\"label\":[10,10,10,10,10,10,10,10,10,10],\"x_values\":[3.4055464267730713,2.6738121509552,2.287917137145996,2.3975515365600586,3.175699472427368,2.354872703552246,2.311455249786377,2.729602813720703,2.2016544342041016,3.2622101306915283],\"y_values\":[3.629157781600952,4.4072370529174805,6.0823445320129395,6.228285789489746,3.224362373352051,4.995418548583984,5.260951042175293,5.315678119659424,5.350796699523926,4.388768196105957]}},\"id\":\"7f4822a5-791e-47eb-a811-b61bc6e60e14\",\"type\":\"ColumnDataSource\"},{\"attributes\":{\"data_source\":{\"id\":\"5c2139b0-0f6f-494d-8483-4625bfd3d7d0\",\"type\":\"ColumnDataSource\"},\"glyph\":{\"id\":\"50b73780-b599-43b7-a560-28bebd8690f5\",\"type\":\"Circle\"},\"hover_glyph\":null,\"nonselection_glyph\":null,\"selection_glyph\":null},\"id\":\"e369d021-9ee5-4e99-af03-fdea9bf5fa46\",\"type\":\"GlyphRenderer\"},{\"attributes\":{\"data_source\":{\"id\":\"5ce3e0a0-56a7-4499-87ca-9fc2fa7b41e3\",\"type\":\"ColumnDataSource\"},\"glyph\":{\"id\":\"6978563d-dff7-48b9-a713-544846c825ff\",\"type\":\"Circle\"},\"hover_glyph\":null,\"nonselection_glyph\":null,\"selection_glyph\":null},\"id\":\"1ab890ec-bd70-44c7-acaf-1024033f7791\",\"type\":\"GlyphRenderer\"},{\"attributes\":{\"fill_alpha\":{\"value\":0.7},\"fill_color\":{\"value\":\"#df5320\"},\"line_color\":{\"value\":\"#df5320\"},\"size\":{\"units\":\"screen\",\"value\":8},\"x\":{\"field\":\"x_values\"},\"y\":{\"field\":\"y_values\"}},\"id\":\"059dc245-c1c6-440c-b98c-4146df2f8210\",\"type\":\"Circle\"},{\"attributes\":{\"data_source\":{\"id\":\"bd5e9e74-5e3d-48df-9189-40876efda25c\",\"type\":\"ColumnDataSource\"},\"glyph\":{\"id\":\"fbc042e5-5b1a-409f-98e2-ff4da11ce6fe\",\"type\":\"Circle\"},\"hover_glyph\":null,\"nonselection_glyph\":null,\"selection_glyph\":null},\"id\":\"739e4e56-2134-45f9-972b-331bfdcd39f2\",\"type\":\"GlyphRenderer\"},{\"attributes\":{\"callback\":null,\"column_names\":[\"x_values\",\"y_values\"],\"data\":{\"chart_index\":[{\"label\":9},{\"label\":9},{\"label\":9},{\"label\":9},{\"label\":9},{\"label\":9},{\"label\":9},{\"label\":9},{\"label\":9},{\"label\":9}],\"label\":[9,9,9,9,9,9,9,9,9,9],\"x_values\":[0.9030385613441467,2.477736473083496,-3.2596242427825928,4.072602272033691,-3.47786808013916,4.083736419677734,3.672966241836548,2.1640360355377197,-0.16874314844608307,6.8656086921691895],\"y_values\":[0.9736447930335999,4.628424167633057,6.31470251083374,0.6386836767196655,6.282946586608887,-7.041254997253418,0.7862452268600464,3.432119369506836,3.0066771507263184,1.9790469408035278]}},\"id\":\"0e27bde8-d3c5-4b64-bbfa-e0821886cbab\",\"type\":\"ColumnDataSource\"},{\"attributes\":{\"fill_alpha\":{\"value\":0.7},\"fill_color\":{\"value\":\"#00ad9c\"},\"line_color\":{\"value\":\"#00ad9c\"},\"size\":{\"units\":\"screen\",\"value\":8},\"x\":{\"field\":\"x_values\"},\"y\":{\"field\":\"y_values\"}},\"id\":\"330aae21-9b80-4371-b32c-0f9956d5504a\",\"type\":\"Circle\"},{\"attributes\":{\"data_source\":{\"id\":\"bd0a8d9c-c0e9-4088-89bf-a8ab072c6320\",\"type\":\"ColumnDataSource\"},\"glyph\":{\"id\":\"5534f58e-0301-4329-a095-a0831727ebf6\",\"type\":\"Circle\"},\"hover_glyph\":null,\"nonselection_glyph\":null,\"selection_glyph\":null},\"id\":\"eedd480d-bc53-4f71-b01c-6e3d41294165\",\"type\":\"GlyphRenderer\"},{\"attributes\":{\"data_source\":{\"id\":\"cec31277-edf7-4b9d-a6d6-158ee9ddc12d\",\"type\":\"ColumnDataSource\"},\"glyph\":{\"id\":\"ce08369f-f713-4fc9-bc69-42e03323a12d\",\"type\":\"Circle\"},\"hover_glyph\":null,\"nonselection_glyph\":null,\"selection_glyph\":null},\"id\":\"fc9e8ce8-1e8a-464d-aa5a-0656dded1c81\",\"type\":\"GlyphRenderer\"},{\"attributes\":{\"data_source\":{\"id\":\"a91c5a04-57c3-4b21-993c-bf6db804f982\",\"type\":\"ColumnDataSource\"},\"glyph\":{\"id\":\"3a155a7d-040d-4eff-817b-654aa1e2c743\",\"type\":\"Circle\"},\"hover_glyph\":null,\"nonselection_glyph\":null,\"selection_glyph\":null},\"id\":\"98d408cb-8c53-4cbb-be22-b790c3dba98c\",\"type\":\"GlyphRenderer\"},{\"attributes\":{\"fill_alpha\":{\"value\":0.7},\"fill_color\":{\"value\":\"#5ab738\"},\"line_color\":{\"value\":\"#5ab738\"},\"size\":{\"units\":\"screen\",\"value\":8},\"x\":{\"field\":\"x_values\"},\"y\":{\"field\":\"y_values\"}},\"id\":\"1fb1f2b9-a746-4432-b989-9b1e4df7f03a\",\"type\":\"Circle\"},{\"attributes\":{\"below\":[{\"id\":\"2431c3e2-1950-4bdd-8ff2-a1a07829a125\",\"type\":\"LinearAxis\"}],\"left\":[{\"id\":\"181f5784-f8ae-4c46-bfc6-b5de7d98989a\",\"type\":\"LinearAxis\"}],\"legend\":null,\"renderers\":[{\"id\":\"a08f7882-040b-4fa1-a64b-4ff71d9a5108\",\"type\":\"BoxAnnotation\"},{\"id\":\"672e968d-dd17-4cf0-8c18-add71ed9d50d\",\"type\":\"GlyphRenderer\"},{\"id\":\"ea18758d-6891-48a7-a077-c19ad6e7ecd9\",\"type\":\"GlyphRenderer\"},{\"id\":\"8b9f4349-52b9-497a-9432-8938acfdb2aa\",\"type\":\"GlyphRenderer\"},{\"id\":\"c7b10b4e-26b7-4033-b6f3-9024b1e5bc07\",\"type\":\"GlyphRenderer\"},{\"id\":\"3e6f9a07-edf2-421c-85a4-df12a3c075b8\",\"type\":\"GlyphRenderer\"},{\"id\":\"d5223059-4e56-4e72-b76f-3042ad49749f\",\"type\":\"GlyphRenderer\"},{\"id\":\"486859c4-8bd8-4f0f-9727-1b129e141fb3\",\"type\":\"GlyphRenderer\"},{\"id\":\"9c3ee2fe-9e54-45c6-b412-5da5f49bd5e7\",\"type\":\"GlyphRenderer\"},{\"id\":\"1ab890ec-bd70-44c7-acaf-1024033f7791\",\"type\":\"GlyphRenderer\"},{\"id\":\"eedd480d-bc53-4f71-b01c-6e3d41294165\",\"type\":\"GlyphRenderer\"},{\"id\":\"a0af9020-bbbc-422a-b085-36714d8f93e5\",\"type\":\"GlyphRenderer\"},{\"id\":\"be6d6b41-9a06-4dad-9ce7-462bcd99dcd3\",\"type\":\"GlyphRenderer\"},{\"id\":\"508f0ac4-be25-43b2-b5c8-7b16fe9197be\",\"type\":\"GlyphRenderer\"},{\"id\":\"9842117f-0b85-4e40-9696-4484d93f3057\",\"type\":\"GlyphRenderer\"},{\"id\":\"ff889063-200d-40a7-bd92-59411bd871ee\",\"type\":\"GlyphRenderer\"},{\"id\":\"98d408cb-8c53-4cbb-be22-b790c3dba98c\",\"type\":\"GlyphRenderer\"},{\"id\":\"ab3233b2-27f2-4c69-902d-292b487651dc\",\"type\":\"GlyphRenderer\"},{\"id\":\"e5e0a532-0894-43b5-ba17-b5d766c773ba\",\"type\":\"GlyphRenderer\"},{\"id\":\"46aea4d3-91dc-4565-aac4-edb4a9ad0e72\",\"type\":\"GlyphRenderer\"},{\"id\":\"451f9187-af40-4bee-8b88-6ad2a63b4856\",\"type\":\"GlyphRenderer\"},{\"id\":\"21cfaa59-7435-4c87-8309-4ba74477a58f\",\"type\":\"GlyphRenderer\"},{\"id\":\"588973cc-52b1-48e5-98d6-0b615d98d36a\",\"type\":\"GlyphRenderer\"},{\"id\":\"0ff88a11-9c77-4a39-a559-a0b726a957f5\",\"type\":\"GlyphRenderer\"},{\"id\":\"7de7c88e-58a5-4e58-a3b5-5936ce114553\",\"type\":\"GlyphRenderer\"},{\"id\":\"0099dd10-f6b9-47e6-94f6-273da5de02b6\",\"type\":\"GlyphRenderer\"},{\"id\":\"fc9e8ce8-1e8a-464d-aa5a-0656dded1c81\",\"type\":\"GlyphRenderer\"},{\"id\":\"ce6f8223-ac40-4f02-9fec-27fc74d716d9\",\"type\":\"GlyphRenderer\"},{\"id\":\"48872f79-ddba-4ac6-9814-c5b70bc2307f\",\"type\":\"GlyphRenderer\"},{\"id\":\"87f0fb9d-04a3-423f-87a4-9b6fa8d3b1f7\",\"type\":\"GlyphRenderer\"},{\"id\":\"d7fa7004-75f5-4330-abc3-6d1d125b5c32\",\"type\":\"GlyphRenderer\"},{\"id\":\"a1136671-332e-4eb0-a2a0-c41927914e3c\",\"type\":\"GlyphRenderer\"},{\"id\":\"3bbf96ed-6685-4d7f-9181-bdad27ad621d\",\"type\":\"GlyphRenderer\"},{\"id\":\"fff1a38c-303e-47ab-9c5c-26f747ba6fbf\",\"type\":\"GlyphRenderer\"},{\"id\":\"30a843dd-c4c4-47ab-af8b-134a8bd2b276\",\"type\":\"GlyphRenderer\"},{\"id\":\"7dc33aed-df76-456f-b75b-cb380a98dc7f\",\"type\":\"GlyphRenderer\"},{\"id\":\"f5c86bf6-567e-46ef-b463-d3e3b7b80b54\",\"type\":\"GlyphRenderer\"},{\"id\":\"e369d021-9ee5-4e99-af03-fdea9bf5fa46\",\"type\":\"GlyphRenderer\"},{\"id\":\"739e4e56-2134-45f9-972b-331bfdcd39f2\",\"type\":\"GlyphRenderer\"},{\"id\":\"3e7afbde-cf44-4cf5-b321-b5c03e441244\",\"type\":\"GlyphRenderer\"},{\"id\":\"7407ef4b-dc0b-4b18-ad92-b72380779973\",\"type\":\"GlyphRenderer\"},{\"id\":\"2431c3e2-1950-4bdd-8ff2-a1a07829a125\",\"type\":\"LinearAxis\"},{\"id\":\"181f5784-f8ae-4c46-bfc6-b5de7d98989a\",\"type\":\"LinearAxis\"},{\"id\":\"58378ff0-4ca4-4bcf-bdcc-8e18935e15f8\",\"type\":\"Grid\"},{\"id\":\"8d55fee9-9561-4f3e-b9aa-3331c38069cd\",\"type\":\"Grid\"}],\"title\":\"PC1 vs PC2\",\"title_text_font_size\":{\"value\":\"14pt\"},\"tool_events\":{\"id\":\"8b9c1c54-a3c9-47b3-bf5d-854ef9483a7d\",\"type\":\"ToolEvents\"},\"tools\":[{\"id\":\"caaf701b-8e6f-4085-af5a-87dc34d5c5e2\",\"type\":\"PanTool\"},{\"id\":\"7d7d0d87-3e11-46b1-9082-980b38681991\",\"type\":\"WheelZoomTool\"},{\"id\":\"1284a9d4-3c2f-4fd5-ace9-21102450165a\",\"type\":\"BoxZoomTool\"},{\"id\":\"ee7c709e-0581-437a-8551-20e6c7de8946\",\"type\":\"PreviewSaveTool\"},{\"id\":\"fc56a42b-cf18-43c9-b6c2-0eb0b4171460\",\"type\":\"ResizeTool\"},{\"id\":\"e551c328-9374-4ced-aadb-88c8c7e519a5\",\"type\":\"ResetTool\"},{\"id\":\"f981d52e-ff5b-48e0-b468-6a8c9b497bf9\",\"type\":\"HelpTool\"}],\"x_mapper_type\":\"auto\",\"x_range\":{\"id\":\"f031b3db-98ab-4934-8707-18223a1b3583\",\"type\":\"Range1d\"},\"xscale\":\"auto\",\"y_mapper_type\":\"auto\",\"y_range\":{\"id\":\"0ed0619b-a7c5-4b31-a9db-f2ac980d1439\",\"type\":\"Range1d\"},\"yscale\":\"auto\"},\"id\":\"81a87778-c681-4b0b-9c30-910cb82ed909\",\"subtype\":\"Chart\",\"type\":\"Plot\"},{\"attributes\":{\"data_source\":{\"id\":\"7f4822a5-791e-47eb-a811-b61bc6e60e14\",\"type\":\"ColumnDataSource\"},\"glyph\":{\"id\":\"d439a385-0a1f-4d13-b351-5fc876f19697\",\"type\":\"Circle\"},\"hover_glyph\":null,\"nonselection_glyph\":null,\"selection_glyph\":null},\"id\":\"588973cc-52b1-48e5-98d6-0b615d98d36a\",\"type\":\"GlyphRenderer\"},{\"attributes\":{\"data_source\":{\"id\":\"144c188c-579d-491a-a4cb-c2100e850760\",\"type\":\"ColumnDataSource\"},\"glyph\":{\"id\":\"21aa918e-36f8-4a52-a6be-718d440a9af6\",\"type\":\"Circle\"},\"hover_glyph\":null,\"nonselection_glyph\":null,\"selection_glyph\":null},\"id\":\"0ff88a11-9c77-4a39-a559-a0b726a957f5\",\"type\":\"GlyphRenderer\"},{\"attributes\":{\"callback\":null,\"column_names\":[\"x_values\",\"y_values\"],\"data\":{\"chart_index\":[{\"label\":3},{\"label\":3},{\"label\":3},{\"label\":3},{\"label\":3},{\"label\":3},{\"label\":3},{\"label\":3},{\"label\":3},{\"label\":3}],\"label\":[3,3,3,3,3,3,3,3,3,3],\"x_values\":[0.5501906275749207,0.2659575939178467,3.964059829711914,2.73624587059021,3.920142412185669,4.552584171295166,-1.2057194709777832,-0.6030253171920776,-0.3407958447933197,1.6554059982299805],\"y_values\":[-1.4944058656692505,-0.5907354950904846,1.1617932319641113,3.3720951080322266,-5.987783908843994,-0.5749412775039673,1.6692382097244263,2.5235228538513184,-1.8616520166397095,4.919836044311523]}},\"id\":\"ed786c55-1cd0-416e-901c-1a5c5ca3c13e\",\"type\":\"ColumnDataSource\"},{\"attributes\":{\"plot\":{\"id\":\"81a87778-c681-4b0b-9c30-910cb82ed909\",\"subtype\":\"Chart\",\"type\":\"Plot\"}},\"id\":\"e551c328-9374-4ced-aadb-88c8c7e519a5\",\"type\":\"ResetTool\"},{\"attributes\":{\"fill_alpha\":{\"value\":0.7},\"fill_color\":{\"value\":\"#5ab738\"},\"line_color\":{\"value\":\"#5ab738\"},\"size\":{\"units\":\"screen\",\"value\":8},\"x\":{\"field\":\"x_values\"},\"y\":{\"field\":\"y_values\"}},\"id\":\"afe277dc-a09f-41ae-a901-e843b7d96423\",\"type\":\"Circle\"},{\"attributes\":{\"callback\":null,\"column_names\":[\"x_values\",\"y_values\"],\"data\":{\"chart_index\":[{\"label\":25},{\"label\":25},{\"label\":25},{\"label\":25},{\"label\":25},{\"label\":25},{\"label\":25},{\"label\":25},{\"label\":25},{\"label\":25}],\"label\":[25,25,25,25,25,25,25,25,25,25],\"x_values\":[-0.45180758833885193,-4.6869282722473145,-2.46506929397583,-0.701301634311676,-1.2053278684616089,-4.3136091232299805,-0.04505200684070587,5.131316661834717,-1.3021841049194336,-0.7570647597312927],\"y_values\":[-0.9854497313499451,3.5551199913024902,1.1693291664123535,3.7247962951660156,1.929128646850586,4.412771701812744,0.4498763978481293,0.7671244740486145,3.5001208782196045,-0.8573034405708313]}},\"id\":\"9312cbab-0a6c-42e0-a79e-3df6f8d63479\",\"type\":\"ColumnDataSource\"},{\"attributes\":{\"callback\":null,\"column_names\":[\"x_values\",\"y_values\"],\"data\":{\"chart_index\":[{\"label\":38},{\"label\":38},{\"label\":38},{\"label\":38},{\"label\":38},{\"label\":38},{\"label\":38},{\"label\":38},{\"label\":38},{\"label\":38}],\"label\":[38,38,38,38,38,38,38,38,38,38],\"x_values\":[-8.031673431396484,-10.135991096496582,-8.788522720336914,-9.170944213867188,-8.981925964355469,-8.870979309082031,-8.636225700378418,-8.258504867553711,-9.062960624694824,-9.057638168334961],\"y_values\":[-0.06335293501615524,1.2992637157440186,-2.5886662006378174,-2.8165247440338135,-1.8873599767684937,0.07187870889902115,-5.1180596351623535,0.8694221377372742,0.06965285539627075,0.911909818649292]}},\"id\":\"5c2139b0-0f6f-494d-8483-4625bfd3d7d0\",\"type\":\"ColumnDataSource\"},{\"attributes\":{},\"id\":\"76bf503b-0b1a-4beb-bb84-d8c260493b74\",\"type\":\"BasicTicker\"},{\"attributes\":{\"fill_alpha\":{\"value\":0.7},\"fill_color\":{\"value\":\"#f22c40\"},\"line_color\":{\"value\":\"#f22c40\"},\"size\":{\"units\":\"screen\",\"value\":8},\"x\":{\"field\":\"x_values\"},\"y\":{\"field\":\"y_values\"}},\"id\":\"64b16642-4cd1-43b2-9da7-967e1c2813e4\",\"type\":\"Circle\"},{\"attributes\":{\"plot\":{\"id\":\"81a87778-c681-4b0b-9c30-910cb82ed909\",\"subtype\":\"Chart\",\"type\":\"Plot\"}},\"id\":\"caaf701b-8e6f-4085-af5a-87dc34d5c5e2\",\"type\":\"PanTool\"},{\"attributes\":{\"callback\":null,\"column_names\":[\"x_values\",\"y_values\"],\"data\":{\"chart_index\":[{\"label\":0},{\"label\":0},{\"label\":0},{\"label\":0},{\"label\":0},{\"label\":0},{\"label\":0},{\"label\":0},{\"label\":0},{\"label\":0}],\"label\":[0,0,0,0,0,0,0,0,0,0],\"x_values\":[6.131958961486816,1.0758894681930542,3.9620065689086914,5.204050540924072,5.623241424560547,7.0038933753967285,5.2929487228393555,4.253591537475586,6.432612419128418,1.9615416526794434],\"y_values\":[0.07340417057275772,6.697335720062256,3.293877124786377,-6.6474151611328125,-3.798434257507324,-1.672889232635498,1.5425140857696533,-11.327751159667969,0.7036680579185486,2.094350814819336]}},\"id\":\"5f52b48b-3a3b-4c75-8d92-052d23e2d65a\",\"type\":\"ColumnDataSource\"},{\"attributes\":{\"data_source\":{\"id\":\"c7095179-d282-447f-acf6-25ed8143bcdc\",\"type\":\"ColumnDataSource\"},\"glyph\":{\"id\":\"72ffad15-0838-4279-a638-09dfe62d3515\",\"type\":\"Circle\"},\"hover_glyph\":null,\"nonselection_glyph\":null,\"selection_glyph\":null},\"id\":\"508f0ac4-be25-43b2-b5c8-7b16fe9197be\",\"type\":\"GlyphRenderer\"},{\"attributes\":{\"callback\":null,\"column_names\":[\"x_values\",\"y_values\"],\"data\":{\"chart_index\":[{\"label\":16},{\"label\":16},{\"label\":16},{\"label\":16},{\"label\":16},{\"label\":16},{\"label\":16},{\"label\":16},{\"label\":16},{\"label\":16}],\"label\":[16,16,16,16,16,16,16,16,16,16],\"x_values\":[2.9681222438812256,2.4675378799438477,-1.0777325630187988,3.3126161098480225,3.2728805541992188,1.5370863676071167,1.2174792289733887,1.2363206148147583,-1.459420919418335,3.2818095684051514],\"y_values\":[-7.168288707733154,-2.019458770751953,2.680067777633667,-1.9840811491012573,-9.016207695007324,-2.221712112426758,-1.4862136840820312,-10.463414192199707,3.484518051147461,-8.393914222717285]}},\"id\":\"e8b0bf7a-c933-4128-95f7-9680e58ffe6b\",\"type\":\"ColumnDataSource\"},{\"attributes\":{\"fill_alpha\":{\"value\":0.7},\"fill_color\":{\"value\":\"#407ee7\"},\"line_color\":{\"value\":\"#407ee7\"},\"size\":{\"units\":\"screen\",\"value\":8},\"x\":{\"field\":\"x_values\"},\"y\":{\"field\":\"y_values\"}},\"id\":\"6978563d-dff7-48b9-a713-544846c825ff\",\"type\":\"Circle\"},{\"attributes\":{\"bottom_units\":\"screen\",\"fill_alpha\":{\"value\":0.5},\"fill_color\":{\"value\":\"lightgrey\"},\"left_units\":\"screen\",\"level\":\"overlay\",\"line_alpha\":{\"value\":1.0},\"line_color\":{\"value\":\"black\"},\"line_dash\":[4,4],\"line_width\":{\"value\":2},\"plot\":null,\"render_mode\":\"css\",\"right_units\":\"screen\",\"top_units\":\"screen\"},\"id\":\"a08f7882-040b-4fa1-a64b-4ff71d9a5108\",\"type\":\"BoxAnnotation\"},{\"attributes\":{\"data_source\":{\"id\":\"9312cbab-0a6c-42e0-a79e-3df6f8d63479\",\"type\":\"ColumnDataSource\"},\"glyph\":{\"id\":\"055eaae6-9009-4bac-bc6a-51d2cd23bd9f\",\"type\":\"Circle\"},\"hover_glyph\":null,\"nonselection_glyph\":null,\"selection_glyph\":null},\"id\":\"d7fa7004-75f5-4330-abc3-6d1d125b5c32\",\"type\":\"GlyphRenderer\"},{\"attributes\":{},\"id\":\"01b22879-3ade-4aa0-92ad-4890ce74916e\",\"type\":\"BasicTickFormatter\"},{\"attributes\":{\"fill_alpha\":{\"value\":0.7},\"fill_color\":{\"value\":\"#f22c40\"},\"line_color\":{\"value\":\"#f22c40\"},\"size\":{\"units\":\"screen\",\"value\":8},\"x\":{\"field\":\"x_values\"},\"y\":{\"field\":\"y_values\"}},\"id\":\"fdb2ff5f-fac4-4cb5-b94c-3a6b4d29e77f\",\"type\":\"Circle\"},{\"attributes\":{\"plot\":{\"id\":\"81a87778-c681-4b0b-9c30-910cb82ed909\",\"subtype\":\"Chart\",\"type\":\"Plot\"}},\"id\":\"fc56a42b-cf18-43c9-b6c2-0eb0b4171460\",\"type\":\"ResizeTool\"},{\"attributes\":{\"callback\":null,\"column_names\":[\"x_values\",\"y_values\"],\"data\":{\"chart_index\":[{\"label\":37},{\"label\":37},{\"label\":37},{\"label\":37},{\"label\":37},{\"label\":37},{\"label\":37},{\"label\":37},{\"label\":37},{\"label\":37}],\"label\":[37,37,37,37,37,37,37,37,37,37],\"x_values\":[-1.513728380203247,-1.199013352394104,2.027881622314453,0.4068095088005066,2.366240978240967,-0.4553266167640686,1.6133921146392822,-0.9922347068786621,-1.1848722696304321,2.5635571479797363],\"y_values\":[1.6339417695999146,1.8441368341445923,1.3411438465118408,3.2994461059570312,-3.8998119831085205,1.966468334197998,-1.7083145380020142,-0.12953272461891174,2.4509942531585693,-4.140124320983887]}},\"id\":\"2e298adb-48bb-4249-a352-074d00f4b5b4\",\"type\":\"ColumnDataSource\"},{\"attributes\":{\"data_source\":{\"id\":\"91ff59da-fce4-4507-946c-6fdf860cc35f\",\"type\":\"ColumnDataSource\"},\"glyph\":{\"id\":\"ac225972-0397-4b93-ba72-e1e348caf99f\",\"type\":\"Circle\"},\"hover_glyph\":null,\"nonselection_glyph\":null,\"selection_glyph\":null},\"id\":\"21cfaa59-7435-4c87-8309-4ba74477a58f\",\"type\":\"GlyphRenderer\"},{\"attributes\":{\"fill_alpha\":{\"value\":0.7},\"fill_color\":{\"value\":\"#407ee7\"},\"line_color\":{\"value\":\"#407ee7\"},\"size\":{\"units\":\"screen\",\"value\":8},\"x\":{\"field\":\"x_values\"},\"y\":{\"field\":\"y_values\"}},\"id\":\"fbc042e5-5b1a-409f-98e2-ff4da11ce6fe\",\"type\":\"Circle\"},{\"attributes\":{\"fill_alpha\":{\"value\":0.7},\"fill_color\":{\"value\":\"#00ad9c\"},\"line_color\":{\"value\":\"#00ad9c\"},\"size\":{\"units\":\"screen\",\"value\":8},\"x\":{\"field\":\"x_values\"},\"y\":{\"field\":\"y_values\"}},\"id\":\"ac225972-0397-4b93-ba72-e1e348caf99f\",\"type\":\"Circle\"},{\"attributes\":{\"data_source\":{\"id\":\"209403a2-7def-4d02-b07b-529340238b1c\",\"type\":\"ColumnDataSource\"},\"glyph\":{\"id\":\"8582b509-19fa-4437-b75a-5470dc61215e\",\"type\":\"Circle\"},\"hover_glyph\":null,\"nonselection_glyph\":null,\"selection_glyph\":null},\"id\":\"8b9f4349-52b9-497a-9432-8938acfdb2aa\",\"type\":\"GlyphRenderer\"},{\"attributes\":{\"fill_alpha\":{\"value\":0.7},\"fill_color\":{\"value\":\"#00ad9c\"},\"line_color\":{\"value\":\"#00ad9c\"},\"size\":{\"units\":\"screen\",\"value\":8},\"x\":{\"field\":\"x_values\"},\"y\":{\"field\":\"y_values\"}},\"id\":\"869147ba-9db0-4058-88cb-e4744b786bcc\",\"type\":\"Circle\"},{\"attributes\":{\"data_source\":{\"id\":\"4f667ccd-92d1-40ab-9a2a-111ecd177f24\",\"type\":\"ColumnDataSource\"},\"glyph\":{\"id\":\"64b16642-4cd1-43b2-9da7-967e1c2813e4\",\"type\":\"Circle\"},\"hover_glyph\":null,\"nonselection_glyph\":null,\"selection_glyph\":null},\"id\":\"7407ef4b-dc0b-4b18-ad92-b72380779973\",\"type\":\"GlyphRenderer\"},{\"attributes\":{\"plot\":{\"id\":\"81a87778-c681-4b0b-9c30-910cb82ed909\",\"subtype\":\"Chart\",\"type\":\"Plot\"},\"ticker\":{\"id\":\"76bf503b-0b1a-4beb-bb84-d8c260493b74\",\"type\":\"BasicTicker\"}},\"id\":\"58378ff0-4ca4-4bcf-bdcc-8e18935e15f8\",\"type\":\"Grid\"},{\"attributes\":{\"data_source\":{\"id\":\"fd5a54f4-f239-40c6-b9ee-7e41cc44de4c\",\"type\":\"ColumnDataSource\"},\"glyph\":{\"id\":\"29f20e98-7827-49b6-9968-a220f96eba56\",\"type\":\"Circle\"},\"hover_glyph\":null,\"nonselection_glyph\":null,\"selection_glyph\":null},\"id\":\"ce6f8223-ac40-4f02-9fec-27fc74d716d9\",\"type\":\"GlyphRenderer\"},{\"attributes\":{\"callback\":null,\"column_names\":[\"x_values\",\"y_values\"],\"data\":{\"chart_index\":[{\"label\":8},{\"label\":8},{\"label\":8},{\"label\":8},{\"label\":8},{\"label\":8},{\"label\":8},{\"label\":8},{\"label\":8},{\"label\":8}],\"label\":[8,8,8,8,8,8,8,8,8,8],\"x_values\":[-3.1680541038513184,0.8302692770957947,0.7009539604187012,0.9566541314125061,-3.0100250244140625,1.8563021421432495,0.9772772789001465,-3.7080018520355225,0.2221243530511856,1.9772586822509766],\"y_values\":[1.8669191598892212,0.49285072088241577,-3.583251953125,-1.6304391622543335,0.14911150932312012,-3.498755931854248,-1.2931230068206787,0.33807575702667236,-0.4854734539985657,-1.523591160774231]}},\"id\":\"bd5e9e74-5e3d-48df-9189-40876efda25c\",\"type\":\"ColumnDataSource\"},{\"attributes\":{\"callback\":null,\"column_names\":[\"x_values\",\"y_values\"],\"data\":{\"chart_index\":[{\"label\":35},{\"label\":35},{\"label\":35},{\"label\":35},{\"label\":35},{\"label\":35},{\"label\":35},{\"label\":35},{\"label\":35},{\"label\":35}],\"label\":[35,35,35,35,35,35,35,35,35,35],\"x_values\":[6.448578834533691,7.743756294250488,3.3792765140533447,1.6120926141738892,1.9110682010650635,1.8946410417556763,2.0309407711029053,1.9247467517852783,2.2504723072052,3.484269142150879],\"y_values\":[-1.079744815826416,-0.6562932729721069,-1.7001240253448486,-4.893566131591797,-4.832358360290527,-4.805163383483887,-3.144172191619873,-4.291697978973389,-4.254171848297119,-2.784695625305176]}},\"id\":\"59a42268-fe4a-4459-8528-28daa9fa7d4e\",\"type\":\"ColumnDataSource\"},{\"attributes\":{\"fill_alpha\":{\"value\":0.7},\"fill_color\":{\"value\":\"#5ab738\"},\"line_color\":{\"value\":\"#5ab738\"},\"size\":{\"units\":\"screen\",\"value\":8},\"x\":{\"field\":\"x_values\"},\"y\":{\"field\":\"y_values\"}},\"id\":\"d4f81ba2-07f1-4c99-8c02-36086e164692\",\"type\":\"Circle\"},{\"attributes\":{\"callback\":null,\"end\":13.024292755126954,\"start\":-13.541573333740235},\"id\":\"0ed0619b-a7c5-4b31-a9db-f2ac980d1439\",\"type\":\"Range1d\"},{\"attributes\":{},\"id\":\"8b9c1c54-a3c9-47b3-bf5d-854ef9483a7d\",\"type\":\"ToolEvents\"},{\"attributes\":{\"data_source\":{\"id\":\"6d44db94-c436-4e61-88c2-6da83a917432\",\"type\":\"ColumnDataSource\"},\"glyph\":{\"id\":\"d96f94b8-ea09-40a8-bf20-86e05222325e\",\"type\":\"Circle\"},\"hover_glyph\":null,\"nonselection_glyph\":null,\"selection_glyph\":null},\"id\":\"e5e0a532-0894-43b5-ba17-b5d766c773ba\",\"type\":\"GlyphRenderer\"},{\"attributes\":{\"callback\":null,\"column_names\":[\"x_values\",\"y_values\"],\"data\":{\"chart_index\":[{\"label\":7},{\"label\":7},{\"label\":7},{\"label\":7},{\"label\":7},{\"label\":7},{\"label\":7},{\"label\":7},{\"label\":7},{\"label\":7}],\"label\":[7,7,7,7,7,7,7,7,7,7],\"x_values\":[7.446714878082275,-0.3593907058238983,6.831791400909424,-2.3762454986572266,1.8550710678100586,2.3707432746887207,7.60521936416626,6.391336917877197,5.682675838470459,4.2744245529174805],\"y_values\":[-6.557558059692383,9.941801071166992,4.827301025390625,10.810470581054688,9.064497947692871,6.675821781158447,4.725943565368652,3.8126373291015625,5.024226188659668,4.928189277648926]}},\"id\":\"da76e018-f4bb-43a6-803a-6043e9cb964e\",\"type\":\"ColumnDataSource\"},{\"attributes\":{\"callback\":null,\"column_names\":[\"x_values\",\"y_values\"],\"data\":{\"chart_index\":[{\"label\":20},{\"label\":20},{\"label\":20},{\"label\":20},{\"label\":20},{\"label\":20},{\"label\":20},{\"label\":20},{\"label\":20},{\"label\":20}],\"label\":[20,20,20,20,20,20,20,20,20,20],\"x_values\":[-0.7402089834213257,-5.4821038246154785,-1.7124887704849243,-2.252892255783081,-1.2186487913131714,-1.5915865898132324,-5.262489318847656,-2.274611711502075,-1.675713062286377,-4.9336090087890625],\"y_values\":[-6.013627529144287,-1.0232523679733276,-0.9931549429893494,-0.7718801498413086,-0.7797701954841614,-5.643030166625977,-3.4770119190216064,-5.954158782958984,-2.4489858150482178,-2.6191225051879883]}},\"id\":\"a91c5a04-57c3-4b21-993c-bf6db804f982\",\"type\":\"ColumnDataSource\"},{\"attributes\":{\"callback\":null,\"column_names\":[\"x_values\",\"y_values\"],\"data\":{\"chart_index\":[{\"label\":26},{\"label\":26},{\"label\":26},{\"label\":26},{\"label\":26},{\"label\":26},{\"label\":26},{\"label\":26},{\"label\":26},{\"label\":26}],\"label\":[26,26,26,26,26,26,26,26,26,26],\"x_values\":[0.49878326058387756,-0.42502108216285706,1.0630797147750854,0.8874430060386658,1.1016578674316406,1.6309210062026978,1.0843291282653809,1.6399359703063965,1.2599611282348633,-0.3109462559223175],\"y_values\":[3.9327874183654785,4.8092803955078125,3.1082262992858887,4.447976112365723,3.562115430831909,3.1257870197296143,3.205815315246582,3.584294557571411,3.54192852973938,4.047102928161621]}},\"id\":\"d8955a99-898d-4625-b1bf-d935447d1034\",\"type\":\"ColumnDataSource\"},{\"attributes\":{\"callback\":null,\"column_names\":[\"x_values\",\"y_values\"],\"data\":{\"chart_index\":[{\"label\":5},{\"label\":5},{\"label\":5},{\"label\":5},{\"label\":5},{\"label\":5},{\"label\":5},{\"label\":5},{\"label\":5},{\"label\":5}],\"label\":[5,5,5,5,5,5,5,5,5,5],\"x_values\":[10.08565902709961,10.115407943725586,5.0195159912109375,10.960087776184082,10.445859909057617,4.373446464538574,10.024085998535156,4.4246368408203125,10.316659927368164,9.790045738220215],\"y_values\":[-1.5840280055999756,-2.7517552375793457,2.270437002182007,-0.5151304006576538,-3.552506685256958,2.22044038772583,-4.91502571105957,2.778714656829834,1.3172580003738403,-0.9147647619247437]}},\"id\":\"8c2cc81f-d2ad-482b-8151-8b707b9c92b3\",\"type\":\"ColumnDataSource\"},{\"attributes\":{\"data_source\":{\"id\":\"36c7f9bd-1c3b-4b9f-b32e-0091ac6a8fa0\",\"type\":\"ColumnDataSource\"},\"glyph\":{\"id\":\"ad2d6d83-3aa0-4a03-a7d5-5e4ae338784c\",\"type\":\"Circle\"},\"hover_glyph\":null,\"nonselection_glyph\":null,\"selection_glyph\":null},\"id\":\"d5223059-4e56-4e72-b76f-3042ad49749f\",\"type\":\"GlyphRenderer\"},{\"attributes\":{\"fill_alpha\":{\"value\":0.7},\"fill_color\":{\"value\":\"#c33ff3\"},\"line_color\":{\"value\":\"#c33ff3\"},\"size\":{\"units\":\"screen\",\"value\":8},\"x\":{\"field\":\"x_values\"},\"y\":{\"field\":\"y_values\"}},\"id\":\"7a3ca92c-bcc5-47f4-b59e-cf8eebdb7fa1\",\"type\":\"Circle\"},{\"attributes\":{\"callback\":null,\"end\":13.190491867065429,\"start\":-13.574357223510741},\"id\":\"f031b3db-98ab-4934-8707-18223a1b3583\",\"type\":\"Range1d\"},{\"attributes\":{\"callback\":null,\"column_names\":[\"x_values\",\"y_values\"],\"data\":{\"chart_index\":[{\"label\":14},{\"label\":14},{\"label\":14},{\"label\":14},{\"label\":14},{\"label\":14},{\"label\":14},{\"label\":14},{\"label\":14},{\"label\":14}],\"label\":[14,14,14,14,14,14,14,14,14,14],\"x_values\":[1.1792503595352173,0.9379686713218689,0.14388878643512726,1.1665575504302979,-0.07333797961473465,1.4038931131362915,-0.011463984847068787,-0.19145263731479645,1.0656520128250122,0.1966545730829239],\"y_values\":[-0.686190664768219,1.749204158782959,-0.8750749230384827,1.5295737981796265,0.5956300497055054,1.4045195579528809,0.04363071173429489,-0.3415062725543976,1.7035950422286987,0.4567536413669586]}},\"id\":\"5ce3e0a0-56a7-4499-87ca-9fc2fa7b41e3\",\"type\":\"ColumnDataSource\"},{\"attributes\":{\"fill_alpha\":{\"value\":0.7},\"fill_color\":{\"value\":\"#407ee7\"},\"line_color\":{\"value\":\"#407ee7\"},\"size\":{\"units\":\"screen\",\"value\":8},\"x\":{\"field\":\"x_values\"},\"y\":{\"field\":\"y_values\"}},\"id\":\"c1f6f6d3-1846-4977-b64b-f23b22674be3\",\"type\":\"Circle\"},{\"attributes\":{\"callback\":null,\"column_names\":[\"x_values\",\"y_values\"],\"data\":{\"chart_index\":[{\"label\":23},{\"label\":23},{\"label\":23},{\"label\":23},{\"label\":23},{\"label\":23},{\"label\":23},{\"label\":23},{\"label\":23},{\"label\":23}],\"label\":[23,23,23,23,23,23,23,23,23,23],\"x_values\":[-0.9717932939529419,-1.5501610040664673,-2.509714365005493,-2.572338342666626,0.3468303680419922,0.36316606402397156,0.5671628713607788,0.5813804268836975,-1.7600430250167847,1.0007234811782837],\"y_values\":[-7.392938613891602,-7.764472007751465,3.7258660793304443,-10.020020484924316,-3.594623327255249,-0.9592249989509583,-0.7285982966423035,-2.3312149047851562,-8.087265014648438,-2.205955982208252]}},\"id\":\"42c7e412-eea9-445f-a3bf-7c53bcf9081a\",\"type\":\"ColumnDataSource\"},{\"attributes\":{\"axis_label\":\"PC2\",\"formatter\":{\"id\":\"01b22879-3ade-4aa0-92ad-4890ce74916e\",\"type\":\"BasicTickFormatter\"},\"plot\":{\"id\":\"81a87778-c681-4b0b-9c30-910cb82ed909\",\"subtype\":\"Chart\",\"type\":\"Plot\"},\"ticker\":{\"id\":\"c0cf54f7-0dce-4773-9113-46dd37c3327f\",\"type\":\"BasicTicker\"}},\"id\":\"181f5784-f8ae-4c46-bfc6-b5de7d98989a\",\"type\":\"LinearAxis\"},{\"attributes\":{\"axis_label\":\"PC1\",\"formatter\":{\"id\":\"17171518-161e-46bb-a16f-de32faee8e9f\",\"type\":\"BasicTickFormatter\"},\"plot\":{\"id\":\"81a87778-c681-4b0b-9c30-910cb82ed909\",\"subtype\":\"Chart\",\"type\":\"Plot\"},\"ticker\":{\"id\":\"76bf503b-0b1a-4beb-bb84-d8c260493b74\",\"type\":\"BasicTicker\"}},\"id\":\"2431c3e2-1950-4bdd-8ff2-a1a07829a125\",\"type\":\"LinearAxis\"},{\"attributes\":{\"data_source\":{\"id\":\"7e3bcc5f-092b-4a8c-a6be-362e77e4fe28\",\"type\":\"ColumnDataSource\"},\"glyph\":{\"id\":\"8beaaaa6-4d5a-414a-b839-4f755111b9b1\",\"type\":\"Circle\"},\"hover_glyph\":null,\"nonselection_glyph\":null,\"selection_glyph\":null},\"id\":\"be6d6b41-9a06-4dad-9ce7-462bcd99dcd3\",\"type\":\"GlyphRenderer\"},{\"attributes\":{\"data_source\":{\"id\":\"2fe1e3a4-3e4e-4707-8b06-93dd90e25b5d\",\"type\":\"ColumnDataSource\"},\"glyph\":{\"id\":\"bfeb4688-98c9-47b2-a968-102083fa9bbb\",\"type\":\"Circle\"},\"hover_glyph\":null,\"nonselection_glyph\":null,\"selection_glyph\":null},\"id\":\"ea18758d-6891-48a7-a077-c19ad6e7ecd9\",\"type\":\"GlyphRenderer\"},{\"attributes\":{\"fill_alpha\":{\"value\":0.7},\"fill_color\":{\"value\":\"#407ee7\"},\"line_color\":{\"value\":\"#407ee7\"},\"size\":{\"units\":\"screen\",\"value\":8},\"x\":{\"field\":\"x_values\"},\"y\":{\"field\":\"y_values\"}},\"id\":\"3a155a7d-040d-4eff-817b-654aa1e2c743\",\"type\":\"Circle\"},{\"attributes\":{\"fill_alpha\":{\"value\":0.7},\"fill_color\":{\"value\":\"#f22c40\"},\"line_color\":{\"value\":\"#f22c40\"},\"size\":{\"units\":\"screen\",\"value\":8},\"x\":{\"field\":\"x_values\"},\"y\":{\"field\":\"y_values\"}},\"id\":\"ad2d6d83-3aa0-4a03-a7d5-5e4ae338784c\",\"type\":\"Circle\"},{\"attributes\":{\"fill_alpha\":{\"value\":0.7},\"fill_color\":{\"value\":\"#df5320\"},\"line_color\":{\"value\":\"#df5320\"},\"size\":{\"units\":\"screen\",\"value\":8},\"x\":{\"field\":\"x_values\"},\"y\":{\"field\":\"y_values\"}},\"id\":\"718b24e0-2d10-443c-a203-4f105f941830\",\"type\":\"Circle\"},{\"attributes\":{\"fill_alpha\":{\"value\":0.7},\"fill_color\":{\"value\":\"#407ee7\"},\"line_color\":{\"value\":\"#407ee7\"},\"size\":{\"units\":\"screen\",\"value\":8},\"x\":{\"field\":\"x_values\"},\"y\":{\"field\":\"y_values\"}},\"id\":\"50b73780-b599-43b7-a560-28bebd8690f5\",\"type\":\"Circle\"},{\"attributes\":{\"callback\":null,\"column_names\":[\"x_values\",\"y_values\"],\"data\":{\"chart_index\":[{\"label\":19},{\"label\":19},{\"label\":19},{\"label\":19},{\"label\":19},{\"label\":19},{\"label\":19},{\"label\":19},{\"label\":19},{\"label\":19}],\"label\":[19,19,19,19,19,19,19,19,19,19],\"x_values\":[3.3121800422668457,-4.4110846519470215,-3.333822250366211,-3.419267416000366,3.252434015274048,3.8129985332489014,2.0553832054138184,-0.1509871482849121,-0.28016549348831177,-3.250704288482666],\"y_values\":[-2.6017472743988037,2.061194658279419,2.143458843231201,2.625540256500244,-2.0252254009246826,-3.5363104343414307,-3.503899335861206,-1.2566869258880615,-1.4034149646759033,1.1497926712036133]}},\"id\":\"e78db745-f15c-47e3-be86-52bd5273118f\",\"type\":\"ColumnDataSource\"},{\"attributes\":{\"data_source\":{\"id\":\"cd3ca772-0e1d-42e8-95f0-1cf84fe316dd\",\"type\":\"ColumnDataSource\"},\"glyph\":{\"id\":\"059dc245-c1c6-440c-b98c-4146df2f8210\",\"type\":\"Circle\"},\"hover_glyph\":null,\"nonselection_glyph\":null,\"selection_glyph\":null},\"id\":\"486859c4-8bd8-4f0f-9727-1b129e141fb3\",\"type\":\"GlyphRenderer\"},{\"attributes\":{\"data_source\":{\"id\":\"90a50a1b-7876-4f89-ba38-451c92732e8b\",\"type\":\"ColumnDataSource\"},\"glyph\":{\"id\":\"fdb2ff5f-fac4-4cb5-b94c-3a6b4d29e77f\",\"type\":\"Circle\"},\"hover_glyph\":null,\"nonselection_glyph\":null,\"selection_glyph\":null},\"id\":\"f5c86bf6-567e-46ef-b463-d3e3b7b80b54\",\"type\":\"GlyphRenderer\"},{\"attributes\":{\"callback\":null,\"column_names\":[\"x_values\",\"y_values\"],\"data\":{\"chart_index\":[{\"label\":39},{\"label\":39},{\"label\":39},{\"label\":39},{\"label\":39},{\"label\":39},{\"label\":39},{\"label\":39},{\"label\":39},{\"label\":39}],\"label\":[39,39,39,39,39,39,39,39,39,39],\"x_values\":[1.1505056619644165,-1.200210690498352,-1.3030173778533936,0.7395964860916138,3.9397802352905273,5.17674446105957,3.509493827819824,4.433150291442871,-2.0407674312591553,5.165241241455078],\"y_values\":[-2.4350311756134033,0.7534218430519104,1.6297552585601807,-2.607468366622925,-2.6000025272369385,-5.82551908493042,-1.116646647453308,-2.04345703125,1.5096180438995361,-8.096757888793945]}},\"id\":\"cec31277-edf7-4b9d-a6d6-158ee9ddc12d\",\"type\":\"ColumnDataSource\"},{\"attributes\":{\"data_source\":{\"id\":\"a3a0e996-4fb3-4a28-8dfb-60239c072c3b\",\"type\":\"ColumnDataSource\"},\"glyph\":{\"id\":\"1b536f81-de95-4a41-b860-0231359e8177\",\"type\":\"Circle\"},\"hover_glyph\":null,\"nonselection_glyph\":null,\"selection_glyph\":null},\"id\":\"3e6f9a07-edf2-421c-85a4-df12a3c075b8\",\"type\":\"GlyphRenderer\"},{\"attributes\":{\"fill_alpha\":{\"value\":0.7},\"fill_color\":{\"value\":\"#df5320\"},\"line_color\":{\"value\":\"#df5320\"},\"size\":{\"units\":\"screen\",\"value\":8},\"x\":{\"field\":\"x_values\"},\"y\":{\"field\":\"y_values\"}},\"id\":\"ce08369f-f713-4fc9-bc69-42e03323a12d\",\"type\":\"Circle\"},{\"attributes\":{\"fill_alpha\":{\"value\":0.7},\"fill_color\":{\"value\":\"#f22c40\"},\"line_color\":{\"value\":\"#f22c40\"},\"size\":{\"units\":\"screen\",\"value\":8},\"x\":{\"field\":\"x_values\"},\"y\":{\"field\":\"y_values\"}},\"id\":\"d96f94b8-ea09-40a8-bf20-86e05222325e\",\"type\":\"Circle\"},{\"attributes\":{\"plot\":{\"id\":\"81a87778-c681-4b0b-9c30-910cb82ed909\",\"subtype\":\"Chart\",\"type\":\"Plot\"}},\"id\":\"7d7d0d87-3e11-46b1-9082-980b38681991\",\"type\":\"WheelZoomTool\"},{\"attributes\":{\"callback\":null,\"column_names\":[\"x_values\",\"y_values\"],\"data\":{\"chart_index\":[{\"label\":32},{\"label\":32},{\"label\":32},{\"label\":32},{\"label\":32},{\"label\":32},{\"label\":32},{\"label\":32},{\"label\":32},{\"label\":32}],\"label\":[32,32,32,32,32,32,32,32,32,32],\"x_values\":[-7.690403461456299,-7.8903889656066895,-4.857945442199707,-4.178678035736084,-7.400118827819824,-4.238139629364014,-4.691532135009766,-4.312597751617432,-8.206053733825684,-8.19426441192627],\"y_values\":[-1.0245823860168457,-0.6830053925514221,-5.488572597503662,-3.3029375076293945,-3.278762102127075,-4.174069881439209,-1.2987053394317627,-2.670417070388794,-0.7867975831031799,-0.15599672496318817]}},\"id\":\"fd5a54f4-f239-40c6-b9ee-7e41cc44de4c\",\"type\":\"ColumnDataSource\"},{\"attributes\":{\"overlay\":{\"id\":\"a08f7882-040b-4fa1-a64b-4ff71d9a5108\",\"type\":\"BoxAnnotation\"},\"plot\":{\"id\":\"81a87778-c681-4b0b-9c30-910cb82ed909\",\"subtype\":\"Chart\",\"type\":\"Plot\"}},\"id\":\"1284a9d4-3c2f-4fd5-ace9-21102450165a\",\"type\":\"BoxZoomTool\"},{\"attributes\":{\"fill_alpha\":{\"value\":0.7},\"fill_color\":{\"value\":\"#5ab738\"},\"line_color\":{\"value\":\"#5ab738\"},\"size\":{\"units\":\"screen\",\"value\":8},\"x\":{\"field\":\"x_values\"},\"y\":{\"field\":\"y_values\"}},\"id\":\"8103f0ee-cdad-410e-a0cc-08ddad1fadee\",\"type\":\"Circle\"},{\"attributes\":{\"fill_alpha\":{\"value\":0.7},\"fill_color\":{\"value\":\"#5ab738\"},\"line_color\":{\"value\":\"#5ab738\"},\"size\":{\"units\":\"screen\",\"value\":8},\"x\":{\"field\":\"x_values\"},\"y\":{\"field\":\"y_values\"}},\"id\":\"e782fa62-8c67-45d8-bf9e-297edfd9ff52\",\"type\":\"Circle\"},{\"attributes\":{\"fill_alpha\":{\"value\":0.7},\"fill_color\":{\"value\":\"#407ee7\"},\"line_color\":{\"value\":\"#407ee7\"},\"size\":{\"units\":\"screen\",\"value\":8},\"x\":{\"field\":\"x_values\"},\"y\":{\"field\":\"y_values\"}},\"id\":\"29f20e98-7827-49b6-9968-a220f96eba56\",\"type\":\"Circle\"},{\"attributes\":{\"data_source\":{\"id\":\"a80da91e-d7f1-438f-a56e-d5481fc7309d\",\"type\":\"ColumnDataSource\"},\"glyph\":{\"id\":\"2fdca43d-edcb-490c-abbf-ad2f98275c5f\",\"type\":\"Circle\"},\"hover_glyph\":null,\"nonselection_glyph\":null,\"selection_glyph\":null},\"id\":\"fff1a38c-303e-47ab-9c5c-26f747ba6fbf\",\"type\":\"GlyphRenderer\"},{\"attributes\":{\"callback\":null,\"column_names\":[\"x_values\",\"y_values\"],\"data\":{\"chart_index\":[{\"label\":17},{\"label\":17},{\"label\":17},{\"label\":17},{\"label\":17},{\"label\":17},{\"label\":17},{\"label\":17},{\"label\":17},{\"label\":17}],\"label\":[17,17,17,17,17,17,17,17,17,17],\"x_values\":[5.730083465576172,5.747660160064697,5.484682559967041,1.819553256034851,6.728872299194336,3.2163569927215576,6.040311813354492,4.187580108642578,3.6809279918670654,4.1052350997924805],\"y_values\":[1.653835415840149,-1.360191822052002,3.180426597595215,1.5294053554534912,-2.51960825920105,2.020524740219116,0.9213395118713379,-0.6191313862800598,-0.4042169153690338,-1.9917203187942505]}},\"id\":\"f08e8bd5-3cfb-4f71-8418-0f09a9e00696\",\"type\":\"ColumnDataSource\"},{\"attributes\":{\"data_source\":{\"id\":\"f08e8bd5-3cfb-4f71-8418-0f09a9e00696\",\"type\":\"ColumnDataSource\"},\"glyph\":{\"id\":\"b501ba5d-40bb-4728-88ab-06ad38a6b786\",\"type\":\"Circle\"},\"hover_glyph\":null,\"nonselection_glyph\":null,\"selection_glyph\":null},\"id\":\"ab3233b2-27f2-4c69-902d-292b487651dc\",\"type\":\"GlyphRenderer\"},{\"attributes\":{\"callback\":null,\"column_names\":[\"x_values\",\"y_values\"],\"data\":{\"chart_index\":[{\"label\":12},{\"label\":12},{\"label\":12},{\"label\":12},{\"label\":12},{\"label\":12},{\"label\":12},{\"label\":12},{\"label\":12},{\"label\":12}],\"label\":[12,12,12,12,12,12,12,12,12,12],\"x_values\":[2.3618977069854736,2.7274649143218994,-0.8970737457275391,1.7682862281799316,2.4151992797851562,1.2603402137756348,1.0786654949188232,-1.3341487646102905,2.0161917209625244,1.9159178733825684],\"y_values\":[-1.0429033041000366,-3.0310606956481934,-0.7990296483039856,-6.704297065734863,-1.8723713159561157,3.4831480979919434,-3.902869939804077,0.7121487855911255,0.08575096726417542,-4.8021321296691895]}},\"id\":\"6d44db94-c436-4e61-88c2-6da83a917432\",\"type\":\"ColumnDataSource\"},{\"attributes\":{\"callback\":null,\"column_names\":[\"x_values\",\"y_values\"],\"data\":{\"chart_index\":[{\"label\":27},{\"label\":27},{\"label\":27},{\"label\":27},{\"label\":27},{\"label\":27},{\"label\":27},{\"label\":27},{\"label\":27},{\"label\":27}],\"label\":[27,27,27,27,27,27,27,27,27,27],\"x_values\":[1.9589567184448242,0.6441624760627747,-0.7670769691467285,0.3738592863082886,-1.7110780477523804,0.2752208113670349,0.8484626412391663,2.1587233543395996,1.846455454826355,0.12502028048038483],\"y_values\":[-0.4179646670818329,1.4426671266555786,2.615582227706909,2.2197484970092773,2.338566541671753,2.284802198410034,1.1803570985794067,-2.4169998168945312,1.7986565828323364,3.5843772888183594]}},\"id\":\"907a6cac-1165-4b4e-80c9-58a94a85e1f9\",\"type\":\"ColumnDataSource\"},{\"attributes\":{\"fill_alpha\":{\"value\":0.7},\"fill_color\":{\"value\":\"#f22c40\"},\"line_color\":{\"value\":\"#f22c40\"},\"size\":{\"units\":\"screen\",\"value\":8},\"x\":{\"field\":\"x_values\"},\"y\":{\"field\":\"y_values\"}},\"id\":\"bfeb4688-98c9-47b2-a968-102083fa9bbb\",\"type\":\"Circle\"},{\"attributes\":{\"callback\":null,\"column_names\":[\"x_values\",\"y_values\"],\"data\":{\"chart_index\":[{\"label\":34},{\"label\":34},{\"label\":34},{\"label\":34},{\"label\":34},{\"label\":34},{\"label\":34},{\"label\":34},{\"label\":34},{\"label\":34}],\"label\":[34,34,34,34,34,34,34,34,34,34],\"x_values\":[-4.869929790496826,1.620708703994751,1.6612193584442139,-4.497891426086426,1.0113328695297241,-4.48448371887207,-3.3777027130126953,-0.9052825570106506,-0.4456721544265747,-0.45809608697891235],\"y_values\":[0.5586644411087036,-7.074333190917969,-7.139773845672607,-0.9614993333816528,-6.37092399597168,0.8576385974884033,-3.0887327194213867,1.9460861682891846,0.6857091784477234,-0.48262640833854675]}},\"id\":\"209403a2-7def-4d02-b07b-529340238b1c\",\"type\":\"ColumnDataSource\"},{\"attributes\":{\"callback\":null,\"column_names\":[\"x_values\",\"y_values\"],\"data\":{\"chart_index\":[{\"label\":22},{\"label\":22},{\"label\":22},{\"label\":22},{\"label\":22},{\"label\":22},{\"label\":22},{\"label\":22},{\"label\":22},{\"label\":22}],\"label\":[22,22,22,22,22,22,22,22,22,22],\"x_values\":[2.29020357131958,5.272836685180664,2.4153013229370117,-0.5546103715896606,4.938863277435303,3.463876485824585,5.598765850067139,0.6463837623596191,-0.2357594519853592,3.3760485649108887],\"y_values\":[-1.6483538150787354,-3.398324966430664,-1.0804061889648438,2.0020883083343506,0.9933987259864807,3.729163408279419,-4.250290393829346,0.43428748846054077,1.502372145652771,2.837601661682129]}},\"id\":\"70a70c2f-0098-4e9c-888b-7ebbd29a3d9a\",\"type\":\"ColumnDataSource\"},{\"attributes\":{\"data_source\":{\"id\":\"5f52b48b-3a3b-4c75-8d92-052d23e2d65a\",\"type\":\"ColumnDataSource\"},\"glyph\":{\"id\":\"7a7bbf55-2b53-4619-a2a2-1feecdfbc333\",\"type\":\"Circle\"},\"hover_glyph\":null,\"nonselection_glyph\":null,\"selection_glyph\":null},\"id\":\"48872f79-ddba-4ac6-9814-c5b70bc2307f\",\"type\":\"GlyphRenderer\"},{\"attributes\":{\"fill_alpha\":{\"value\":0.7},\"fill_color\":{\"value\":\"#df5320\"},\"line_color\":{\"value\":\"#df5320\"},\"size\":{\"units\":\"screen\",\"value\":8},\"x\":{\"field\":\"x_values\"},\"y\":{\"field\":\"y_values\"}},\"id\":\"f72eaa8b-90c1-46cc-a98b-b31f03452af6\",\"type\":\"Circle\"},{\"attributes\":{\"fill_alpha\":{\"value\":0.7},\"fill_color\":{\"value\":\"#df5320\"},\"line_color\":{\"value\":\"#df5320\"},\"size\":{\"units\":\"screen\",\"value\":8},\"x\":{\"field\":\"x_values\"},\"y\":{\"field\":\"y_values\"}},\"id\":\"5534f58e-0301-4329-a095-a0831727ebf6\",\"type\":\"Circle\"},{\"attributes\":{\"data_source\":{\"id\":\"b6284554-2be6-48e5-8dfd-6122295f86c2\",\"type\":\"ColumnDataSource\"},\"glyph\":{\"id\":\"c1f6f6d3-1846-4977-b64b-f23b22674be3\",\"type\":\"Circle\"},\"hover_glyph\":null,\"nonselection_glyph\":null,\"selection_glyph\":null},\"id\":\"3bbf96ed-6685-4d7f-9181-bdad27ad621d\",\"type\":\"GlyphRenderer\"},{\"attributes\":{\"fill_alpha\":{\"value\":0.7},\"fill_color\":{\"value\":\"#c33ff3\"},\"line_color\":{\"value\":\"#c33ff3\"},\"size\":{\"units\":\"screen\",\"value\":8},\"x\":{\"field\":\"x_values\"},\"y\":{\"field\":\"y_values\"}},\"id\":\"8beaaaa6-4d5a-414a-b839-4f755111b9b1\",\"type\":\"Circle\"},{\"attributes\":{\"callback\":null,\"column_names\":[\"x_values\",\"y_values\"],\"data\":{\"chart_index\":[{\"label\":13},{\"label\":13},{\"label\":13},{\"label\":13},{\"label\":13},{\"label\":13},{\"label\":13},{\"label\":13},{\"label\":13},{\"label\":13}],\"label\":[13,13,13,13,13,13,13,13,13,13],\"x_values\":[-0.8157939910888672,0.4160442054271698,-0.8981574773788452,0.4090080261230469,1.8916747570037842,0.17362359166145325,-1.3511037826538086,-0.07411927729845047,0.5734155178070068,-0.9796628952026367],\"y_values\":[4.144041061401367,0.9197108149528503,4.430136203765869,0.19281278550624847,0.9245865345001221,0.7702341675758362,4.9248552322387695,1.9558125734329224,2.1276111602783203,3.889040470123291]}},\"id\":\"32cb1a46-6315-41d1-a681-03a87beb68c8\",\"type\":\"ColumnDataSource\"},{\"attributes\":{\"fill_alpha\":{\"value\":0.7},\"fill_color\":{\"value\":\"#c33ff3\"},\"line_color\":{\"value\":\"#c33ff3\"},\"size\":{\"units\":\"screen\",\"value\":8},\"x\":{\"field\":\"x_values\"},\"y\":{\"field\":\"y_values\"}},\"id\":\"b501ba5d-40bb-4728-88ab-06ad38a6b786\",\"type\":\"Circle\"},{\"attributes\":{\"data_source\":{\"id\":\"d8955a99-898d-4625-b1bf-d935447d1034\",\"type\":\"ColumnDataSource\"},\"glyph\":{\"id\":\"a8801667-69e7-4a88-b5ae-045bde5ef5d3\",\"type\":\"Circle\"},\"hover_glyph\":null,\"nonselection_glyph\":null,\"selection_glyph\":null},\"id\":\"9c3ee2fe-9e54-45c6-b412-5da5f49bd5e7\",\"type\":\"GlyphRenderer\"},{\"attributes\":{\"callback\":null,\"column_names\":[\"x_values\",\"y_values\"],\"data\":{\"chart_index\":[{\"label\":1},{\"label\":1},{\"label\":1},{\"label\":1},{\"label\":1},{\"label\":1},{\"label\":1},{\"label\":1},{\"label\":1},{\"label\":1}],\"label\":[1,1,1,1,1,1,1,1,1,1],\"x_values\":[0.5241196751594543,0.07263775914907455,1.1188304424285889,0.7148512005805969,-0.30994081497192383,-0.5794985294342041,-0.45678451657295227,-0.9517238140106201,0.26286202669143677,0.8253287076950073],\"y_values\":[2.5747344493865967,4.245053291320801,1.0128567218780518,2.0237083435058594,2.4402637481689453,4.626735687255859,3.823636054992676,1.359154224395752,1.5716750621795654,3.136654853820801]}},\"id\":\"c7095179-d282-447f-acf6-25ed8143bcdc\",\"type\":\"ColumnDataSource\"},{\"attributes\":{\"fill_alpha\":{\"value\":0.7},\"fill_color\":{\"value\":\"#c33ff3\"},\"line_color\":{\"value\":\"#c33ff3\"},\"size\":{\"units\":\"screen\",\"value\":8},\"x\":{\"field\":\"x_values\"},\"y\":{\"field\":\"y_values\"}},\"id\":\"c59a6dd4-091f-4d64-a11d-b58a419a0e46\",\"type\":\"Circle\"},{\"attributes\":{\"data_source\":{\"id\":\"59a42268-fe4a-4459-8528-28daa9fa7d4e\",\"type\":\"ColumnDataSource\"},\"glyph\":{\"id\":\"b918ac70-4cc6-44dc-b0b3-6cb7ed64fc91\",\"type\":\"Circle\"},\"hover_glyph\":null,\"nonselection_glyph\":null,\"selection_glyph\":null},\"id\":\"7dc33aed-df76-456f-b75b-cb380a98dc7f\",\"type\":\"GlyphRenderer\"},{\"attributes\":{\"fill_alpha\":{\"value\":0.7},\"fill_color\":{\"value\":\"#00ad9c\"},\"line_color\":{\"value\":\"#00ad9c\"},\"size\":{\"units\":\"screen\",\"value\":8},\"x\":{\"field\":\"x_values\"},\"y\":{\"field\":\"y_values\"}},\"id\":\"8582b509-19fa-4437-b75a-5470dc61215e\",\"type\":\"Circle\"},{\"attributes\":{\"data_source\":{\"id\":\"e78db745-f15c-47e3-be86-52bd5273118f\",\"type\":\"ColumnDataSource\"},\"glyph\":{\"id\":\"e782fa62-8c67-45d8-bf9e-297edfd9ff52\",\"type\":\"Circle\"},\"hover_glyph\":null,\"nonselection_glyph\":null,\"selection_glyph\":null},\"id\":\"c7b10b4e-26b7-4033-b6f3-9024b1e5bc07\",\"type\":\"GlyphRenderer\"},{\"attributes\":{\"fill_alpha\":{\"value\":0.7},\"fill_color\":{\"value\":\"#407ee7\"},\"line_color\":{\"value\":\"#407ee7\"},\"size\":{\"units\":\"screen\",\"value\":8},\"x\":{\"field\":\"x_values\"},\"y\":{\"field\":\"y_values\"}},\"id\":\"a8801667-69e7-4a88-b5ae-045bde5ef5d3\",\"type\":\"Circle\"},{\"attributes\":{},\"id\":\"c0cf54f7-0dce-4773-9113-46dd37c3327f\",\"type\":\"BasicTicker\"},{\"attributes\":{\"data_source\":{\"id\":\"ed786c55-1cd0-416e-901c-1a5c5ca3c13e\",\"type\":\"ColumnDataSource\"},\"glyph\":{\"id\":\"718b24e0-2d10-443c-a203-4f105f941830\",\"type\":\"Circle\"},\"hover_glyph\":null,\"nonselection_glyph\":null,\"selection_glyph\":null},\"id\":\"a0af9020-bbbc-422a-b085-36714d8f93e5\",\"type\":\"GlyphRenderer\"},{\"attributes\":{\"callback\":null,\"column_names\":[\"x_values\",\"y_values\"],\"data\":{\"chart_index\":[{\"label\":29},{\"label\":29},{\"label\":29},{\"label\":29},{\"label\":29},{\"label\":29},{\"label\":29},{\"label\":29},{\"label\":29},{\"label\":29}],\"label\":[29,29,29,29,29,29,29,29,29,29],\"x_values\":[-4.384499549865723,-4.536953449249268,-4.489211559295654,-1.6513503789901733,-4.511266708374023,-2.424175262451172,-1.5034382343292236,-4.5515313148498535,-2.47613263130188,-2.9911980628967285],\"y_values\":[-1.0621235370635986,-0.5762002468109131,-1.1596726179122925,-0.6643447279930115,-0.3324068784713745,0.6888715624809265,-2.002432107925415,1.284165382385254,1.4342741966247559,2.727834701538086]}},\"id\":\"ec8c6f4a-0c57-4829-a5c1-acf3908a6244\",\"type\":\"ColumnDataSource\"},{\"attributes\":{\"data_source\":{\"id\":\"70a70c2f-0098-4e9c-888b-7ebbd29a3d9a\",\"type\":\"ColumnDataSource\"},\"glyph\":{\"id\":\"869147ba-9db0-4058-88cb-e4744b786bcc\",\"type\":\"Circle\"},\"hover_glyph\":null,\"nonselection_glyph\":null,\"selection_glyph\":null},\"id\":\"7de7c88e-58a5-4e58-a3b5-5936ce114553\",\"type\":\"GlyphRenderer\"},{\"attributes\":{\"data_source\":{\"id\":\"e8b0bf7a-c933-4128-95f7-9680e58ffe6b\",\"type\":\"ColumnDataSource\"},\"glyph\":{\"id\":\"330aae21-9b80-4371-b32c-0f9956d5504a\",\"type\":\"Circle\"},\"hover_glyph\":null,\"nonselection_glyph\":null,\"selection_glyph\":null},\"id\":\"3e7afbde-cf44-4cf5-b321-b5c03e441244\",\"type\":\"GlyphRenderer\"},{\"attributes\":{\"callback\":null,\"column_names\":[\"x_values\",\"y_values\"],\"data\":{\"chart_index\":[{\"label\":36},{\"label\":36},{\"label\":36},{\"label\":36},{\"label\":36},{\"label\":36},{\"label\":36},{\"label\":36},{\"label\":36},{\"label\":36}],\"label\":[36,36,36,36,36,36,36,36,36,36],\"x_values\":[-6.989459991455078,-6.655467510223389,-6.832425117492676,-6.569398403167725,-3.3484251499176025,-8.26184368133545,-4.799197673797607,-4.055965900421143,-2.541370153427124,-2.7664201259613037],\"y_values\":[1.115751028060913,1.1544828414916992,1.6627312898635864,0.9664802551269531,-2.8072171211242676,0.9405279755592346,-3.408277988433838,-1.4422364234924316,-2.8299484252929688,-3.0188961029052734]}},\"id\":\"90a50a1b-7876-4f89-ba38-451c92732e8b\",\"type\":\"ColumnDataSource\"},{\"attributes\":{\"callback\":null,\"column_names\":[\"x_values\",\"y_values\"],\"data\":{\"chart_index\":[{\"label\":30},{\"label\":30},{\"label\":30},{\"label\":30},{\"label\":30},{\"label\":30},{\"label\":30},{\"label\":30},{\"label\":30},{\"label\":30}],\"label\":[30,30,30,30,30,30,30,30,30,30],\"x_values\":[-3.8633739948272705,-3.9942588806152344,-3.7660863399505615,-3.3552193641662598,-3.108837127685547,-3.8306260108947754,-4.958186149597168,-3.8004024028778076,-3.398367166519165,-4.295428276062012],\"y_values\":[1.334571361541748,1.3772073984146118,1.5888800621032715,-3.396768808364868,-3.2987403869628906,-1.6274631023406982,-0.5954475998878479,1.0624951124191284,1.4957221746444702,-2.352417230606079]}},\"id\":\"2fe1e3a4-3e4e-4707-8b06-93dd90e25b5d\",\"type\":\"ColumnDataSource\"},{\"attributes\":{\"fill_alpha\":{\"value\":0.7},\"fill_color\":{\"value\":\"#00ad9c\"},\"line_color\":{\"value\":\"#00ad9c\"},\"size\":{\"units\":\"screen\",\"value\":8},\"x\":{\"field\":\"x_values\"},\"y\":{\"field\":\"y_values\"}},\"id\":\"2fdca43d-edcb-490c-abbf-ad2f98275c5f\",\"type\":\"Circle\"},{\"attributes\":{\"callback\":null,\"column_names\":[\"x_values\",\"y_values\"],\"data\":{\"chart_index\":[{\"label\":24},{\"label\":24},{\"label\":24},{\"label\":24},{\"label\":24},{\"label\":24},{\"label\":24},{\"label\":24},{\"label\":24},{\"label\":24}],\"label\":[24,24,24,24,24,24,24,24,24,24],\"x_values\":[1.9411821365356445,2.581686496734619,1.5660656690597534,-0.6728255152702332,-2.1276695728302,0.8575477004051208,-0.9304330945014954,0.052538201212882996,0.08496042340993881,1.7924506664276123],\"y_values\":[1.317607045173645,-3.374619483947754,2.661142587661743,4.214669227600098,4.604315280914307,3.7425639629364014,3.2967116832733154,-0.07127336412668228,2.2223308086395264,2.1667189598083496]}},\"id\":\"a3a0e996-4fb3-4a28-8dfb-60239c072c3b\",\"type\":\"ColumnDataSource\"},{\"attributes\":{\"dimension\":1,\"plot\":{\"id\":\"81a87778-c681-4b0b-9c30-910cb82ed909\",\"subtype\":\"Chart\",\"type\":\"Plot\"},\"ticker\":{\"id\":\"c0cf54f7-0dce-4773-9113-46dd37c3327f\",\"type\":\"BasicTicker\"}},\"id\":\"8d55fee9-9561-4f3e-b9aa-3331c38069cd\",\"type\":\"Grid\"},{\"attributes\":{\"fill_alpha\":{\"value\":0.7},\"fill_color\":{\"value\":\"#f22c40\"},\"line_color\":{\"value\":\"#f22c40\"},\"size\":{\"units\":\"screen\",\"value\":8},\"x\":{\"field\":\"x_values\"},\"y\":{\"field\":\"y_values\"}},\"id\":\"1b536f81-de95-4a41-b860-0231359e8177\",\"type\":\"Circle\"},{\"attributes\":{\"callback\":null,\"column_names\":[\"x_values\",\"y_values\"],\"data\":{\"chart_index\":[{\"label\":21},{\"label\":21},{\"label\":21},{\"label\":21},{\"label\":21},{\"label\":21},{\"label\":21},{\"label\":21},{\"label\":21},{\"label\":21}],\"label\":[21,21,21,21,21,21,21,21,21,21],\"x_values\":[-9.317702293395996,-10.053250312805176,-10.032326698303223,-10.528931617736816,-10.307974815368652,-9.89018726348877,-10.036036491394043,-9.682336807250977,-9.090726852416992,-9.57088565826416],\"y_values\":[-0.8017078638076782,-0.19509091973304749,-0.3125213384628296,-2.606868267059326,-0.757532000541687,-0.008908836171030998,-0.07782155275344849,-0.8554514050483704,-0.9229307770729065,-1.6038910150527954]}},\"id\":\"bd0a8d9c-c0e9-4088-89bf-a8ab072c6320\",\"type\":\"ColumnDataSource\"},{\"attributes\":{\"data_source\":{\"id\":\"da76e018-f4bb-43a6-803a-6043e9cb964e\",\"type\":\"ColumnDataSource\"},\"glyph\":{\"id\":\"d4f81ba2-07f1-4c99-8c02-36086e164692\",\"type\":\"Circle\"},\"hover_glyph\":null,\"nonselection_glyph\":null,\"selection_glyph\":null},\"id\":\"451f9187-af40-4bee-8b88-6ad2a63b4856\",\"type\":\"GlyphRenderer\"},{\"attributes\":{\"data_source\":{\"id\":\"32cb1a46-6315-41d1-a681-03a87beb68c8\",\"type\":\"ColumnDataSource\"},\"glyph\":{\"id\":\"afe277dc-a09f-41ae-a901-e843b7d96423\",\"type\":\"Circle\"},\"hover_glyph\":null,\"nonselection_glyph\":null,\"selection_glyph\":null},\"id\":\"672e968d-dd17-4cf0-8c18-add71ed9d50d\",\"type\":\"GlyphRenderer\"},{\"attributes\":{\"data_source\":{\"id\":\"5b9e4d38-ea88-421f-83eb-97d3bd186785\",\"type\":\"ColumnDataSource\"},\"glyph\":{\"id\":\"1fb1f2b9-a746-4432-b989-9b1e4df7f03a\",\"type\":\"Circle\"},\"hover_glyph\":null,\"nonselection_glyph\":null,\"selection_glyph\":null},\"id\":\"46aea4d3-91dc-4565-aac4-edb4a9ad0e72\",\"type\":\"GlyphRenderer\"},{\"attributes\":{\"fill_alpha\":{\"value\":0.7},\"fill_color\":{\"value\":\"#c33ff3\"},\"line_color\":{\"value\":\"#c33ff3\"},\"size\":{\"units\":\"screen\",\"value\":8},\"x\":{\"field\":\"x_values\"},\"y\":{\"field\":\"y_values\"}},\"id\":\"b918ac70-4cc6-44dc-b0b3-6cb7ed64fc91\",\"type\":\"Circle\"},{\"attributes\":{\"fill_alpha\":{\"value\":0.7},\"fill_color\":{\"value\":\"#c33ff3\"},\"line_color\":{\"value\":\"#c33ff3\"},\"size\":{\"units\":\"screen\",\"value\":8},\"x\":{\"field\":\"x_values\"},\"y\":{\"field\":\"y_values\"}},\"id\":\"f4b81904-21b9-416d-bf59-937b3a9dbf06\",\"type\":\"Circle\"},{\"attributes\":{\"callback\":null,\"column_names\":[\"x_values\",\"y_values\"],\"data\":{\"chart_index\":[{\"label\":4},{\"label\":4},{\"label\":4},{\"label\":4},{\"label\":4},{\"label\":4},{\"label\":4},{\"label\":4},{\"label\":4},{\"label\":4}],\"label\":[4,4,4,4,4,4,4,4,4,4],\"x_values\":[3.3549067974090576,5.834116458892822,1.3608593940734863,4.214545726776123,0.6597444415092468,-1.108500599861145,0.5870974659919739,3.922687292098999,-2.0512330532073975,1.9705266952514648],\"y_values\":[-5.279387950897217,-3.181342363357544,-1.2719426155090332,-6.049101829528809,-0.5056203007698059,2.581817388534546,-0.6373011469841003,-3.8465843200683594,3.077915668487549,-3.3787119388580322]}},\"id\":\"a80da91e-d7f1-438f-a56e-d5481fc7309d\",\"type\":\"ColumnDataSource\"},{\"attributes\":{\"data_source\":{\"id\":\"ec8c6f4a-0c57-4829-a5c1-acf3908a6244\",\"type\":\"ColumnDataSource\"},\"glyph\":{\"id\":\"f4b81904-21b9-416d-bf59-937b3a9dbf06\",\"type\":\"Circle\"},\"hover_glyph\":null,\"nonselection_glyph\":null,\"selection_glyph\":null},\"id\":\"ff889063-200d-40a7-bd92-59411bd871ee\",\"type\":\"GlyphRenderer\"},{\"attributes\":{\"callback\":null,\"column_names\":[\"x_values\",\"y_values\"],\"data\":{\"chart_index\":[{\"label\":31},{\"label\":31},{\"label\":31},{\"label\":31},{\"label\":31},{\"label\":31},{\"label\":31},{\"label\":31},{\"label\":31},{\"label\":31}],\"label\":[31,31,31,31,31,31,31,31,31,31],\"x_values\":[4.098613262176514,2.9269590377807617,2.5376431941986084,0.47625279426574707,1.4223568439483643,3.037686347961426,2.7992334365844727,3.193589210510254,0.9384956359863281,0.908464252948761],\"y_values\":[3.9882466793060303,4.410178184509277,4.8985161781311035,4.206087112426758,3.3642427921295166,4.951871871948242,4.087009429931641,2.676722764968872,3.0526340007781982,4.81695032119751]}},\"id\":\"5b9e4d38-ea88-421f-83eb-97d3bd186785\",\"type\":\"ColumnDataSource\"},{\"attributes\":{},\"id\":\"17171518-161e-46bb-a16f-de32faee8e9f\",\"type\":\"BasicTickFormatter\"},{\"attributes\":{\"data_source\":{\"id\":\"2e298adb-48bb-4249-a352-074d00f4b5b4\",\"type\":\"ColumnDataSource\"},\"glyph\":{\"id\":\"8103f0ee-cdad-410e-a0cc-08ddad1fadee\",\"type\":\"Circle\"},\"hover_glyph\":null,\"nonselection_glyph\":null,\"selection_glyph\":null},\"id\":\"87f0fb9d-04a3-423f-87a4-9b6fa8d3b1f7\",\"type\":\"GlyphRenderer\"},{\"attributes\":{\"data_source\":{\"id\":\"42c7e412-eea9-445f-a3bf-7c53bcf9081a\",\"type\":\"ColumnDataSource\"},\"glyph\":{\"id\":\"7a3ca92c-bcc5-47f4-b59e-cf8eebdb7fa1\",\"type\":\"Circle\"},\"hover_glyph\":null,\"nonselection_glyph\":null,\"selection_glyph\":null},\"id\":\"a1136671-332e-4eb0-a2a0-c41927914e3c\",\"type\":\"GlyphRenderer\"},{\"attributes\":{\"fill_alpha\":{\"value\":0.7},\"fill_color\":{\"value\":\"#df5320\"},\"line_color\":{\"value\":\"#df5320\"},\"size\":{\"units\":\"screen\",\"value\":8},\"x\":{\"field\":\"x_values\"},\"y\":{\"field\":\"y_values\"}},\"id\":\"21aa918e-36f8-4a52-a6be-718d440a9af6\",\"type\":\"Circle\"},{\"attributes\":{\"data_source\":{\"id\":\"0e27bde8-d3c5-4b64-bbfa-e0821886cbab\",\"type\":\"ColumnDataSource\"},\"glyph\":{\"id\":\"1c3e65d3-2371-46ab-b84d-23eaea87d80e\",\"type\":\"Circle\"},\"hover_glyph\":null,\"nonselection_glyph\":null,\"selection_glyph\":null},\"id\":\"0099dd10-f6b9-47e6-94f6-273da5de02b6\",\"type\":\"GlyphRenderer\"}],\"root_ids\":[\"81a87778-c681-4b0b-9c30-910cb82ed909\"]},\"title\":\"Bokeh Application\",\"version\":\"0.11.1\"}};\n",
       "            var render_items = [{\"docid\":\"15e3a38e-a86e-4458-88ea-77ba25d24ddc\",\"elementid\":\"f953d91a-4233-4fe0-99f9-45bb85d602c8\",\"modelid\":\"81a87778-c681-4b0b-9c30-910cb82ed909\",\"notebook_comms_target\":\"e2a71a62-4b95-4c7c-ba04-c721a633ad11\"}];\n",
       "            \n",
       "            Bokeh.embed.embed_items(docs_json, render_items);\n",
       "        });\n",
       "      },\n",
       "      function(Bokeh) {\n",
       "      }\n",
       "    ];\n",
       "  \n",
       "    function run_inline_js() {\n",
       "      for (var i = 0; i < inline_js.length; i++) {\n",
       "        inline_js[i](window.Bokeh);\n",
       "      }\n",
       "    }\n",
       "  \n",
       "    if (window._bokeh_is_loading === 0) {\n",
       "      console.log(\"Bokeh: BokehJS loaded, going straight to plotting\");\n",
       "      run_inline_js();\n",
       "    } else {\n",
       "      load_libs(js_urls, function() {\n",
       "        console.log(\"Bokeh: BokehJS plotting callback run at\", now());\n",
       "        run_inline_js();\n",
       "      });\n",
       "    }\n",
       "  }(this));\n",
       "</script>"
      ]
     },
     "metadata": {},
     "output_type": "display_data"
    },
    {
     "data": {
      "text/html": [
       "<p><code>&lt;Bokeh Notebook handle for <strong>In[17]</strong>&gt;</code></p>"
      ],
      "text/plain": [
       "<bokeh.io._CommsHandle at 0x11fe71160>"
      ]
     },
     "execution_count": 17,
     "metadata": {},
     "output_type": "execute_result"
    }
   ],
   "source": [
    "from bokeh.charts import Scatter, output_notebook, show\n",
    "\n",
    "p = Scatter(df, x='pc1', y='pc2', color='label', title=\"PC1 vs PC2\",\n",
    "            xlabel=\"PC1\", ylabel=\"PC2\")\n",
    "\n",
    "output_notebook()\n",
    "\n",
    "show(p)"
   ]
  },
  {
   "cell_type": "code",
   "execution_count": 18,
   "metadata": {
    "collapsed": true
   },
   "outputs": [],
   "source": [
    "pca_reconstruct = pca.inverse_transform(pcomp)"
   ]
  },
  {
   "cell_type": "code",
   "execution_count": 19,
   "metadata": {
    "collapsed": false
   },
   "outputs": [
    {
     "data": {
      "text/plain": [
       "(400, 4096)"
      ]
     },
     "execution_count": 19,
     "metadata": {},
     "output_type": "execute_result"
    }
   ],
   "source": [
    "pca_reconstruct.shape"
   ]
  },
  {
   "cell_type": "code",
   "execution_count": 20,
   "metadata": {
    "collapsed": true
   },
   "outputs": [],
   "source": [
    "def get_picture_array(X, rescale=2):\n",
    "    array = X.reshape(64,64)\n",
    "    array = np.clip(array, a_min = 0, a_max = 255)\n",
    "    return  array.repeat(rescale, axis = 0).repeat(rescale, axis = 1).astype(np.uint8())\n",
    "\n",
    "def compare_images(index):\n",
    "    print(index)\n",
    "    original_image = Image.fromarray(get_picture_array(255 * X[index]))\n",
    "    new_size = (original_image.size[0] * 2, original_image.size[1])\n",
    "    new_im = Image.new('L', new_size)\n",
    "    new_im.paste(original_image, (0,0))\n",
    "    rec_image = Image.fromarray(get_picture_array(255 * pca_reconstruct[index]))\n",
    "    new_im.paste(rec_image, (original_image.size[0],0))\n",
    "    new_im.save('test.png', format=\"PNG\")\n",
    "    return IPImage('test.png')"
   ]
  },
  {
   "cell_type": "code",
   "execution_count": 26,
   "metadata": {
    "collapsed": false
   },
   "outputs": [
    {
     "name": "stdout",
     "output_type": "stream",
     "text": [
      "6\n"
     ]
    },
    {
     "data": {
      "image/png": "[encoded data removed]",
      "text/plain": [
       "<IPython.core.display.Image object>"
      ]
     },
     "execution_count": 26,
     "metadata": {},
     "output_type": "execute_result"
    }
   ],
   "source": [
    "compare_images(6)"
   ]
  },
  {
   "cell_type": "code",
   "execution_count": 29,
   "metadata": {
    "collapsed": false
   },
   "outputs": [
    {
     "data": {
      "text/plain": [
       "(128, 128)"
      ]
     },
     "execution_count": 29,
     "metadata": {},
     "output_type": "execute_result"
    }
   ],
   "source": [
    "original_image = Image.fromarray(get_picture_array(255 * X[0]))\n",
    "original_image.size"
   ]
  },
  {
   "cell_type": "code",
   "execution_count": null,
   "metadata": {
    "collapsed": true
   },
   "outputs": [],
   "source": [
    "def compare_images_array(index):\n",
    "    length = len(index)\n",
    "    original_image = Image.fromarray(get_picture_array(255 * X[index[0]]))\n",
    "    width,height = original_image.size\n",
    "    new_size = (width * length, height*3)\n",
    "    new_im = Image.new('L', new_size)\n",
    "    for i in range(length):\n",
    "        original_image = Image.fromarray(get_picture_array(255 * X[index[i]]))\n",
    "        CAE_image = Image.fromarray(get_picture_array(255 * X_pred[index[i]]))\n",
    "        pca_image = Image.fromarray(get_picture_array(255 * pca_reconstruct[index[i]]))\n",
    "        new_im.paste(original_image, (i*width,0))\n",
    "        new_im.paste(CAE_image, (i*width,height))\n",
    "        new_im.paste(pca_image, (i*width,height*2))\n",
    "    new_im.save('test.png', format=\"PNG\")\n",
    "    return IPImage('test.png')"
   ]
  }
 ],
 "metadata": {
  "kernelspec": {
   "display_name": "Python 3",
   "language": "python",
   "name": "python3"
  },
  "language_info": {
   "codemirror_mode": {
    "name": "ipython",
    "version": 3
   },
   "file_extension": ".py",
   "mimetype": "text/x-python",
   "name": "python",
   "nbconvert_exporter": "python",
   "pygments_lexer": "ipython3",
   "version": "3.4.4"
  }
 },
 "nbformat": 4,
 "nbformat_minor": 0
}
