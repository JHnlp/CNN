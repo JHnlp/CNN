{
 "cells": [
  {
   "cell_type": "markdown",
   "metadata": {},
   "source": [
    "# example code of using lstm on high frequency price data\n",
    "\n",
    "inspired by the [lasagne example code](https://github.com/Lasagne/Lasagne/blob/master/examples/recurrent.py)"
   ]
  },
  {
   "cell_type": "code",
   "execution_count": 1,
   "metadata": {
    "collapsed": true
   },
   "outputs": [],
   "source": [
    "import sys\n",
    "import os\n",
    "import time\n",
    "import numpy as np\n",
    "import theano\n",
    "import theano.tensor as T\n",
    "import lasagne\n",
    "import pandas as pd\n"
   ]
  },
  {
   "cell_type": "code",
   "execution_count": 39,
   "metadata": {
    "collapsed": false
   },
   "outputs": [],
   "source": [
    "def loaddata():\n",
    "    data=pd.read_csv('hf.txt',usecols=(4,5),dtype=np.float32)\n",
    "    data=np.array(data)\n",
    "    target=np.log(data[:,0])\n",
    "    target=np.diff(target)\n",
    "    target=np.ndarray.astype(np.sign(target)+1,dtype=np.int32)\n",
    "    data[:,1]=data[:,1]/100\n",
    "    data=data.reshape(362023,1,2)\n",
    "    train_data=data[0:358000,:,:]\n",
    "    train_target=target[0:358000]\n",
    "    val_data=data[358000:360000,:,:]\n",
    "    val_target=target[358000:360000]\n",
    "    test_data=data[360000:362022,:,:]\n",
    "    test_target=target[360000:]\n",
    "    return train_data,train_target,val_data,val_target,test_data,test_target"
   ]
  },
  {
   "cell_type": "code",
   "execution_count": 40,
   "metadata": {
    "collapsed": true
   },
   "outputs": [],
   "source": [
    "N_HIDDEN = 100 #number of hidden nodes in the LSTM\n",
    "GRAD_CLIP = 200 #Gradient higher than this will be clipped"
   ]
  },
  {
   "cell_type": "code",
   "execution_count": 41,
   "metadata": {
    "collapsed": true
   },
   "outputs": [],
   "source": [
    "def main(num_epochs=100,learn_rate=0.01):\n",
    "    print(\"Building network ...\")\n",
    "    # First, we build the network, starting with an input layer\n",
    "    # Recurrent layers expect input of shape\n",
    "    # (batch size, max sequence length, number of features)\n",
    "    \n",
    "    l_in = lasagne.layers.InputLayer(shape=(None, 1, 2))\n",
    "    \n",
    "    l_forward = lasagne.layers.RecurrentLayer(\n",
    "        l_in, N_HIDDEN, grad_clipping=GRAD_CLIP,\n",
    "        W_in_to_hid=lasagne.init.HeUniform(),\n",
    "        W_hid_to_hid=lasagne.init.HeUniform(),\n",
    "        nonlinearity=lasagne.nonlinearities.tanh)\n",
    "    \n",
    "    l_out = lasagne.layers.DenseLayer(\n",
    "        l_forward, num_units=3, nonlinearity=lasagne.nonlinearities.softmax)\n",
    "\n",
    "    target_values = T.ivector('target_output')\n",
    "    \n",
    "    prediction = lasagne.layers.get_output(l_out)\n",
    "    loss = lasagne.objectives.categorical_crossentropy(prediction, target_values)\n",
    "    loss = loss.mean()\n",
    "    acc = T.mean(T.eq(T.argmax(prediction, axis=1), target_values),dtype=theano.config.floatX)\n",
    "    \n",
    "    all_params = lasagne.layers.get_all_params(l_out)\n",
    "    # Compute GD updates for training\n",
    "    print(\"Computing updates ...\")\n",
    "    updates = lasagne.updates.adagrad(loss, all_params,learn_rate)\n",
    "    # Theano functions for training and computing cost\n",
    "    print(\"Compiling functions ...\")\n",
    "    train = theano.function([l_in.input_var, target_values],\n",
    "                            loss, updates=updates)\n",
    "    accuracy = theano.function(\n",
    "        [l_in.input_var, target_values],acc )\n",
    "    \n",
    "    pred=theano.function([l_in.input_var],T.argmax(prediction, axis=1))\n",
    "\n",
    "    # We'll use this \"validation set\" to periodically check progress\n",
    "    \n",
    "    bestacc=0\n",
    "    \n",
    "    print(\"Training ...\")\n",
    "    try:\n",
    "        for epoch in range(num_epochs):\n",
    "            if epoch % 8 == 7:\n",
    "                learn_rate*=0.96\n",
    "            X, y,X_val,y_val,X_test,y_test = loaddata()\n",
    "            train(X, y)\n",
    "            val_acc = accuracy(X_val, y_val)\n",
    "            print(\"Epoch {} validation accuracy = {}\".format(epoch, val_acc))\n",
    "            if val_acc>bestacc:\n",
    "                bestacc=val_acc\n",
    "                test_acc=accuracy(X_test, y_test)\n",
    "                p=pred(X_test)\n",
    "                print(\"             best model's test accuracy = {}\".format(test_acc))\n",
    "    except KeyboardInterrupt:\n",
    "        pass\n",
    "    print(\"final model's test accuracy = {}\".format(test_acc))\n",
    "    return(p)\n"
   ]
  },
  {
   "cell_type": "code",
   "execution_count": 42,
   "metadata": {
    "collapsed": false
   },
   "outputs": [
    {
     "name": "stdout",
     "output_type": "stream",
     "text": [
      "Building network ...\n",
      "Computing updates ...\n",
      "Compiling functions ...\n",
      "Training ...\n",
      "Epoch 0 validation accuracy = 0.7985\n",
      "             best model's test accuracy = 0.6285855588526211\n",
      "Epoch 1 validation accuracy = 0.805\n",
      "             best model's test accuracy = 0.6345202769535113\n",
      "Epoch 2 validation accuracy = 0.8085\n",
      "             best model's test accuracy = 0.636003956478734\n",
      "Epoch 3 validation accuracy = 0.8095\n",
      "             best model's test accuracy = 0.636003956478734\n",
      "Epoch 4 validation accuracy = 0.811\n",
      "             best model's test accuracy = 0.6364985163204748\n",
      "Epoch 5 validation accuracy = 0.813\n",
      "             best model's test accuracy = 0.6364985163204748\n",
      "Epoch 6 validation accuracy = 0.814\n",
      "             best model's test accuracy = 0.6364985163204748\n",
      "Epoch 7 validation accuracy = 0.8145\n",
      "             best model's test accuracy = 0.636003956478734\n",
      "Epoch 8 validation accuracy = 0.8155\n",
      "             best model's test accuracy = 0.6374876360039565\n",
      "Epoch 9 validation accuracy = 0.817\n",
      "             best model's test accuracy = 0.6379821958456974\n",
      "Epoch 10 validation accuracy = 0.8175\n",
      "             best model's test accuracy = 0.6379821958456974\n",
      "Epoch 11 validation accuracy = 0.8165\n",
      "Epoch 12 validation accuracy = 0.8165\n",
      "Epoch 13 validation accuracy = 0.8165\n",
      "Epoch 14 validation accuracy = 0.8165\n",
      "Epoch 15 validation accuracy = 0.817\n",
      "Epoch 16 validation accuracy = 0.817\n",
      "Epoch 17 validation accuracy = 0.817\n",
      "Epoch 18 validation accuracy = 0.817\n",
      "Epoch 19 validation accuracy = 0.817\n",
      "Epoch 20 validation accuracy = 0.817\n",
      "Epoch 21 validation accuracy = 0.817\n",
      "Epoch 22 validation accuracy = 0.817\n",
      "Epoch 23 validation accuracy = 0.817\n",
      "Epoch 24 validation accuracy = 0.817\n",
      "Epoch 25 validation accuracy = 0.817\n",
      "Epoch 26 validation accuracy = 0.817\n",
      "Epoch 27 validation accuracy = 0.817\n",
      "Epoch 28 validation accuracy = 0.817\n",
      "Epoch 29 validation accuracy = 0.817\n",
      "Epoch 30 validation accuracy = 0.8175\n",
      "Epoch 31 validation accuracy = 0.818\n",
      "             best model's test accuracy = 0.6444114737883284\n",
      "Epoch 32 validation accuracy = 0.818\n",
      "Epoch 33 validation accuracy = 0.818\n",
      "Epoch 34 validation accuracy = 0.818\n",
      "Epoch 35 validation accuracy = 0.818\n",
      "Epoch 36 validation accuracy = 0.8185\n",
      "             best model's test accuracy = 0.6444114737883284\n",
      "Epoch 37 validation accuracy = 0.8185\n",
      "Epoch 38 validation accuracy = 0.8185\n",
      "Epoch 39 validation accuracy = 0.8185\n",
      "Epoch 40 validation accuracy = 0.8185\n",
      "Epoch 41 validation accuracy = 0.8185\n",
      "Epoch 42 validation accuracy = 0.8185\n",
      "Epoch 43 validation accuracy = 0.8185\n",
      "Epoch 44 validation accuracy = 0.8185\n",
      "Epoch 45 validation accuracy = 0.8185\n",
      "Epoch 46 validation accuracy = 0.8185\n",
      "Epoch 47 validation accuracy = 0.8185\n",
      "Epoch 48 validation accuracy = 0.8185\n",
      "Epoch 49 validation accuracy = 0.8185\n",
      "Epoch 50 validation accuracy = 0.8185\n",
      "Epoch 51 validation accuracy = 0.8185\n",
      "Epoch 52 validation accuracy = 0.8185\n",
      "Epoch 53 validation accuracy = 0.8185\n",
      "Epoch 54 validation accuracy = 0.8185\n",
      "Epoch 55 validation accuracy = 0.8185\n",
      "Epoch 56 validation accuracy = 0.8185\n",
      "Epoch 57 validation accuracy = 0.8185\n",
      "Epoch 58 validation accuracy = 0.8185\n",
      "Epoch 59 validation accuracy = 0.8185\n",
      "Epoch 60 validation accuracy = 0.8185\n",
      "Epoch 61 validation accuracy = 0.8185\n",
      "Epoch 62 validation accuracy = 0.8185\n",
      "Epoch 63 validation accuracy = 0.8185\n",
      "Epoch 64 validation accuracy = 0.8185\n",
      "Epoch 65 validation accuracy = 0.8185\n",
      "Epoch 66 validation accuracy = 0.8185\n",
      "Epoch 67 validation accuracy = 0.8185\n",
      "Epoch 68 validation accuracy = 0.8185\n",
      "Epoch 69 validation accuracy = 0.8185\n",
      "Epoch 70 validation accuracy = 0.8185\n",
      "Epoch 71 validation accuracy = 0.8185\n",
      "Epoch 72 validation accuracy = 0.8185\n",
      "Epoch 73 validation accuracy = 0.8185\n",
      "Epoch 74 validation accuracy = 0.8185\n",
      "Epoch 75 validation accuracy = 0.8185\n",
      "Epoch 76 validation accuracy = 0.8185\n",
      "Epoch 77 validation accuracy = 0.8185\n",
      "Epoch 78 validation accuracy = 0.8185\n",
      "Epoch 79 validation accuracy = 0.8185\n",
      "Epoch 80 validation accuracy = 0.8185\n",
      "Epoch 81 validation accuracy = 0.8185\n",
      "Epoch 82 validation accuracy = 0.8185\n",
      "Epoch 83 validation accuracy = 0.8185\n",
      "Epoch 84 validation accuracy = 0.8185\n",
      "Epoch 85 validation accuracy = 0.8185\n",
      "Epoch 86 validation accuracy = 0.8185\n",
      "Epoch 87 validation accuracy = 0.8185\n",
      "Epoch 88 validation accuracy = 0.8185\n",
      "Epoch 89 validation accuracy = 0.8185\n",
      "Epoch 90 validation accuracy = 0.8185\n",
      "Epoch 91 validation accuracy = 0.8185\n",
      "Epoch 92 validation accuracy = 0.8185\n",
      "Epoch 93 validation accuracy = 0.8185\n",
      "Epoch 94 validation accuracy = 0.8185\n",
      "Epoch 95 validation accuracy = 0.8185\n",
      "Epoch 96 validation accuracy = 0.8185\n",
      "Epoch 97 validation accuracy = 0.8185\n",
      "Epoch 98 validation accuracy = 0.8185\n",
      "Epoch 99 validation accuracy = 0.8185\n",
      "final model's test accuracy = 0.6444114737883284\n"
     ]
    },
    {
     "name": "stderr",
     "output_type": "stream",
     "text": [
      "/Users/ruiqiao/anaconda/lib/python3.4/site-packages/theano/scan_module/scan.py:1019: Warning: In the strict mode, all neccessary shared variables must be passed as a part of non_sequences\n",
      "  'must be passed as a part of non_sequences', Warning)\n"
     ]
    }
   ],
   "source": [
    "p=main(100)"
   ]
  },
  {
   "cell_type": "markdown",
   "metadata": {},
   "source": [
    "## A very simple strategy based on the prediction"
   ]
  },
  {
   "cell_type": "code",
   "execution_count": 45,
   "metadata": {
    "collapsed": false
   },
   "outputs": [
    {
     "data": {
      "text/plain": [
       "array([ 0.,  0.,  0., ...,  0.,  0.,  0.])"
      ]
     },
     "execution_count": 45,
     "metadata": {},
     "output_type": "execute_result"
    }
   ],
   "source": [
    "data=pd.read_csv('hf.txt',usecols=(4,5),dtype=np.float32)\n",
    "data=np.array(data)\n",
    "closeprice=data[360000:,0]\n",
    "closeprice\n",
    "benchmark=closeprice[0]\n",
    "dif=np.diff(closeprice)\n",
    "decision=p-1\n",
    "strategy_profit=decision*dif\n",
    "strategy_profit"
   ]
  },
  {
   "cell_type": "code",
   "execution_count": 48,
   "metadata": {
    "collapsed": false
   },
   "outputs": [],
   "source": [
    "sp_rate=(closeprice[1:]-benchmark)/benchmark\n",
    "profit_rate=np.cumsum(strategy_profit)/benchmark\n",
    "output = pd.DataFrame( data={\"sp\":sp_rate,\"strategy\":profit_rate} )\n",
    "output.to_csv( \"strat1.csv\", index=False, quoting=1 )"
   ]
  },
  {
   "cell_type": "markdown",
   "metadata": {},
   "source": [
    "![plot](hf.png)"
   ]
  },
  {
   "cell_type": "code",
   "execution_count": null,
   "metadata": {
    "collapsed": true
   },
   "outputs": [],
   "source": []
  }
 ],
 "metadata": {
  "kernelspec": {
   "display_name": "Python 3",
   "language": "python",
   "name": "python3"
  },
  "language_info": {
   "codemirror_mode": {
    "name": "ipython",
    "version": 3
   },
   "file_extension": ".py",
   "mimetype": "text/x-python",
   "name": "python",
   "nbconvert_exporter": "python",
   "pygments_lexer": "ipython3",
   "version": "3.4.3"
  }
 },
 "nbformat": 4,
 "nbformat_minor": 0
}
