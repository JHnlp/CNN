{
 "cells": [
  {
   "cell_type": "code",
   "execution_count": null,
   "metadata": {
    "collapsed": true
   },
   "outputs": [],
   "source": [
    "import sys\n",
    "import os\n",
    "import time\n",
    "import numpy as np\n",
    "import theano\n",
    "import theano.tensor as T\n",
    "import lasagne\n",
    "\n",
    "def Build_LSTM(input_var):\n",
    "    l_in = lasagne.layers.InputLayer(shape=(10,5,10),\n",
    "                                     input_var=input_var)\n",
    "    l_lstm = lasagne.layers.LSTMLayer(l_in, num_units=10,peepholes=False)\n",
    "    l_shp =lasagne.layers.ReshapeLayer(l_lstm, (-1, 10))\n",
    "    l_out = lasagne.layers.DenseLayer(l_shp, num_units=2,nonlinearity=lasagne.nonlinearities.softmax)\n",
    "    return l_out\n",
    "# Prepare Theano variables for inputs and targets\n",
    "input_var = T.tensor3('inputs')\n",
    "target_var = T.ivector('targets')\n",
    "# Create neural network model\n",
    "network = Build_LSTM(input_var)\n",
    "#The Network output or prediction\n",
    "prediction = lasagne.layers.get_output(network)\n",
    "# Set the Error Function\n",
    "loss = lasagne.objectives.categorical_crossentropy(prediction, target_var)\n",
    "loss = loss.mean()\n",
    "#pool the numpy shared variables\n",
    "params = lasagne.layers.get_all_params(network, trainable=True)\n",
    "\n",
    "#using adagrad to train the weights\n",
    "updates = lasagne.updates.adagrad(loss, params)\n",
    "#Initiate training. \n",
    "#Just doing a single pass and not worring about epochs and mini batches now\n",
    "train_fn = theano.function([input_var, target_var], loss, updates=updates)\n",
    "\n",
    "train_fn(TextBatch,ResultsBatch)"
   ]
  }
 ],
 "metadata": {
  "kernelspec": {
   "display_name": "Python 3",
   "language": "python",
   "name": "python3"
  },
  "language_info": {
   "codemirror_mode": {
    "name": "ipython",
    "version": 3
   },
   "file_extension": ".py",
   "mimetype": "text/x-python",
   "name": "python",
   "nbconvert_exporter": "python",
   "pygments_lexer": "ipython3",
   "version": "3.4.3"
  }
 },
 "nbformat": 4,
 "nbformat_minor": 0
}
